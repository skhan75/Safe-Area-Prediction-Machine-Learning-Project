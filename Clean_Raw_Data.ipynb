{
 "cells": [
  {
   "cell_type": "markdown",
   "metadata": {},
   "source": [
    "###  <U>SAFETY PREDICTION IN VARIOUS DISTRICTS OF CHICAGO IN DIFFERENT TIME OF THE YEAR</U>\n",
    "\n",
    "#### GROUP MEMBERS: \n",
    "1. Sami Ahmad Khan, A20352677\n",
    "2. Zeeshan Aamir Khavas, A20341778"
   ]
  },
  {
   "cell_type": "markdown",
   "metadata": {},
   "source": [
    "#### PROJECT DESCRIPTION:\n",
    "\n",
    "<b>TARGET:</b> \n",
    "<br>The target problem in this case is learning from the various types of crimes in various districts in Chicago and then predicting from the severity and number of occurrences of the crimes in all the districts of Chicago, the possibility of the occurence of crimes (safe and unsafe) in any district in the year 2017.\n",
    "The safety is classified on the basis of the following parameters:\n",
    "\n",
    "1. <b>Crime Type (Primary Type)</b> --> Each crime type has different crime score depending on the intensity or severeness of the crime in ascending order. For example, NARCOTICS has been assigned a score of 4 and THEFT has been assigned 1. <br>1 --> 4 (less sever --> extreme severe)\n",
    "2. <b>Arrest (True or False)</b> --> If there is an arrest for a particular crime in a particular district, we increase   the crime score by 1 and then calculate the total crime weightage for that district for that particular crime type.\n",
    "\n",
    "<b>DATASET LINK</b> \n",
    "<br>https://data.cityofchicago.org/api/views/kf95-mnd6/rows.csv?accessType=DOWNLOAD\n",
    "\n",
    "<b>PROCEDURE</b><br>\n",
    "We have followed the following steps in collecting and visualizing the data and eventually calculating the Label(Y):<br>\n",
    "1. First we have read the complete input file i.e. Crimes.csv using Pandas's read_csv() function<br>\n",
    "2. Then we create a new dataframe keeping the following columns: 'Date', 'Primary Type', 'Arrest', 'District' and 'Ward'<br>\n",
    "3. We then created a new column 'Crime Weightage' where we assign crime scores according to 'Primary Type' which can be seen in 'In[13]'.\n",
    "4. We then added two more new columns: 'Danger Value' and 'Label' in our dataframe.<br>\n",
    "   'Danger Value' is calculated by grouping the dataframe by 'Primary Type' and 'District' into a new dataframe 'cleaned_df' and then multiplying the 'Crime Weightage' and 'Counts'.<br>\n",
    "      Here, 'Crime Weightage' = crime score + arrest value<br>\n",
    "      and 'Counts' = no of times a particular crime has occured in a particular district (as can be seen in 'In[21]')<br>\n",
    "5. Then we populate the 'Danger Value' in our original dataframe 'new_df' with the Danger Value we calculated from 3.\n",
    "6. Now we calculated the Threshold for safe and unsafe labelling by calculating the mean (as seen in 'In[28]') for 'Danger Value' in our dataframe.<br>\n",
    "7. Based on out Threshold value we have populated the 'Label' column in our original dataframe.<br>\n",
    "   if('Danger Value' < Threshold) --> Label Safe --> 0<br>\n",
    "   else if('Danger Value' > Threshold) --> Label Unsafe --> 1\n",
    "8. Our final dataframe can be seen in In[29]\n",
    "   \n"
   ]
  },
  {
   "cell_type": "code",
   "execution_count": 1,
   "metadata": {
    "collapsed": true
   },
   "outputs": [],
   "source": [
    "import numpy as np\n",
    "import pandas as pd\n",
    "import datetime as dt\n",
    "import matplotlib.pyplot as plt\n",
    "import matplotlib as mpl\n",
    "from sklearn import preprocessing\n",
    "%matplotlib inline"
   ]
  },
  {
   "cell_type": "code",
   "execution_count": 2,
   "metadata": {
    "collapsed": true
   },
   "outputs": [],
   "source": [
    "#Input File\n",
    "input_file = \"Crimes.csv\""
   ]
  },
  {
   "cell_type": "code",
   "execution_count": 3,
   "metadata": {
    "collapsed": false
   },
   "outputs": [],
   "source": [
    "#Reading the input file and saving it as a Dataframe\n",
    "df = pd.read_csv(input_file, skip_blank_lines=True)\n",
    "keep_col = ['Date','Primary Type','Arrest','District','Ward']\n",
    "new_df = df[keep_col]"
   ]
  },
  {
   "cell_type": "code",
   "execution_count": 4,
   "metadata": {
    "collapsed": false,
    "scrolled": true
   },
   "outputs": [
    {
     "data": {
      "text/html": [
       "<div>\n",
       "<table border=\"1\" class=\"dataframe\">\n",
       "  <thead>\n",
       "    <tr style=\"text-align: right;\">\n",
       "      <th></th>\n",
       "      <th>Date</th>\n",
       "      <th>Primary Type</th>\n",
       "      <th>Arrest</th>\n",
       "      <th>District</th>\n",
       "      <th>Ward</th>\n",
       "    </tr>\n",
       "  </thead>\n",
       "  <tbody>\n",
       "    <tr>\n",
       "      <th>0</th>\n",
       "      <td>5/3/16 21:00</td>\n",
       "      <td>NARCOTICS</td>\n",
       "      <td>True</td>\n",
       "      <td>11</td>\n",
       "      <td>28</td>\n",
       "    </tr>\n",
       "    <tr>\n",
       "      <th>1</th>\n",
       "      <td>5/3/16 21:35</td>\n",
       "      <td>THEFT</td>\n",
       "      <td>False</td>\n",
       "      <td>8</td>\n",
       "      <td>13</td>\n",
       "    </tr>\n",
       "    <tr>\n",
       "      <th>2</th>\n",
       "      <td>5/3/16 14:45</td>\n",
       "      <td>ASSAULT</td>\n",
       "      <td>False</td>\n",
       "      <td>9</td>\n",
       "      <td>12</td>\n",
       "    </tr>\n",
       "    <tr>\n",
       "      <th>3</th>\n",
       "      <td>5/3/16 18:42</td>\n",
       "      <td>BATTERY</td>\n",
       "      <td>False</td>\n",
       "      <td>8</td>\n",
       "      <td>15</td>\n",
       "    </tr>\n",
       "    <tr>\n",
       "      <th>4</th>\n",
       "      <td>5/3/16 19:30</td>\n",
       "      <td>CRIMINAL DAMAGE</td>\n",
       "      <td>False</td>\n",
       "      <td>9</td>\n",
       "      <td>14</td>\n",
       "    </tr>\n",
       "    <tr>\n",
       "      <th>5</th>\n",
       "      <td>5/3/16 13:30</td>\n",
       "      <td>OTHER OFFENSE</td>\n",
       "      <td>False</td>\n",
       "      <td>11</td>\n",
       "      <td>28</td>\n",
       "    </tr>\n",
       "    <tr>\n",
       "      <th>6</th>\n",
       "      <td>5/3/16 19:30</td>\n",
       "      <td>THEFT</td>\n",
       "      <td>False</td>\n",
       "      <td>1</td>\n",
       "      <td>2</td>\n",
       "    </tr>\n",
       "    <tr>\n",
       "      <th>7</th>\n",
       "      <td>5/3/16 9:11</td>\n",
       "      <td>DECEPTIVE PRACTICE</td>\n",
       "      <td>False</td>\n",
       "      <td>1</td>\n",
       "      <td>42</td>\n",
       "    </tr>\n",
       "    <tr>\n",
       "      <th>8</th>\n",
       "      <td>5/3/16 6:30</td>\n",
       "      <td>THEFT</td>\n",
       "      <td>False</td>\n",
       "      <td>1</td>\n",
       "      <td>27</td>\n",
       "    </tr>\n",
       "    <tr>\n",
       "      <th>9</th>\n",
       "      <td>5/3/16 18:30</td>\n",
       "      <td>THEFT</td>\n",
       "      <td>False</td>\n",
       "      <td>16</td>\n",
       "      <td>41</td>\n",
       "    </tr>\n",
       "  </tbody>\n",
       "</table>\n",
       "</div>"
      ],
      "text/plain": [
       "           Date        Primary Type Arrest  District  Ward\n",
       "0  5/3/16 21:00           NARCOTICS   True        11    28\n",
       "1  5/3/16 21:35               THEFT  False         8    13\n",
       "2  5/3/16 14:45             ASSAULT  False         9    12\n",
       "3  5/3/16 18:42             BATTERY  False         8    15\n",
       "4  5/3/16 19:30     CRIMINAL DAMAGE  False         9    14\n",
       "5  5/3/16 13:30       OTHER OFFENSE  False        11    28\n",
       "6  5/3/16 19:30               THEFT  False         1     2\n",
       "7   5/3/16 9:11  DECEPTIVE PRACTICE  False         1    42\n",
       "8   5/3/16 6:30               THEFT  False         1    27\n",
       "9  5/3/16 18:30               THEFT  False        16    41"
      ]
     },
     "execution_count": 4,
     "metadata": {},
     "output_type": "execute_result"
    }
   ],
   "source": [
    "new_df.head(10)"
   ]
  },
  {
   "cell_type": "code",
   "execution_count": 5,
   "metadata": {
    "collapsed": false
   },
   "outputs": [],
   "source": [
    "new_df.insert(3,'Danger Value','')\n",
    "new_df.insert(5,'Label','')"
   ]
  },
  {
   "cell_type": "code",
   "execution_count": 6,
   "metadata": {
    "collapsed": false
   },
   "outputs": [],
   "source": [
    "new_df.insert(3,'Crime Weightage','')\n",
    "new_df.head()\n",
    "crime_type = new_df['Primary Type']\n",
    "crime_weightage = new_df['Crime Weightage']"
   ]
  },
  {
   "cell_type": "markdown",
   "metadata": {},
   "source": [
    "### New Columns added"
   ]
  },
  {
   "cell_type": "code",
   "execution_count": 7,
   "metadata": {
    "collapsed": false
   },
   "outputs": [
    {
     "data": {
      "text/html": [
       "<div>\n",
       "<table border=\"1\" class=\"dataframe\">\n",
       "  <thead>\n",
       "    <tr style=\"text-align: right;\">\n",
       "      <th></th>\n",
       "      <th>Date</th>\n",
       "      <th>Primary Type</th>\n",
       "      <th>Arrest</th>\n",
       "      <th>Crime Weightage</th>\n",
       "      <th>Danger Value</th>\n",
       "      <th>District</th>\n",
       "      <th>Label</th>\n",
       "      <th>Ward</th>\n",
       "    </tr>\n",
       "  </thead>\n",
       "  <tbody>\n",
       "    <tr>\n",
       "      <th>0</th>\n",
       "      <td>5/3/16 21:00</td>\n",
       "      <td>NARCOTICS</td>\n",
       "      <td>True</td>\n",
       "      <td></td>\n",
       "      <td></td>\n",
       "      <td>11</td>\n",
       "      <td></td>\n",
       "      <td>28</td>\n",
       "    </tr>\n",
       "    <tr>\n",
       "      <th>1</th>\n",
       "      <td>5/3/16 21:35</td>\n",
       "      <td>THEFT</td>\n",
       "      <td>False</td>\n",
       "      <td></td>\n",
       "      <td></td>\n",
       "      <td>8</td>\n",
       "      <td></td>\n",
       "      <td>13</td>\n",
       "    </tr>\n",
       "    <tr>\n",
       "      <th>2</th>\n",
       "      <td>5/3/16 14:45</td>\n",
       "      <td>ASSAULT</td>\n",
       "      <td>False</td>\n",
       "      <td></td>\n",
       "      <td></td>\n",
       "      <td>9</td>\n",
       "      <td></td>\n",
       "      <td>12</td>\n",
       "    </tr>\n",
       "    <tr>\n",
       "      <th>3</th>\n",
       "      <td>5/3/16 18:42</td>\n",
       "      <td>BATTERY</td>\n",
       "      <td>False</td>\n",
       "      <td></td>\n",
       "      <td></td>\n",
       "      <td>8</td>\n",
       "      <td></td>\n",
       "      <td>15</td>\n",
       "    </tr>\n",
       "    <tr>\n",
       "      <th>4</th>\n",
       "      <td>5/3/16 19:30</td>\n",
       "      <td>CRIMINAL DAMAGE</td>\n",
       "      <td>False</td>\n",
       "      <td></td>\n",
       "      <td></td>\n",
       "      <td>9</td>\n",
       "      <td></td>\n",
       "      <td>14</td>\n",
       "    </tr>\n",
       "    <tr>\n",
       "      <th>5</th>\n",
       "      <td>5/3/16 13:30</td>\n",
       "      <td>OTHER OFFENSE</td>\n",
       "      <td>False</td>\n",
       "      <td></td>\n",
       "      <td></td>\n",
       "      <td>11</td>\n",
       "      <td></td>\n",
       "      <td>28</td>\n",
       "    </tr>\n",
       "    <tr>\n",
       "      <th>6</th>\n",
       "      <td>5/3/16 19:30</td>\n",
       "      <td>THEFT</td>\n",
       "      <td>False</td>\n",
       "      <td></td>\n",
       "      <td></td>\n",
       "      <td>1</td>\n",
       "      <td></td>\n",
       "      <td>2</td>\n",
       "    </tr>\n",
       "    <tr>\n",
       "      <th>7</th>\n",
       "      <td>5/3/16 9:11</td>\n",
       "      <td>DECEPTIVE PRACTICE</td>\n",
       "      <td>False</td>\n",
       "      <td></td>\n",
       "      <td></td>\n",
       "      <td>1</td>\n",
       "      <td></td>\n",
       "      <td>42</td>\n",
       "    </tr>\n",
       "    <tr>\n",
       "      <th>8</th>\n",
       "      <td>5/3/16 6:30</td>\n",
       "      <td>THEFT</td>\n",
       "      <td>False</td>\n",
       "      <td></td>\n",
       "      <td></td>\n",
       "      <td>1</td>\n",
       "      <td></td>\n",
       "      <td>27</td>\n",
       "    </tr>\n",
       "    <tr>\n",
       "      <th>9</th>\n",
       "      <td>5/3/16 18:30</td>\n",
       "      <td>THEFT</td>\n",
       "      <td>False</td>\n",
       "      <td></td>\n",
       "      <td></td>\n",
       "      <td>16</td>\n",
       "      <td></td>\n",
       "      <td>41</td>\n",
       "    </tr>\n",
       "  </tbody>\n",
       "</table>\n",
       "</div>"
      ],
      "text/plain": [
       "           Date        Primary Type Arrest Crime Weightage Danger Value  \\\n",
       "0  5/3/16 21:00           NARCOTICS   True                                \n",
       "1  5/3/16 21:35               THEFT  False                                \n",
       "2  5/3/16 14:45             ASSAULT  False                                \n",
       "3  5/3/16 18:42             BATTERY  False                                \n",
       "4  5/3/16 19:30     CRIMINAL DAMAGE  False                                \n",
       "5  5/3/16 13:30       OTHER OFFENSE  False                                \n",
       "6  5/3/16 19:30               THEFT  False                                \n",
       "7   5/3/16 9:11  DECEPTIVE PRACTICE  False                                \n",
       "8   5/3/16 6:30               THEFT  False                                \n",
       "9  5/3/16 18:30               THEFT  False                                \n",
       "\n",
       "   District Label  Ward  \n",
       "0        11          28  \n",
       "1         8          13  \n",
       "2         9          12  \n",
       "3         8          15  \n",
       "4         9          14  \n",
       "5        11          28  \n",
       "6         1           2  \n",
       "7         1          42  \n",
       "8         1          27  \n",
       "9        16          41  "
      ]
     },
     "execution_count": 7,
     "metadata": {},
     "output_type": "execute_result"
    }
   ],
   "source": [
    "new_df.head(10)"
   ]
  },
  {
   "cell_type": "markdown",
   "metadata": {},
   "source": [
    "### Total count of different crimes in whole Chicago"
   ]
  },
  {
   "cell_type": "code",
   "execution_count": 8,
   "metadata": {
    "collapsed": false
   },
   "outputs": [
    {
     "data": {
      "text/plain": [
       "<matplotlib.axes._subplots.AxesSubplot at 0x1162327f0>"
      ]
     },
     "execution_count": 8,
     "metadata": {},
     "output_type": "execute_result"
    },
    {
     "data": {
      "image/png": "[encoded data removed]",
      "text/plain": [
       "<matplotlib.figure.Figure at 0x116207748>"
      ]
     },
     "metadata": {},
     "output_type": "display_data"
    }
   ],
   "source": [
    "#Total count of different crimes in whole Chicago\n",
    "fig, ax = plt.subplots()\n",
    "df['Primary Type'].value_counts().plot(ax=ax, kind='bar')"
   ]
  },
  {
   "cell_type": "code",
   "execution_count": 9,
   "metadata": {
    "collapsed": false
   },
   "outputs": [
    {
     "data": {
      "text/plain": [
       "Index(['Date', 'Primary Type', 'Arrest', 'Crime Weightage', 'Danger Value',\n",
       "       'District', 'Label', 'Ward'],\n",
       "      dtype='object')"
      ]
     },
     "execution_count": 9,
     "metadata": {},
     "output_type": "execute_result"
    }
   ],
   "source": [
    "new_df.columns"
   ]
  },
  {
   "cell_type": "code",
   "execution_count": 10,
   "metadata": {
    "collapsed": false
   },
   "outputs": [],
   "source": [
    "mymap = {'THEFT':1,'BATTERY':2,'CRIMINAL DAMAGE':3,'ASSAULT':4,'OTHER OFFENSE':5,\n",
    "         'DECEPTIVE PRACTICE':6,'BURGLARY':7,'NARCOTICS':8,'ROBBERY':9,'MOTOR VEHICLE THEFT':10,\n",
    "         'CRIMINAL TRESPASS':11,'WEAPONS VIOLATION':12,'OFFENSE INVOLVING CHILDREN':13,'PUBLIC PEACE VIOLATION':14,\n",
    "         'CRIM SEXUAL ASSAULT':15,'SEX OFFENSE':16,'INTERFERENCE WITH PUBLIC OFFICER':17,'PROSTITUTION':18,'HOMICIDE':19,'ARSON':20,'LIQUOR LAW VIOLATION':21,\n",
    "        'GAMBLING':22,'KIDNAPPING':23,'STALKING':24,'INTIMIDATION':25,'NON-CRIMINAL':26,'OBSCENITY':27,'CONCEALED CARRY LICENSE VIOLATION':28,'PUBLIC INDECENCY':29,\n",
    "        'HUMAN TRAFFICKING':30,'NON - CRIMINAL':31,'OTHER NARCOTIC VIOLATION':32,'NON-CRIMINAL (SUBJECT SPECIFIED)':33}"
   ]
  },
  {
   "cell_type": "code",
   "execution_count": 11,
   "metadata": {
    "collapsed": true
   },
   "outputs": [],
   "source": [
    "crime_type = pd.Series(new_df['Primary Type'])"
   ]
  },
  {
   "cell_type": "markdown",
   "metadata": {},
   "source": [
    "mymap = {'THEFT':1,'BATTERY':2,'CRIMINAL DAMAGE':3,'ASSAULT':4,'OTHER OFFENSE':5,\n",
    "         'DECEPTIVE PRACTICE':6,'BURGLARY':7,'NARCOTICS':8,'ROBBERY':9,'MOTOR VEHICLE THEFT':10,\n",
    "         'CRIMINAL TRESPASS':11,'WEAPONS VIOLATION':12,'OFFENSE INVOLVING CHILDREN':13,'PUBLIC PEACE VIOLATION':14,\n",
    "         'CRIM SEXUAL ASSAULT':15,'SEX OFFENSE':16,'INTERFERENCE WITH PUBLIC OFFICER':17,'PROSTITUTION':18,'HOMICIDE':19,'ARSON':20,'LIQUOR LAW VIOLATION':21,\n",
    "        'GAMBLING':22,'KIDNAPPING':23,'STALKING':24,'INTIMIDATION':25,'NON-CRIMINAL':26,'OBSCENITY':27,'CONCEALED CARRY LICENSE VIOLATION':28,'PUBLIC INDECENCY':29,\n",
    "        'HUMAN TRAFFICKING':30,'NON - CRIMINAL':31,'OTHER NARCOTIC VIOLATION':32,'NON-CRIMINAL (SUBJECT SPECIFIED)':33}"
   ]
  },
  {
   "cell_type": "markdown",
   "metadata": {},
   "source": [
    "### Function to assign Crime Scores to different Crime Types (Primary Types)"
   ]
  },
  {
   "cell_type": "code",
   "execution_count": 12,
   "metadata": {
    "collapsed": false
   },
   "outputs": [],
   "source": [
    "def crime_score(x):\n",
    "    \n",
    "    if x=='THEFT':\n",
    "        return 1\n",
    "    elif x=='BATTERY':\n",
    "        return 2\n",
    "    elif x =='CRIMINAL DAMAGE':\n",
    "        return 3\n",
    "    elif x == 'ASSAULT':\n",
    "        return 3\n",
    "    elif x == 'OTHER OFFENSE': #delete this entry\n",
    "        return 2\n",
    "    elif x == 'DECEPTIVE PRACTICE':\n",
    "        return 1\n",
    "    elif x == 'BURGLARY':\n",
    "        return 2\n",
    "    elif x == 'NARCOTICS':\n",
    "        return 4\n",
    "    elif x =='ROBBERY':\n",
    "        return 1\n",
    "    elif x == 'MOTOR VEHICLE THEFT':\n",
    "        return 2\n",
    "    elif x =='CRIMINAL TRESPASS':\n",
    "        return 3\n",
    "    elif x == 'WEAPONS VIOLATION':\n",
    "        return 2\n",
    "    elif x == 'OFFENSE INVOLVING CHILDREN':\n",
    "        return 4\n",
    "    elif x == 'PUBLIC PEACE VIOLATION':\n",
    "        return 3\n",
    "    elif x == 'CRIM SEXUAL ASSAULT':\n",
    "        return 4\n",
    "    elif x == 'SEX OFFENSE':\n",
    "        return 4\n",
    "    elif x == 'INTERFERENCE WITH PUBLIC OFFICER':\n",
    "        return 4\n",
    "    elif x == 'PROSTITUTION':\n",
    "        return 4\n",
    "    elif x == 'HOMICIDE':\n",
    "        return 4\n",
    "    elif x == 'ARSON': \n",
    "        return 3\n",
    "    elif x == 'LIQUOR LAW VIOLATION':\n",
    "        return 1\n",
    "    elif x =='GAMBLING':\n",
    "        return 1\n",
    "    elif x =='KIDNAPPING':\n",
    "        return 3\n",
    "    elif x =='STALKING':\n",
    "        return 1\n",
    "    elif x == 'INTIMIDATION':\n",
    "        return 1\n",
    "    elif x == 'NON-CRIMINAL':\n",
    "        return 0\n",
    "    elif x =='OBSCENITY':\n",
    "        return 2\n",
    "    elif x == 'CONCEALED CARRY LICENSE VIOLATION':\n",
    "        return 3\n",
    "    elif x == 'PUBLIC INDECENCY':\n",
    "        return 2\n",
    "    elif x == 'HUMAN TRAFFICKING':\n",
    "        return 4\n",
    "    elif x == 'NON - CRIMINAL':\n",
    "        return 0\n",
    "    elif x == 'OTHER NARCOTIC VIOLATION':\n",
    "        return 4\n",
    "    elif x == 'NON-CRIMINAL (SUBJECT SPECIFIED)':\n",
    "        return 0\n",
    "\n",
    "def arrest_score(x):\n",
    "    if x=='TRUE':\n",
    "        return 1\n",
    "    elif x=='FALSE':\n",
    "        return 0\n",
    "    elif x=='True':\n",
    "        return 1\n",
    "    elif x=='False':\n",
    "        return 0\n",
    "    \n",
    "    "
   ]
  },
  {
   "cell_type": "code",
   "execution_count": 13,
   "metadata": {
    "collapsed": false
   },
   "outputs": [
    {
     "name": "stderr",
     "output_type": "stream",
     "text": [
      "/Users/samiahmadkhan/anaconda/lib/python3.5/site-packages/ipykernel/__main__.py:2: SettingWithCopyWarning: \n",
      "A value is trying to be set on a copy of a slice from a DataFrame.\n",
      "Try using .loc[row_indexer,col_indexer] = value instead\n",
      "\n",
      "See the caveats in the documentation: http://pandas.pydata.org/pandas-docs/stable/indexing.html#indexing-view-versus-copy\n",
      "  from ipykernel import kernelapp as app\n"
     ]
    }
   ],
   "source": [
    "#Adding Crime Weightage which is equal to Crime Score of that particualr Crime Type + 1 if there is an Arrest and 0 if no Arrest\n",
    "new_df['Crime Weightage'] = new_df['Primary Type'].apply(crime_score) - new_df['Arrest'].astype(int)"
   ]
  },
  {
   "cell_type": "markdown",
   "metadata": {},
   "source": [
    "### Crime Scores added to column Crime Weightage successfully as seen below"
   ]
  },
  {
   "cell_type": "code",
   "execution_count": 14,
   "metadata": {
    "collapsed": false
   },
   "outputs": [
    {
     "data": {
      "text/html": [
       "<div>\n",
       "<table border=\"1\" class=\"dataframe\">\n",
       "  <thead>\n",
       "    <tr style=\"text-align: right;\">\n",
       "      <th></th>\n",
       "      <th>Date</th>\n",
       "      <th>Primary Type</th>\n",
       "      <th>Arrest</th>\n",
       "      <th>Crime Weightage</th>\n",
       "      <th>Danger Value</th>\n",
       "      <th>District</th>\n",
       "      <th>Label</th>\n",
       "      <th>Ward</th>\n",
       "    </tr>\n",
       "  </thead>\n",
       "  <tbody>\n",
       "    <tr>\n",
       "      <th>0</th>\n",
       "      <td>5/3/16 21:00</td>\n",
       "      <td>NARCOTICS</td>\n",
       "      <td>True</td>\n",
       "      <td>3</td>\n",
       "      <td></td>\n",
       "      <td>11</td>\n",
       "      <td></td>\n",
       "      <td>28</td>\n",
       "    </tr>\n",
       "    <tr>\n",
       "      <th>1</th>\n",
       "      <td>5/3/16 21:35</td>\n",
       "      <td>THEFT</td>\n",
       "      <td>False</td>\n",
       "      <td>1</td>\n",
       "      <td></td>\n",
       "      <td>8</td>\n",
       "      <td></td>\n",
       "      <td>13</td>\n",
       "    </tr>\n",
       "    <tr>\n",
       "      <th>2</th>\n",
       "      <td>5/3/16 14:45</td>\n",
       "      <td>ASSAULT</td>\n",
       "      <td>False</td>\n",
       "      <td>3</td>\n",
       "      <td></td>\n",
       "      <td>9</td>\n",
       "      <td></td>\n",
       "      <td>12</td>\n",
       "    </tr>\n",
       "    <tr>\n",
       "      <th>3</th>\n",
       "      <td>5/3/16 18:42</td>\n",
       "      <td>BATTERY</td>\n",
       "      <td>False</td>\n",
       "      <td>2</td>\n",
       "      <td></td>\n",
       "      <td>8</td>\n",
       "      <td></td>\n",
       "      <td>15</td>\n",
       "    </tr>\n",
       "    <tr>\n",
       "      <th>4</th>\n",
       "      <td>5/3/16 19:30</td>\n",
       "      <td>CRIMINAL DAMAGE</td>\n",
       "      <td>False</td>\n",
       "      <td>3</td>\n",
       "      <td></td>\n",
       "      <td>9</td>\n",
       "      <td></td>\n",
       "      <td>14</td>\n",
       "    </tr>\n",
       "    <tr>\n",
       "      <th>5</th>\n",
       "      <td>5/3/16 13:30</td>\n",
       "      <td>OTHER OFFENSE</td>\n",
       "      <td>False</td>\n",
       "      <td>2</td>\n",
       "      <td></td>\n",
       "      <td>11</td>\n",
       "      <td></td>\n",
       "      <td>28</td>\n",
       "    </tr>\n",
       "    <tr>\n",
       "      <th>6</th>\n",
       "      <td>5/3/16 19:30</td>\n",
       "      <td>THEFT</td>\n",
       "      <td>False</td>\n",
       "      <td>1</td>\n",
       "      <td></td>\n",
       "      <td>1</td>\n",
       "      <td></td>\n",
       "      <td>2</td>\n",
       "    </tr>\n",
       "    <tr>\n",
       "      <th>7</th>\n",
       "      <td>5/3/16 9:11</td>\n",
       "      <td>DECEPTIVE PRACTICE</td>\n",
       "      <td>False</td>\n",
       "      <td>1</td>\n",
       "      <td></td>\n",
       "      <td>1</td>\n",
       "      <td></td>\n",
       "      <td>42</td>\n",
       "    </tr>\n",
       "    <tr>\n",
       "      <th>8</th>\n",
       "      <td>5/3/16 6:30</td>\n",
       "      <td>THEFT</td>\n",
       "      <td>False</td>\n",
       "      <td>1</td>\n",
       "      <td></td>\n",
       "      <td>1</td>\n",
       "      <td></td>\n",
       "      <td>27</td>\n",
       "    </tr>\n",
       "    <tr>\n",
       "      <th>9</th>\n",
       "      <td>5/3/16 18:30</td>\n",
       "      <td>THEFT</td>\n",
       "      <td>False</td>\n",
       "      <td>1</td>\n",
       "      <td></td>\n",
       "      <td>16</td>\n",
       "      <td></td>\n",
       "      <td>41</td>\n",
       "    </tr>\n",
       "  </tbody>\n",
       "</table>\n",
       "</div>"
      ],
      "text/plain": [
       "           Date        Primary Type Arrest  Crime Weightage Danger Value  \\\n",
       "0  5/3/16 21:00           NARCOTICS   True                3                \n",
       "1  5/3/16 21:35               THEFT  False                1                \n",
       "2  5/3/16 14:45             ASSAULT  False                3                \n",
       "3  5/3/16 18:42             BATTERY  False                2                \n",
       "4  5/3/16 19:30     CRIMINAL DAMAGE  False                3                \n",
       "5  5/3/16 13:30       OTHER OFFENSE  False                2                \n",
       "6  5/3/16 19:30               THEFT  False                1                \n",
       "7   5/3/16 9:11  DECEPTIVE PRACTICE  False                1                \n",
       "8   5/3/16 6:30               THEFT  False                1                \n",
       "9  5/3/16 18:30               THEFT  False                1                \n",
       "\n",
       "   District Label  Ward  \n",
       "0        11          28  \n",
       "1         8          13  \n",
       "2         9          12  \n",
       "3         8          15  \n",
       "4         9          14  \n",
       "5        11          28  \n",
       "6         1           2  \n",
       "7         1          42  \n",
       "8         1          27  \n",
       "9        16          41  "
      ]
     },
     "execution_count": 14,
     "metadata": {},
     "output_type": "execute_result"
    }
   ],
   "source": [
    "new_df.head(10)"
   ]
  },
  {
   "cell_type": "code",
   "execution_count": 15,
   "metadata": {
    "collapsed": false
   },
   "outputs": [],
   "source": [
    "#fig, ax = plt.subplots()\n",
    "#new_df['Arrest'].value_counts().plot(ax=ax, kind='bar')"
   ]
  },
  {
   "cell_type": "markdown",
   "metadata": {},
   "source": [
    "### Crime frequencies in various districts below"
   ]
  },
  {
   "cell_type": "code",
   "execution_count": 16,
   "metadata": {
    "collapsed": false
   },
   "outputs": [
    {
     "data": {
      "text/plain": [
       "<matplotlib.axes._subplots.AxesSubplot at 0x11530edd8>"
      ]
     },
     "execution_count": 16,
     "metadata": {},
     "output_type": "execute_result"
    },
    {
     "data": {
      "image/png": "[encoded data removed]",
      "text/plain": [
       "<matplotlib.figure.Figure at 0x1153036a0>"
      ]
     },
     "metadata": {},
     "output_type": "display_data"
    }
   ],
   "source": [
    "fig, ax = plt.subplots()\n",
    "new_df['District'].value_counts().plot(ax=ax, kind='bar')"
   ]
  },
  {
   "cell_type": "code",
   "execution_count": 17,
   "metadata": {
    "collapsed": false
   },
   "outputs": [
    {
     "data": {
      "text/html": [
       "<div>\n",
       "<table border=\"1\" class=\"dataframe\">\n",
       "  <thead>\n",
       "    <tr style=\"text-align: right;\">\n",
       "      <th></th>\n",
       "      <th>Crime Weightage</th>\n",
       "      <th>District</th>\n",
       "      <th>Ward</th>\n",
       "    </tr>\n",
       "  </thead>\n",
       "  <tbody>\n",
       "    <tr>\n",
       "      <th>count</th>\n",
       "      <td>11670.000000</td>\n",
       "      <td>11670.000000</td>\n",
       "      <td>11670.000000</td>\n",
       "    </tr>\n",
       "    <tr>\n",
       "      <th>mean</th>\n",
       "      <td>1.836161</td>\n",
       "      <td>11.355013</td>\n",
       "      <td>22.992288</td>\n",
       "    </tr>\n",
       "    <tr>\n",
       "      <th>std</th>\n",
       "      <td>0.892775</td>\n",
       "      <td>6.889840</td>\n",
       "      <td>13.952515</td>\n",
       "    </tr>\n",
       "    <tr>\n",
       "      <th>min</th>\n",
       "      <td>-1.000000</td>\n",
       "      <td>1.000000</td>\n",
       "      <td>1.000000</td>\n",
       "    </tr>\n",
       "    <tr>\n",
       "      <th>25%</th>\n",
       "      <td>1.000000</td>\n",
       "      <td>6.000000</td>\n",
       "      <td>10.000000</td>\n",
       "    </tr>\n",
       "    <tr>\n",
       "      <th>50%</th>\n",
       "      <td>2.000000</td>\n",
       "      <td>10.000000</td>\n",
       "      <td>23.000000</td>\n",
       "    </tr>\n",
       "    <tr>\n",
       "      <th>75%</th>\n",
       "      <td>3.000000</td>\n",
       "      <td>17.000000</td>\n",
       "      <td>34.000000</td>\n",
       "    </tr>\n",
       "    <tr>\n",
       "      <th>max</th>\n",
       "      <td>4.000000</td>\n",
       "      <td>25.000000</td>\n",
       "      <td>50.000000</td>\n",
       "    </tr>\n",
       "  </tbody>\n",
       "</table>\n",
       "</div>"
      ],
      "text/plain": [
       "       Crime Weightage      District          Ward\n",
       "count     11670.000000  11670.000000  11670.000000\n",
       "mean          1.836161     11.355013     22.992288\n",
       "std           0.892775      6.889840     13.952515\n",
       "min          -1.000000      1.000000      1.000000\n",
       "25%           1.000000      6.000000     10.000000\n",
       "50%           2.000000     10.000000     23.000000\n",
       "75%           3.000000     17.000000     34.000000\n",
       "max           4.000000     25.000000     50.000000"
      ]
     },
     "execution_count": 17,
     "metadata": {},
     "output_type": "execute_result"
    }
   ],
   "source": [
    "new_df.describe()"
   ]
  },
  {
   "cell_type": "code",
   "execution_count": 18,
   "metadata": {
    "collapsed": false
   },
   "outputs": [],
   "source": [
    "cleaned_df = new_df.groupby(['District','Primary Type']).agg({'Crime Weightage':'mean', 'Primary Type':'count'})"
   ]
  },
  {
   "cell_type": "code",
   "execution_count": 19,
   "metadata": {
    "collapsed": false
   },
   "outputs": [],
   "source": [
    "cleaned_df.rename(columns={'Primary Type':'Counts'},inplace=True)"
   ]
  },
  {
   "cell_type": "code",
   "execution_count": 20,
   "metadata": {
    "collapsed": false
   },
   "outputs": [
    {
     "data": {
      "text/html": [
       "<div>\n",
       "<table border=\"1\" class=\"dataframe\">\n",
       "  <thead>\n",
       "    <tr style=\"text-align: right;\">\n",
       "      <th></th>\n",
       "      <th>Crime Weightage</th>\n",
       "      <th>Counts</th>\n",
       "    </tr>\n",
       "  </thead>\n",
       "  <tbody>\n",
       "    <tr>\n",
       "      <th>count</th>\n",
       "      <td>423.000000</td>\n",
       "      <td>423.000000</td>\n",
       "    </tr>\n",
       "    <tr>\n",
       "      <th>mean</th>\n",
       "      <td>2.258693</td>\n",
       "      <td>27.588652</td>\n",
       "    </tr>\n",
       "    <tr>\n",
       "      <th>std</th>\n",
       "      <td>1.122322</td>\n",
       "      <td>38.559378</td>\n",
       "    </tr>\n",
       "    <tr>\n",
       "      <th>min</th>\n",
       "      <td>-1.000000</td>\n",
       "      <td>1.000000</td>\n",
       "    </tr>\n",
       "    <tr>\n",
       "      <th>25%</th>\n",
       "      <td>1.250000</td>\n",
       "      <td>2.500000</td>\n",
       "    </tr>\n",
       "    <tr>\n",
       "      <th>50%</th>\n",
       "      <td>2.142857</td>\n",
       "      <td>13.000000</td>\n",
       "    </tr>\n",
       "    <tr>\n",
       "      <th>75%</th>\n",
       "      <td>3.000000</td>\n",
       "      <td>37.000000</td>\n",
       "    </tr>\n",
       "    <tr>\n",
       "      <th>max</th>\n",
       "      <td>4.000000</td>\n",
       "      <td>269.000000</td>\n",
       "    </tr>\n",
       "  </tbody>\n",
       "</table>\n",
       "</div>"
      ],
      "text/plain": [
       "       Crime Weightage      Counts\n",
       "count       423.000000  423.000000\n",
       "mean          2.258693   27.588652\n",
       "std           1.122322   38.559378\n",
       "min          -1.000000    1.000000\n",
       "25%           1.250000    2.500000\n",
       "50%           2.142857   13.000000\n",
       "75%           3.000000   37.000000\n",
       "max           4.000000  269.000000"
      ]
     },
     "execution_count": 20,
     "metadata": {},
     "output_type": "execute_result"
    }
   ],
   "source": [
    "cleaned_df.describe()"
   ]
  },
  {
   "cell_type": "code",
   "execution_count": 21,
   "metadata": {
    "collapsed": false
   },
   "outputs": [],
   "source": [
    "cleaned_df['Danger Value'] = cleaned_df['Crime Weightage'] * cleaned_df['Counts']\n"
   ]
  },
  {
   "cell_type": "markdown",
   "metadata": {},
   "source": [
    "### Danger Value calculated"
   ]
  },
  {
   "cell_type": "code",
   "execution_count": 22,
   "metadata": {
    "collapsed": false
   },
   "outputs": [
    {
     "data": {
      "text/html": [
       "<div>\n",
       "<table border=\"1\" class=\"dataframe\">\n",
       "  <thead>\n",
       "    <tr style=\"text-align: right;\">\n",
       "      <th></th>\n",
       "      <th></th>\n",
       "      <th>Crime Weightage</th>\n",
       "      <th>Counts</th>\n",
       "      <th>Danger Value</th>\n",
       "    </tr>\n",
       "    <tr>\n",
       "      <th>District</th>\n",
       "      <th>Primary Type</th>\n",
       "      <th></th>\n",
       "      <th></th>\n",
       "      <th></th>\n",
       "    </tr>\n",
       "  </thead>\n",
       "  <tbody>\n",
       "    <tr>\n",
       "      <th rowspan=\"10\" valign=\"top\">1</th>\n",
       "      <th>ASSAULT</th>\n",
       "      <td>2.750000</td>\n",
       "      <td>28</td>\n",
       "      <td>77.0</td>\n",
       "    </tr>\n",
       "    <tr>\n",
       "      <th>BATTERY</th>\n",
       "      <td>1.711538</td>\n",
       "      <td>52</td>\n",
       "      <td>89.0</td>\n",
       "    </tr>\n",
       "    <tr>\n",
       "      <th>BURGLARY</th>\n",
       "      <td>2.000000</td>\n",
       "      <td>4</td>\n",
       "      <td>8.0</td>\n",
       "    </tr>\n",
       "    <tr>\n",
       "      <th>CRIM SEXUAL ASSAULT</th>\n",
       "      <td>4.000000</td>\n",
       "      <td>2</td>\n",
       "      <td>8.0</td>\n",
       "    </tr>\n",
       "    <tr>\n",
       "      <th>CRIMINAL DAMAGE</th>\n",
       "      <td>2.880000</td>\n",
       "      <td>25</td>\n",
       "      <td>72.0</td>\n",
       "    </tr>\n",
       "    <tr>\n",
       "      <th>CRIMINAL TRESPASS</th>\n",
       "      <td>2.000000</td>\n",
       "      <td>22</td>\n",
       "      <td>44.0</td>\n",
       "    </tr>\n",
       "    <tr>\n",
       "      <th>DECEPTIVE PRACTICE</th>\n",
       "      <td>0.971429</td>\n",
       "      <td>70</td>\n",
       "      <td>68.0</td>\n",
       "    </tr>\n",
       "    <tr>\n",
       "      <th>MOTOR VEHICLE THEFT</th>\n",
       "      <td>1.600000</td>\n",
       "      <td>5</td>\n",
       "      <td>8.0</td>\n",
       "    </tr>\n",
       "    <tr>\n",
       "      <th>NARCOTICS</th>\n",
       "      <td>3.000000</td>\n",
       "      <td>5</td>\n",
       "      <td>15.0</td>\n",
       "    </tr>\n",
       "    <tr>\n",
       "      <th>NON-CRIMINAL</th>\n",
       "      <td>0.000000</td>\n",
       "      <td>1</td>\n",
       "      <td>0.0</td>\n",
       "    </tr>\n",
       "  </tbody>\n",
       "</table>\n",
       "</div>"
      ],
      "text/plain": [
       "                              Crime Weightage  Counts  Danger Value\n",
       "District Primary Type                                              \n",
       "1        ASSAULT                     2.750000      28          77.0\n",
       "         BATTERY                     1.711538      52          89.0\n",
       "         BURGLARY                    2.000000       4           8.0\n",
       "         CRIM SEXUAL ASSAULT         4.000000       2           8.0\n",
       "         CRIMINAL DAMAGE             2.880000      25          72.0\n",
       "         CRIMINAL TRESPASS           2.000000      22          44.0\n",
       "         DECEPTIVE PRACTICE          0.971429      70          68.0\n",
       "         MOTOR VEHICLE THEFT         1.600000       5           8.0\n",
       "         NARCOTICS                   3.000000       5          15.0\n",
       "         NON-CRIMINAL                0.000000       1           0.0"
      ]
     },
     "execution_count": 22,
     "metadata": {},
     "output_type": "execute_result"
    }
   ],
   "source": [
    "cleaned_df.head(10)"
   ]
  },
  {
   "cell_type": "markdown",
   "metadata": {},
   "source": [
    "### Populating the original dataframe (new_df) with Danger Values "
   ]
  },
  {
   "cell_type": "code",
   "execution_count": 23,
   "metadata": {
    "collapsed": false
   },
   "outputs": [
    {
     "name": "stderr",
     "output_type": "stream",
     "text": [
      "/Users/samiahmadkhan/anaconda/lib/python3.5/site-packages/pandas/core/indexing.py:465: SettingWithCopyWarning: \n",
      "A value is trying to be set on a copy of a slice from a DataFrame.\n",
      "Try using .loc[row_indexer,col_indexer] = value instead\n",
      "\n",
      "See the caveats in the documentation: http://pandas.pydata.org/pandas-docs/stable/indexing.html#indexing-view-versus-copy\n",
      "  self.obj[item] = s\n"
     ]
    }
   ],
   "source": [
    "i = 0\n",
    "safe = list();\n",
    "for index, row in cleaned_df.iterrows():\n",
    "    safe.append(row['Danger Value'])\n",
    "    new_df.loc[(new_df['District'] == index[0]) & (new_df['Primary Type'] == index[1]), 'Danger Value'] = safe[i]\n",
    "    i = i + 1"
   ]
  },
  {
   "cell_type": "code",
   "execution_count": 24,
   "metadata": {
    "collapsed": false
   },
   "outputs": [
    {
     "name": "stderr",
     "output_type": "stream",
     "text": [
      "/Users/samiahmadkhan/anaconda/lib/python3.5/site-packages/ipykernel/__main__.py:1: SettingWithCopyWarning: \n",
      "A value is trying to be set on a copy of a slice from a DataFrame.\n",
      "Try using .loc[row_indexer,col_indexer] = value instead\n",
      "\n",
      "See the caveats in the documentation: http://pandas.pydata.org/pandas-docs/stable/indexing.html#indexing-view-versus-copy\n",
      "  if __name__ == '__main__':\n"
     ]
    }
   ],
   "source": [
    "new_df['Danger Value'] = new_df['Danger Value'].astype(float)"
   ]
  },
  {
   "cell_type": "markdown",
   "metadata": {},
   "source": [
    "### Here we can see the  various order statistics for Danger Value in Column 2"
   ]
  },
  {
   "cell_type": "code",
   "execution_count": 25,
   "metadata": {
    "collapsed": false
   },
   "outputs": [
    {
     "data": {
      "text/html": [
       "<div>\n",
       "<table border=\"1\" class=\"dataframe\">\n",
       "  <thead>\n",
       "    <tr style=\"text-align: right;\">\n",
       "      <th></th>\n",
       "      <th>Crime Weightage</th>\n",
       "      <th>Danger Value</th>\n",
       "      <th>District</th>\n",
       "      <th>Ward</th>\n",
       "    </tr>\n",
       "  </thead>\n",
       "  <tbody>\n",
       "    <tr>\n",
       "      <th>count</th>\n",
       "      <td>11670.000000</td>\n",
       "      <td>11670.000000</td>\n",
       "      <td>11670.000000</td>\n",
       "      <td>11670.000000</td>\n",
       "    </tr>\n",
       "    <tr>\n",
       "      <th>mean</th>\n",
       "      <td>1.836161</td>\n",
       "      <td>129.696572</td>\n",
       "      <td>11.355013</td>\n",
       "      <td>22.992288</td>\n",
       "    </tr>\n",
       "    <tr>\n",
       "      <th>std</th>\n",
       "      <td>0.892775</td>\n",
       "      <td>99.526232</td>\n",
       "      <td>6.889840</td>\n",
       "      <td>13.952515</td>\n",
       "    </tr>\n",
       "    <tr>\n",
       "      <th>min</th>\n",
       "      <td>-1.000000</td>\n",
       "      <td>-1.000000</td>\n",
       "      <td>1.000000</td>\n",
       "      <td>1.000000</td>\n",
       "    </tr>\n",
       "    <tr>\n",
       "      <th>25%</th>\n",
       "      <td>1.000000</td>\n",
       "      <td>56.000000</td>\n",
       "      <td>6.000000</td>\n",
       "      <td>10.000000</td>\n",
       "    </tr>\n",
       "    <tr>\n",
       "      <th>50%</th>\n",
       "      <td>2.000000</td>\n",
       "      <td>102.000000</td>\n",
       "      <td>10.000000</td>\n",
       "      <td>23.000000</td>\n",
       "    </tr>\n",
       "    <tr>\n",
       "      <th>75%</th>\n",
       "      <td>3.000000</td>\n",
       "      <td>208.000000</td>\n",
       "      <td>17.000000</td>\n",
       "      <td>34.000000</td>\n",
       "    </tr>\n",
       "    <tr>\n",
       "      <th>max</th>\n",
       "      <td>4.000000</td>\n",
       "      <td>567.000000</td>\n",
       "      <td>25.000000</td>\n",
       "      <td>50.000000</td>\n",
       "    </tr>\n",
       "  </tbody>\n",
       "</table>\n",
       "</div>"
      ],
      "text/plain": [
       "       Crime Weightage  Danger Value      District          Ward\n",
       "count     11670.000000  11670.000000  11670.000000  11670.000000\n",
       "mean          1.836161    129.696572     11.355013     22.992288\n",
       "std           0.892775     99.526232      6.889840     13.952515\n",
       "min          -1.000000     -1.000000      1.000000      1.000000\n",
       "25%           1.000000     56.000000      6.000000     10.000000\n",
       "50%           2.000000    102.000000     10.000000     23.000000\n",
       "75%           3.000000    208.000000     17.000000     34.000000\n",
       "max           4.000000    567.000000     25.000000     50.000000"
      ]
     },
     "execution_count": 25,
     "metadata": {},
     "output_type": "execute_result"
    }
   ],
   "source": [
    "new_df.describe()"
   ]
  },
  {
   "cell_type": "markdown",
   "metadata": {},
   "source": [
    "### Setting the mean of Danger Value as Threshold for creating the concept (Y) for our dataframe"
   ]
  },
  {
   "cell_type": "code",
   "execution_count": 26,
   "metadata": {
    "collapsed": true
   },
   "outputs": [],
   "source": [
    "threshold = new_df['Danger Value'].mean()"
   ]
  },
  {
   "cell_type": "code",
   "execution_count": 27,
   "metadata": {
    "collapsed": false
   },
   "outputs": [],
   "source": [
    "def compareThreshold(x):\n",
    "    if x > threshold:\n",
    "        return 1\n",
    "    elif x <= threshold:\n",
    "        return 0"
   ]
  },
  {
   "cell_type": "markdown",
   "metadata": {},
   "source": [
    "### Assigning values to 'Label' based on Threshold"
   ]
  },
  {
   "cell_type": "code",
   "execution_count": 28,
   "metadata": {
    "collapsed": false
   },
   "outputs": [
    {
     "name": "stderr",
     "output_type": "stream",
     "text": [
      "/Users/samiahmadkhan/anaconda/lib/python3.5/site-packages/ipykernel/__main__.py:1: SettingWithCopyWarning: \n",
      "A value is trying to be set on a copy of a slice from a DataFrame.\n",
      "Try using .loc[row_indexer,col_indexer] = value instead\n",
      "\n",
      "See the caveats in the documentation: http://pandas.pydata.org/pandas-docs/stable/indexing.html#indexing-view-versus-copy\n",
      "  if __name__ == '__main__':\n"
     ]
    }
   ],
   "source": [
    "new_df['Label'] = new_df['Danger Value'].apply(compareThreshold)"
   ]
  },
  {
   "cell_type": "markdown",
   "metadata": {},
   "source": [
    "### Final Data Frame. Below you can see that now the 'Label' column has our Y which is in the form of 1 and 0\n",
    "### 1 --> Danger Value > Threshold --> Very Unsafe\n",
    "### 2 --> Danger Value < Threshold --> Comparitively Safe"
   ]
  },
  {
   "cell_type": "code",
   "execution_count": 29,
   "metadata": {
    "collapsed": false
   },
   "outputs": [
    {
     "data": {
      "text/html": [
       "<div>\n",
       "<table border=\"1\" class=\"dataframe\">\n",
       "  <thead>\n",
       "    <tr style=\"text-align: right;\">\n",
       "      <th></th>\n",
       "      <th>Date</th>\n",
       "      <th>Primary Type</th>\n",
       "      <th>Arrest</th>\n",
       "      <th>Crime Weightage</th>\n",
       "      <th>Danger Value</th>\n",
       "      <th>District</th>\n",
       "      <th>Label</th>\n",
       "      <th>Ward</th>\n",
       "    </tr>\n",
       "  </thead>\n",
       "  <tbody>\n",
       "    <tr>\n",
       "      <th>0</th>\n",
       "      <td>5/3/16 21:00</td>\n",
       "      <td>NARCOTICS</td>\n",
       "      <td>True</td>\n",
       "      <td>3</td>\n",
       "      <td>567.0</td>\n",
       "      <td>11</td>\n",
       "      <td>1</td>\n",
       "      <td>28</td>\n",
       "    </tr>\n",
       "    <tr>\n",
       "      <th>1</th>\n",
       "      <td>5/3/16 21:35</td>\n",
       "      <td>THEFT</td>\n",
       "      <td>False</td>\n",
       "      <td>1</td>\n",
       "      <td>133.0</td>\n",
       "      <td>8</td>\n",
       "      <td>1</td>\n",
       "      <td>13</td>\n",
       "    </tr>\n",
       "    <tr>\n",
       "      <th>2</th>\n",
       "      <td>5/3/16 14:45</td>\n",
       "      <td>ASSAULT</td>\n",
       "      <td>False</td>\n",
       "      <td>3</td>\n",
       "      <td>132.0</td>\n",
       "      <td>9</td>\n",
       "      <td>1</td>\n",
       "      <td>12</td>\n",
       "    </tr>\n",
       "    <tr>\n",
       "      <th>3</th>\n",
       "      <td>5/3/16 18:42</td>\n",
       "      <td>BATTERY</td>\n",
       "      <td>False</td>\n",
       "      <td>2</td>\n",
       "      <td>235.0</td>\n",
       "      <td>8</td>\n",
       "      <td>1</td>\n",
       "      <td>15</td>\n",
       "    </tr>\n",
       "    <tr>\n",
       "      <th>4</th>\n",
       "      <td>5/3/16 19:30</td>\n",
       "      <td>CRIMINAL DAMAGE</td>\n",
       "      <td>False</td>\n",
       "      <td>3</td>\n",
       "      <td>225.0</td>\n",
       "      <td>9</td>\n",
       "      <td>1</td>\n",
       "      <td>14</td>\n",
       "    </tr>\n",
       "    <tr>\n",
       "      <th>5</th>\n",
       "      <td>5/3/16 13:30</td>\n",
       "      <td>OTHER OFFENSE</td>\n",
       "      <td>False</td>\n",
       "      <td>2</td>\n",
       "      <td>77.0</td>\n",
       "      <td>11</td>\n",
       "      <td>0</td>\n",
       "      <td>28</td>\n",
       "    </tr>\n",
       "    <tr>\n",
       "      <th>6</th>\n",
       "      <td>5/3/16 19:30</td>\n",
       "      <td>THEFT</td>\n",
       "      <td>False</td>\n",
       "      <td>1</td>\n",
       "      <td>235.0</td>\n",
       "      <td>1</td>\n",
       "      <td>1</td>\n",
       "      <td>2</td>\n",
       "    </tr>\n",
       "    <tr>\n",
       "      <th>7</th>\n",
       "      <td>5/3/16 9:11</td>\n",
       "      <td>DECEPTIVE PRACTICE</td>\n",
       "      <td>False</td>\n",
       "      <td>1</td>\n",
       "      <td>68.0</td>\n",
       "      <td>1</td>\n",
       "      <td>0</td>\n",
       "      <td>42</td>\n",
       "    </tr>\n",
       "    <tr>\n",
       "      <th>8</th>\n",
       "      <td>5/3/16 6:30</td>\n",
       "      <td>THEFT</td>\n",
       "      <td>False</td>\n",
       "      <td>1</td>\n",
       "      <td>235.0</td>\n",
       "      <td>1</td>\n",
       "      <td>1</td>\n",
       "      <td>27</td>\n",
       "    </tr>\n",
       "    <tr>\n",
       "      <th>9</th>\n",
       "      <td>5/3/16 18:30</td>\n",
       "      <td>THEFT</td>\n",
       "      <td>False</td>\n",
       "      <td>1</td>\n",
       "      <td>76.0</td>\n",
       "      <td>16</td>\n",
       "      <td>0</td>\n",
       "      <td>41</td>\n",
       "    </tr>\n",
       "    <tr>\n",
       "      <th>10</th>\n",
       "      <td>5/3/16 17:40</td>\n",
       "      <td>ASSAULT</td>\n",
       "      <td>False</td>\n",
       "      <td>3</td>\n",
       "      <td>115.0</td>\n",
       "      <td>5</td>\n",
       "      <td>0</td>\n",
       "      <td>9</td>\n",
       "    </tr>\n",
       "    <tr>\n",
       "      <th>11</th>\n",
       "      <td>5/3/16 10:00</td>\n",
       "      <td>CRIMINAL DAMAGE</td>\n",
       "      <td>False</td>\n",
       "      <td>3</td>\n",
       "      <td>292.0</td>\n",
       "      <td>4</td>\n",
       "      <td>1</td>\n",
       "      <td>8</td>\n",
       "    </tr>\n",
       "    <tr>\n",
       "      <th>12</th>\n",
       "      <td>5/3/16 13:00</td>\n",
       "      <td>DECEPTIVE PRACTICE</td>\n",
       "      <td>False</td>\n",
       "      <td>1</td>\n",
       "      <td>28.0</td>\n",
       "      <td>10</td>\n",
       "      <td>0</td>\n",
       "      <td>12</td>\n",
       "    </tr>\n",
       "    <tr>\n",
       "      <th>13</th>\n",
       "      <td>5/3/16 20:30</td>\n",
       "      <td>MOTOR VEHICLE THEFT</td>\n",
       "      <td>False</td>\n",
       "      <td>2</td>\n",
       "      <td>22.0</td>\n",
       "      <td>16</td>\n",
       "      <td>0</td>\n",
       "      <td>45</td>\n",
       "    </tr>\n",
       "    <tr>\n",
       "      <th>14</th>\n",
       "      <td>5/3/16 16:07</td>\n",
       "      <td>PUBLIC PEACE VIOLATION</td>\n",
       "      <td>False</td>\n",
       "      <td>3</td>\n",
       "      <td>5.0</td>\n",
       "      <td>2</td>\n",
       "      <td>0</td>\n",
       "      <td>3</td>\n",
       "    </tr>\n",
       "    <tr>\n",
       "      <th>15</th>\n",
       "      <td>5/3/16 14:00</td>\n",
       "      <td>THEFT</td>\n",
       "      <td>False</td>\n",
       "      <td>1</td>\n",
       "      <td>113.0</td>\n",
       "      <td>6</td>\n",
       "      <td>0</td>\n",
       "      <td>21</td>\n",
       "    </tr>\n",
       "    <tr>\n",
       "      <th>16</th>\n",
       "      <td>5/3/16 15:05</td>\n",
       "      <td>BATTERY</td>\n",
       "      <td>False</td>\n",
       "      <td>2</td>\n",
       "      <td>270.0</td>\n",
       "      <td>6</td>\n",
       "      <td>1</td>\n",
       "      <td>21</td>\n",
       "    </tr>\n",
       "    <tr>\n",
       "      <th>17</th>\n",
       "      <td>5/3/16 9:00</td>\n",
       "      <td>THEFT</td>\n",
       "      <td>False</td>\n",
       "      <td>1</td>\n",
       "      <td>113.0</td>\n",
       "      <td>6</td>\n",
       "      <td>0</td>\n",
       "      <td>6</td>\n",
       "    </tr>\n",
       "    <tr>\n",
       "      <th>18</th>\n",
       "      <td>5/3/16 0:30</td>\n",
       "      <td>THEFT</td>\n",
       "      <td>False</td>\n",
       "      <td>1</td>\n",
       "      <td>64.0</td>\n",
       "      <td>10</td>\n",
       "      <td>0</td>\n",
       "      <td>25</td>\n",
       "    </tr>\n",
       "    <tr>\n",
       "      <th>19</th>\n",
       "      <td>5/3/16 21:35</td>\n",
       "      <td>ASSAULT</td>\n",
       "      <td>False</td>\n",
       "      <td>3</td>\n",
       "      <td>21.0</td>\n",
       "      <td>20</td>\n",
       "      <td>0</td>\n",
       "      <td>47</td>\n",
       "    </tr>\n",
       "    <tr>\n",
       "      <th>20</th>\n",
       "      <td>5/3/16 12:15</td>\n",
       "      <td>THEFT</td>\n",
       "      <td>False</td>\n",
       "      <td>1</td>\n",
       "      <td>74.0</td>\n",
       "      <td>7</td>\n",
       "      <td>0</td>\n",
       "      <td>16</td>\n",
       "    </tr>\n",
       "    <tr>\n",
       "      <th>21</th>\n",
       "      <td>5/3/16 20:30</td>\n",
       "      <td>ROBBERY</td>\n",
       "      <td>False</td>\n",
       "      <td>1</td>\n",
       "      <td>24.0</td>\n",
       "      <td>25</td>\n",
       "      <td>0</td>\n",
       "      <td>30</td>\n",
       "    </tr>\n",
       "    <tr>\n",
       "      <th>22</th>\n",
       "      <td>5/3/16 9:00</td>\n",
       "      <td>BATTERY</td>\n",
       "      <td>False</td>\n",
       "      <td>2</td>\n",
       "      <td>121.0</td>\n",
       "      <td>16</td>\n",
       "      <td>0</td>\n",
       "      <td>38</td>\n",
       "    </tr>\n",
       "    <tr>\n",
       "      <th>23</th>\n",
       "      <td>5/3/16 12:15</td>\n",
       "      <td>BATTERY</td>\n",
       "      <td>False</td>\n",
       "      <td>2</td>\n",
       "      <td>224.0</td>\n",
       "      <td>3</td>\n",
       "      <td>1</td>\n",
       "      <td>5</td>\n",
       "    </tr>\n",
       "    <tr>\n",
       "      <th>24</th>\n",
       "      <td>5/3/16 20:00</td>\n",
       "      <td>THEFT</td>\n",
       "      <td>False</td>\n",
       "      <td>1</td>\n",
       "      <td>76.0</td>\n",
       "      <td>16</td>\n",
       "      <td>0</td>\n",
       "      <td>41</td>\n",
       "    </tr>\n",
       "    <tr>\n",
       "      <th>25</th>\n",
       "      <td>5/3/16 22:00</td>\n",
       "      <td>MOTOR VEHICLE THEFT</td>\n",
       "      <td>False</td>\n",
       "      <td>2</td>\n",
       "      <td>27.0</td>\n",
       "      <td>24</td>\n",
       "      <td>0</td>\n",
       "      <td>50</td>\n",
       "    </tr>\n",
       "    <tr>\n",
       "      <th>26</th>\n",
       "      <td>5/4/16 11:30</td>\n",
       "      <td>CRIMINAL TRESPASS</td>\n",
       "      <td>True</td>\n",
       "      <td>2</td>\n",
       "      <td>27.0</td>\n",
       "      <td>3</td>\n",
       "      <td>0</td>\n",
       "      <td>5</td>\n",
       "    </tr>\n",
       "    <tr>\n",
       "      <th>27</th>\n",
       "      <td>5/3/16 19:15</td>\n",
       "      <td>OTHER OFFENSE</td>\n",
       "      <td>False</td>\n",
       "      <td>2</td>\n",
       "      <td>32.0</td>\n",
       "      <td>20</td>\n",
       "      <td>0</td>\n",
       "      <td>40</td>\n",
       "    </tr>\n",
       "    <tr>\n",
       "      <th>28</th>\n",
       "      <td>5/4/16 9:00</td>\n",
       "      <td>THEFT</td>\n",
       "      <td>False</td>\n",
       "      <td>1</td>\n",
       "      <td>222.0</td>\n",
       "      <td>18</td>\n",
       "      <td>1</td>\n",
       "      <td>42</td>\n",
       "    </tr>\n",
       "    <tr>\n",
       "      <th>29</th>\n",
       "      <td>5/3/16 16:00</td>\n",
       "      <td>BURGLARY</td>\n",
       "      <td>False</td>\n",
       "      <td>2</td>\n",
       "      <td>60.0</td>\n",
       "      <td>10</td>\n",
       "      <td>0</td>\n",
       "      <td>22</td>\n",
       "    </tr>\n",
       "    <tr>\n",
       "      <th>30</th>\n",
       "      <td>5/4/16 8:16</td>\n",
       "      <td>STALKING</td>\n",
       "      <td>False</td>\n",
       "      <td>1</td>\n",
       "      <td>1.0</td>\n",
       "      <td>8</td>\n",
       "      <td>0</td>\n",
       "      <td>14</td>\n",
       "    </tr>\n",
       "    <tr>\n",
       "      <th>31</th>\n",
       "      <td>5/3/16 9:00</td>\n",
       "      <td>BATTERY</td>\n",
       "      <td>False</td>\n",
       "      <td>2</td>\n",
       "      <td>181.0</td>\n",
       "      <td>2</td>\n",
       "      <td>1</td>\n",
       "      <td>4</td>\n",
       "    </tr>\n",
       "    <tr>\n",
       "      <th>32</th>\n",
       "      <td>5/4/16 5:00</td>\n",
       "      <td>THEFT</td>\n",
       "      <td>False</td>\n",
       "      <td>1</td>\n",
       "      <td>73.0</td>\n",
       "      <td>11</td>\n",
       "      <td>0</td>\n",
       "      <td>27</td>\n",
       "    </tr>\n",
       "    <tr>\n",
       "      <th>33</th>\n",
       "      <td>5/3/16 18:00</td>\n",
       "      <td>DECEPTIVE PRACTICE</td>\n",
       "      <td>False</td>\n",
       "      <td>1</td>\n",
       "      <td>34.0</td>\n",
       "      <td>22</td>\n",
       "      <td>0</td>\n",
       "      <td>19</td>\n",
       "    </tr>\n",
       "    <tr>\n",
       "      <th>34</th>\n",
       "      <td>5/4/16 11:58</td>\n",
       "      <td>ASSAULT</td>\n",
       "      <td>True</td>\n",
       "      <td>2</td>\n",
       "      <td>139.0</td>\n",
       "      <td>11</td>\n",
       "      <td>1</td>\n",
       "      <td>27</td>\n",
       "    </tr>\n",
       "    <tr>\n",
       "      <th>35</th>\n",
       "      <td>5/4/16 12:35</td>\n",
       "      <td>THEFT</td>\n",
       "      <td>False</td>\n",
       "      <td>1</td>\n",
       "      <td>83.0</td>\n",
       "      <td>3</td>\n",
       "      <td>0</td>\n",
       "      <td>5</td>\n",
       "    </tr>\n",
       "    <tr>\n",
       "      <th>36</th>\n",
       "      <td>5/3/16 19:15</td>\n",
       "      <td>PUBLIC PEACE VIOLATION</td>\n",
       "      <td>False</td>\n",
       "      <td>3</td>\n",
       "      <td>8.0</td>\n",
       "      <td>25</td>\n",
       "      <td>0</td>\n",
       "      <td>29</td>\n",
       "    </tr>\n",
       "    <tr>\n",
       "      <th>37</th>\n",
       "      <td>5/3/16 22:30</td>\n",
       "      <td>BURGLARY</td>\n",
       "      <td>False</td>\n",
       "      <td>2</td>\n",
       "      <td>99.0</td>\n",
       "      <td>4</td>\n",
       "      <td>0</td>\n",
       "      <td>8</td>\n",
       "    </tr>\n",
       "    <tr>\n",
       "      <th>38</th>\n",
       "      <td>5/3/16 20:40</td>\n",
       "      <td>OTHER OFFENSE</td>\n",
       "      <td>False</td>\n",
       "      <td>2</td>\n",
       "      <td>90.0</td>\n",
       "      <td>8</td>\n",
       "      <td>0</td>\n",
       "      <td>13</td>\n",
       "    </tr>\n",
       "    <tr>\n",
       "      <th>39</th>\n",
       "      <td>5/3/16 18:30</td>\n",
       "      <td>THEFT</td>\n",
       "      <td>False</td>\n",
       "      <td>1</td>\n",
       "      <td>133.0</td>\n",
       "      <td>8</td>\n",
       "      <td>1</td>\n",
       "      <td>16</td>\n",
       "    </tr>\n",
       "    <tr>\n",
       "      <th>40</th>\n",
       "      <td>5/3/16 22:00</td>\n",
       "      <td>THEFT</td>\n",
       "      <td>False</td>\n",
       "      <td>1</td>\n",
       "      <td>76.0</td>\n",
       "      <td>16</td>\n",
       "      <td>0</td>\n",
       "      <td>38</td>\n",
       "    </tr>\n",
       "    <tr>\n",
       "      <th>41</th>\n",
       "      <td>5/3/16 22:30</td>\n",
       "      <td>BURGLARY</td>\n",
       "      <td>False</td>\n",
       "      <td>2</td>\n",
       "      <td>64.0</td>\n",
       "      <td>16</td>\n",
       "      <td>0</td>\n",
       "      <td>36</td>\n",
       "    </tr>\n",
       "    <tr>\n",
       "      <th>42</th>\n",
       "      <td>5/3/16 16:35</td>\n",
       "      <td>DECEPTIVE PRACTICE</td>\n",
       "      <td>True</td>\n",
       "      <td>0</td>\n",
       "      <td>59.0</td>\n",
       "      <td>19</td>\n",
       "      <td>0</td>\n",
       "      <td>44</td>\n",
       "    </tr>\n",
       "    <tr>\n",
       "      <th>43</th>\n",
       "      <td>5/3/16 14:25</td>\n",
       "      <td>THEFT</td>\n",
       "      <td>False</td>\n",
       "      <td>1</td>\n",
       "      <td>146.0</td>\n",
       "      <td>19</td>\n",
       "      <td>1</td>\n",
       "      <td>32</td>\n",
       "    </tr>\n",
       "    <tr>\n",
       "      <th>44</th>\n",
       "      <td>5/3/16 18:10</td>\n",
       "      <td>THEFT</td>\n",
       "      <td>False</td>\n",
       "      <td>1</td>\n",
       "      <td>133.0</td>\n",
       "      <td>8</td>\n",
       "      <td>1</td>\n",
       "      <td>23</td>\n",
       "    </tr>\n",
       "    <tr>\n",
       "      <th>45</th>\n",
       "      <td>5/3/16 14:00</td>\n",
       "      <td>THEFT</td>\n",
       "      <td>False</td>\n",
       "      <td>1</td>\n",
       "      <td>235.0</td>\n",
       "      <td>1</td>\n",
       "      <td>1</td>\n",
       "      <td>42</td>\n",
       "    </tr>\n",
       "    <tr>\n",
       "      <th>46</th>\n",
       "      <td>5/3/16 18:00</td>\n",
       "      <td>CRIMINAL DAMAGE</td>\n",
       "      <td>False</td>\n",
       "      <td>3</td>\n",
       "      <td>292.0</td>\n",
       "      <td>4</td>\n",
       "      <td>1</td>\n",
       "      <td>8</td>\n",
       "    </tr>\n",
       "    <tr>\n",
       "      <th>47</th>\n",
       "      <td>5/3/16 18:00</td>\n",
       "      <td>BATTERY</td>\n",
       "      <td>False</td>\n",
       "      <td>2</td>\n",
       "      <td>270.0</td>\n",
       "      <td>6</td>\n",
       "      <td>1</td>\n",
       "      <td>6</td>\n",
       "    </tr>\n",
       "    <tr>\n",
       "      <th>48</th>\n",
       "      <td>5/3/16 21:00</td>\n",
       "      <td>THEFT</td>\n",
       "      <td>False</td>\n",
       "      <td>1</td>\n",
       "      <td>87.0</td>\n",
       "      <td>9</td>\n",
       "      <td>0</td>\n",
       "      <td>11</td>\n",
       "    </tr>\n",
       "    <tr>\n",
       "      <th>49</th>\n",
       "      <td>5/3/16 12:00</td>\n",
       "      <td>DECEPTIVE PRACTICE</td>\n",
       "      <td>False</td>\n",
       "      <td>1</td>\n",
       "      <td>36.0</td>\n",
       "      <td>9</td>\n",
       "      <td>0</td>\n",
       "      <td>20</td>\n",
       "    </tr>\n",
       "  </tbody>\n",
       "</table>\n",
       "</div>"
      ],
      "text/plain": [
       "            Date            Primary Type Arrest  Crime Weightage  \\\n",
       "0   5/3/16 21:00               NARCOTICS   True                3   \n",
       "1   5/3/16 21:35                   THEFT  False                1   \n",
       "2   5/3/16 14:45                 ASSAULT  False                3   \n",
       "3   5/3/16 18:42                 BATTERY  False                2   \n",
       "4   5/3/16 19:30         CRIMINAL DAMAGE  False                3   \n",
       "5   5/3/16 13:30           OTHER OFFENSE  False                2   \n",
       "6   5/3/16 19:30                   THEFT  False                1   \n",
       "7    5/3/16 9:11      DECEPTIVE PRACTICE  False                1   \n",
       "8    5/3/16 6:30                   THEFT  False                1   \n",
       "9   5/3/16 18:30                   THEFT  False                1   \n",
       "10  5/3/16 17:40                 ASSAULT  False                3   \n",
       "11  5/3/16 10:00         CRIMINAL DAMAGE  False                3   \n",
       "12  5/3/16 13:00      DECEPTIVE PRACTICE  False                1   \n",
       "13  5/3/16 20:30     MOTOR VEHICLE THEFT  False                2   \n",
       "14  5/3/16 16:07  PUBLIC PEACE VIOLATION  False                3   \n",
       "15  5/3/16 14:00                   THEFT  False                1   \n",
       "16  5/3/16 15:05                 BATTERY  False                2   \n",
       "17   5/3/16 9:00                   THEFT  False                1   \n",
       "18   5/3/16 0:30                   THEFT  False                1   \n",
       "19  5/3/16 21:35                 ASSAULT  False                3   \n",
       "20  5/3/16 12:15                   THEFT  False                1   \n",
       "21  5/3/16 20:30                 ROBBERY  False                1   \n",
       "22   5/3/16 9:00                 BATTERY  False                2   \n",
       "23  5/3/16 12:15                 BATTERY  False                2   \n",
       "24  5/3/16 20:00                   THEFT  False                1   \n",
       "25  5/3/16 22:00     MOTOR VEHICLE THEFT  False                2   \n",
       "26  5/4/16 11:30       CRIMINAL TRESPASS   True                2   \n",
       "27  5/3/16 19:15           OTHER OFFENSE  False                2   \n",
       "28   5/4/16 9:00                   THEFT  False                1   \n",
       "29  5/3/16 16:00                BURGLARY  False                2   \n",
       "30   5/4/16 8:16                STALKING  False                1   \n",
       "31   5/3/16 9:00                 BATTERY  False                2   \n",
       "32   5/4/16 5:00                   THEFT  False                1   \n",
       "33  5/3/16 18:00      DECEPTIVE PRACTICE  False                1   \n",
       "34  5/4/16 11:58                 ASSAULT   True                2   \n",
       "35  5/4/16 12:35                   THEFT  False                1   \n",
       "36  5/3/16 19:15  PUBLIC PEACE VIOLATION  False                3   \n",
       "37  5/3/16 22:30                BURGLARY  False                2   \n",
       "38  5/3/16 20:40           OTHER OFFENSE  False                2   \n",
       "39  5/3/16 18:30                   THEFT  False                1   \n",
       "40  5/3/16 22:00                   THEFT  False                1   \n",
       "41  5/3/16 22:30                BURGLARY  False                2   \n",
       "42  5/3/16 16:35      DECEPTIVE PRACTICE   True                0   \n",
       "43  5/3/16 14:25                   THEFT  False                1   \n",
       "44  5/3/16 18:10                   THEFT  False                1   \n",
       "45  5/3/16 14:00                   THEFT  False                1   \n",
       "46  5/3/16 18:00         CRIMINAL DAMAGE  False                3   \n",
       "47  5/3/16 18:00                 BATTERY  False                2   \n",
       "48  5/3/16 21:00                   THEFT  False                1   \n",
       "49  5/3/16 12:00      DECEPTIVE PRACTICE  False                1   \n",
       "\n",
       "    Danger Value  District  Label  Ward  \n",
       "0          567.0        11      1    28  \n",
       "1          133.0         8      1    13  \n",
       "2          132.0         9      1    12  \n",
       "3          235.0         8      1    15  \n",
       "4          225.0         9      1    14  \n",
       "5           77.0        11      0    28  \n",
       "6          235.0         1      1     2  \n",
       "7           68.0         1      0    42  \n",
       "8          235.0         1      1    27  \n",
       "9           76.0        16      0    41  \n",
       "10         115.0         5      0     9  \n",
       "11         292.0         4      1     8  \n",
       "12          28.0        10      0    12  \n",
       "13          22.0        16      0    45  \n",
       "14           5.0         2      0     3  \n",
       "15         113.0         6      0    21  \n",
       "16         270.0         6      1    21  \n",
       "17         113.0         6      0     6  \n",
       "18          64.0        10      0    25  \n",
       "19          21.0        20      0    47  \n",
       "20          74.0         7      0    16  \n",
       "21          24.0        25      0    30  \n",
       "22         121.0        16      0    38  \n",
       "23         224.0         3      1     5  \n",
       "24          76.0        16      0    41  \n",
       "25          27.0        24      0    50  \n",
       "26          27.0         3      0     5  \n",
       "27          32.0        20      0    40  \n",
       "28         222.0        18      1    42  \n",
       "29          60.0        10      0    22  \n",
       "30           1.0         8      0    14  \n",
       "31         181.0         2      1     4  \n",
       "32          73.0        11      0    27  \n",
       "33          34.0        22      0    19  \n",
       "34         139.0        11      1    27  \n",
       "35          83.0         3      0     5  \n",
       "36           8.0        25      0    29  \n",
       "37          99.0         4      0     8  \n",
       "38          90.0         8      0    13  \n",
       "39         133.0         8      1    16  \n",
       "40          76.0        16      0    38  \n",
       "41          64.0        16      0    36  \n",
       "42          59.0        19      0    44  \n",
       "43         146.0        19      1    32  \n",
       "44         133.0         8      1    23  \n",
       "45         235.0         1      1    42  \n",
       "46         292.0         4      1     8  \n",
       "47         270.0         6      1     6  \n",
       "48          87.0         9      0    11  \n",
       "49          36.0         9      0    20  "
      ]
     },
     "execution_count": 29,
     "metadata": {},
     "output_type": "execute_result"
    }
   ],
   "source": [
    "new_df.head(50)"
   ]
  },
  {
   "cell_type": "code",
   "execution_count": 30,
   "metadata": {
    "collapsed": false
   },
   "outputs": [
    {
     "data": {
      "text/plain": [
       "Index(['Date', 'Primary Type', 'Arrest', 'Crime Weightage', 'Danger Value',\n",
       "       'District', 'Label', 'Ward'],\n",
       "      dtype='object')"
      ]
     },
     "execution_count": 30,
     "metadata": {},
     "output_type": "execute_result"
    }
   ],
   "source": [
    "new_df.columns"
   ]
  },
  {
   "cell_type": "markdown",
   "metadata": {},
   "source": [
    "### Printing the Data Shape"
   ]
  },
  {
   "cell_type": "code",
   "execution_count": 31,
   "metadata": {
    "collapsed": false
   },
   "outputs": [
    {
     "name": "stdout",
     "output_type": "stream",
     "text": [
      "(11670, 8)\n"
     ]
    }
   ],
   "source": [
    "print(new_df.shape)"
   ]
  },
  {
   "cell_type": "markdown",
   "metadata": {},
   "source": [
    "### Histogram for Target"
   ]
  },
  {
   "cell_type": "code",
   "execution_count": 32,
   "metadata": {
    "collapsed": false
   },
   "outputs": [
    {
     "data": {
      "text/plain": [
       "<matplotlib.text.Text at 0x115303a20>"
      ]
     },
     "execution_count": 32,
     "metadata": {},
     "output_type": "execute_result"
    },
    {
     "data": {
      "image/png": "[encoded data removed]",
      "text/plain": [
       "<matplotlib.figure.Figure at 0x115424da0>"
      ]
     },
     "metadata": {},
     "output_type": "display_data"
    }
   ],
   "source": [
    "fig, ax = plt.subplots()\n",
    "new_df['Label'].value_counts().plot(ax=ax, kind='bar',color=['#32CD32','red'])\n",
    "plt.xlabel('Target')\n",
    "plt.ylabel('Counts')\n"
   ]
  },
  {
   "cell_type": "markdown",
   "metadata": {},
   "source": [
    "### Plotting the Average Danger Value per District"
   ]
  },
  {
   "cell_type": "code",
   "execution_count": 33,
   "metadata": {
    "collapsed": false
   },
   "outputs": [
    {
     "data": {
      "image/png": "[encoded data removed]",
      "text/plain": [
       "<matplotlib.figure.Figure at 0x1161454a8>"
      ]
     },
     "metadata": {},
     "output_type": "display_data"
    }
   ],
   "source": [
    "fig, ax = plt.subplots()\n",
    "plot1_df = new_df.groupby(['District']).agg({'Danger Value':'mean'}).plot(kind = 'bar', ax=ax)\n"
   ]
  },
  {
   "cell_type": "markdown",
   "metadata": {},
   "source": [
    "### Average Safe and Unsafe Target Values per District"
   ]
  },
  {
   "cell_type": "code",
   "execution_count": 34,
   "metadata": {
    "collapsed": false
   },
   "outputs": [
    {
     "data": {
      "image/png": "[encoded data removed]",
      "text/plain": [
       "<matplotlib.figure.Figure at 0x11619b4e0>"
      ]
     },
     "metadata": {},
     "output_type": "display_data"
    }
   ],
   "source": [
    "fig, ax = plt.subplots()\n",
    "plot2_df = new_df.groupby(['District']).agg({'Label':'mean'}).plot(kind = 'bar', ax=ax)"
   ]
  },
  {
   "cell_type": "code",
   "execution_count": 35,
   "metadata": {
    "collapsed": false
   },
   "outputs": [
    {
     "data": {
      "image/png": "[encoded data removed]",
      "text/plain": [
       "<matplotlib.figure.Figure at 0x1187da2b0>"
      ]
     },
     "metadata": {},
     "output_type": "display_data"
    }
   ],
   "source": [
    "fig, ax = plt.subplots()\n",
    "plot2_df = new_df.groupby(['Primary Type']).agg({'Label':'count'}).plot(kind = 'barh', ax=ax)"
   ]
  },
  {
   "cell_type": "markdown",
   "metadata": {},
   "source": [
    "### Mean for the Target"
   ]
  },
  {
   "cell_type": "code",
   "execution_count": 36,
   "metadata": {
    "collapsed": false
   },
   "outputs": [
    {
     "data": {
      "text/plain": [
       "0.41105398457583547"
      ]
     },
     "execution_count": 36,
     "metadata": {},
     "output_type": "execute_result"
    }
   ],
   "source": [
    "new_df['Label'].mean()"
   ]
  },
  {
   "cell_type": "markdown",
   "metadata": {},
   "source": [
    "### Variance for Target"
   ]
  },
  {
   "cell_type": "code",
   "execution_count": 37,
   "metadata": {
    "collapsed": false
   },
   "outputs": [
    {
     "data": {
      "text/plain": [
       "0.24210935264287586"
      ]
     },
     "execution_count": 37,
     "metadata": {},
     "output_type": "execute_result"
    }
   ],
   "source": [
    "new_df['Label'].var()"
   ]
  },
  {
   "cell_type": "markdown",
   "metadata": {},
   "source": [
    "### Box Plot for Target"
   ]
  },
  {
   "cell_type": "code",
   "execution_count": 38,
   "metadata": {
    "collapsed": false
   },
   "outputs": [
    {
     "data": {
      "text/plain": [
       "{'boxes': [<matplotlib.lines.Line2D at 0x118beba90>,\n",
       "  <matplotlib.lines.Line2D at 0x118bfeeb8>,\n",
       "  <matplotlib.lines.Line2D at 0x118e29828>,\n",
       "  <matplotlib.lines.Line2D at 0x118e40198>],\n",
       " 'caps': [<matplotlib.lines.Line2D at 0x118bf3e80>,\n",
       "  <matplotlib.lines.Line2D at 0x118bf7d68>,\n",
       "  <matplotlib.lines.Line2D at 0x118e1de80>,\n",
       "  <matplotlib.lines.Line2D at 0x118e1df98>,\n",
       "  <matplotlib.lines.Line2D at 0x118e357f0>,\n",
       "  <matplotlib.lines.Line2D at 0x118e35ef0>,\n",
       "  <matplotlib.lines.Line2D at 0x118e45a90>,\n",
       "  <matplotlib.lines.Line2D at 0x118e4c978>],\n",
       " 'fliers': [<matplotlib.lines.Line2D at 0x118bfedd8>,\n",
       "  <matplotlib.lines.Line2D at 0x118e29748>,\n",
       "  <matplotlib.lines.Line2D at 0x118e3bf98>,\n",
       "  <matplotlib.lines.Line2D at 0x118e519e8>],\n",
       " 'means': [],\n",
       " 'medians': [<matplotlib.lines.Line2D at 0x118bf7ef0>,\n",
       "  <matplotlib.lines.Line2D at 0x118e23860>,\n",
       "  <matplotlib.lines.Line2D at 0x118e3b1d0>,\n",
       "  <matplotlib.lines.Line2D at 0x118e4cb00>],\n",
       " 'whiskers': [<matplotlib.lines.Line2D at 0x118bebd30>,\n",
       "  <matplotlib.lines.Line2D at 0x118bf3cf8>,\n",
       "  <matplotlib.lines.Line2D at 0x118e17e10>,\n",
       "  <matplotlib.lines.Line2D at 0x118e17f98>,\n",
       "  <matplotlib.lines.Line2D at 0x118e2f780>,\n",
       "  <matplotlib.lines.Line2D at 0x118e2ff98>,\n",
       "  <matplotlib.lines.Line2D at 0x118e40fd0>,\n",
       "  <matplotlib.lines.Line2D at 0x118e45908>]}"
      ]
     },
     "execution_count": 38,
     "metadata": {},
     "output_type": "execute_result"
    },
    {
     "data": {
      "image/png": "[encoded data removed]",
      "text/plain": [
       "<matplotlib.figure.Figure at 0x118b7a2e8>"
      ]
     },
     "metadata": {},
     "output_type": "display_data"
    }
   ],
   "source": [
    "plt.boxplot([new_df['Label'],new_df['Danger Value'],new_df['Arrest'],new_df['Crime Weightage']])"
   ]
  },
  {
   "cell_type": "code",
   "execution_count": 39,
   "metadata": {
    "collapsed": false
   },
   "outputs": [],
   "source": [
    "cols = new_df.columns.tolist()"
   ]
  },
  {
   "cell_type": "code",
   "execution_count": 40,
   "metadata": {
    "collapsed": false
   },
   "outputs": [
    {
     "data": {
      "text/plain": [
       "['Date',\n",
       " 'Primary Type',\n",
       " 'Arrest',\n",
       " 'Crime Weightage',\n",
       " 'Danger Value',\n",
       " 'District',\n",
       " 'Label',\n",
       " 'Ward']"
      ]
     },
     "execution_count": 40,
     "metadata": {},
     "output_type": "execute_result"
    }
   ],
   "source": [
    "cols"
   ]
  },
  {
   "cell_type": "code",
   "execution_count": 41,
   "metadata": {
    "collapsed": false
   },
   "outputs": [],
   "source": [
    "cols.insert(0, cols.pop(cols.index('District')))"
   ]
  },
  {
   "cell_type": "code",
   "execution_count": 42,
   "metadata": {
    "collapsed": false
   },
   "outputs": [
    {
     "data": {
      "text/plain": [
       "['District',\n",
       " 'Date',\n",
       " 'Primary Type',\n",
       " 'Arrest',\n",
       " 'Crime Weightage',\n",
       " 'Danger Value',\n",
       " 'Label',\n",
       " 'Ward']"
      ]
     },
     "execution_count": 42,
     "metadata": {},
     "output_type": "execute_result"
    }
   ],
   "source": [
    "cols"
   ]
  },
  {
   "cell_type": "code",
   "execution_count": 43,
   "metadata": {
    "collapsed": true
   },
   "outputs": [],
   "source": [
    "new_df = new_df.reindex(columns= cols)"
   ]
  },
  {
   "cell_type": "code",
   "execution_count": 44,
   "metadata": {
    "collapsed": false
   },
   "outputs": [],
   "source": [
    "new_df = new_df.drop(new_df.columns[[5,7]], axis=1, inplace=False)"
   ]
  },
  {
   "cell_type": "code",
   "execution_count": 45,
   "metadata": {
    "collapsed": false
   },
   "outputs": [
    {
     "data": {
      "text/html": [
       "<div>\n",
       "<table border=\"1\" class=\"dataframe\">\n",
       "  <thead>\n",
       "    <tr style=\"text-align: right;\">\n",
       "      <th></th>\n",
       "      <th>District</th>\n",
       "      <th>Date</th>\n",
       "      <th>Primary Type</th>\n",
       "      <th>Arrest</th>\n",
       "      <th>Crime Weightage</th>\n",
       "      <th>Label</th>\n",
       "    </tr>\n",
       "  </thead>\n",
       "  <tbody>\n",
       "    <tr>\n",
       "      <th>0</th>\n",
       "      <td>11</td>\n",
       "      <td>5/3/16 21:00</td>\n",
       "      <td>NARCOTICS</td>\n",
       "      <td>True</td>\n",
       "      <td>3</td>\n",
       "      <td>1</td>\n",
       "    </tr>\n",
       "    <tr>\n",
       "      <th>1</th>\n",
       "      <td>8</td>\n",
       "      <td>5/3/16 21:35</td>\n",
       "      <td>THEFT</td>\n",
       "      <td>False</td>\n",
       "      <td>1</td>\n",
       "      <td>1</td>\n",
       "    </tr>\n",
       "    <tr>\n",
       "      <th>2</th>\n",
       "      <td>9</td>\n",
       "      <td>5/3/16 14:45</td>\n",
       "      <td>ASSAULT</td>\n",
       "      <td>False</td>\n",
       "      <td>3</td>\n",
       "      <td>1</td>\n",
       "    </tr>\n",
       "    <tr>\n",
       "      <th>3</th>\n",
       "      <td>8</td>\n",
       "      <td>5/3/16 18:42</td>\n",
       "      <td>BATTERY</td>\n",
       "      <td>False</td>\n",
       "      <td>2</td>\n",
       "      <td>1</td>\n",
       "    </tr>\n",
       "    <tr>\n",
       "      <th>4</th>\n",
       "      <td>9</td>\n",
       "      <td>5/3/16 19:30</td>\n",
       "      <td>CRIMINAL DAMAGE</td>\n",
       "      <td>False</td>\n",
       "      <td>3</td>\n",
       "      <td>1</td>\n",
       "    </tr>\n",
       "  </tbody>\n",
       "</table>\n",
       "</div>"
      ],
      "text/plain": [
       "   District          Date     Primary Type Arrest  Crime Weightage  Label\n",
       "0        11  5/3/16 21:00        NARCOTICS   True                3      1\n",
       "1         8  5/3/16 21:35            THEFT  False                1      1\n",
       "2         9  5/3/16 14:45          ASSAULT  False                3      1\n",
       "3         8  5/3/16 18:42          BATTERY  False                2      1\n",
       "4         9  5/3/16 19:30  CRIMINAL DAMAGE  False                3      1"
      ]
     },
     "execution_count": 45,
     "metadata": {},
     "output_type": "execute_result"
    }
   ],
   "source": [
    "new_df.head()"
   ]
  },
  {
   "cell_type": "code",
   "execution_count": 46,
   "metadata": {
    "collapsed": false
   },
   "outputs": [],
   "source": [
    "new_df.to_csv(path_or_buf='Cleaned_file.csv', sep=',', index = False)"
   ]
  },
  {
   "cell_type": "code",
   "execution_count": null,
   "metadata": {
    "collapsed": true
   },
   "outputs": [],
   "source": []
  }
 ],
 "metadata": {
  "anaconda-cloud": {},
  "kernelspec": {
   "display_name": "Python [default]",
   "language": "python",
   "name": "python3"
  },
  "language_info": {
   "codemirror_mode": {
    "name": "ipython",
    "version": 3
   },
   "file_extension": ".py",
   "mimetype": "text/x-python",
   "name": "python",
   "nbconvert_exporter": "python",
   "pygments_lexer": "ipython3",
   "version": "3.5.2"
  }
 },
 "nbformat": 4,
 "nbformat_minor": 1
}
