{
 "cells": [
  {
   "cell_type": "code",
   "execution_count": 1,
   "metadata": {
    "collapsed": true
   },
   "outputs": [],
   "source": [
    "import numpy as np\n",
    "import urllib\n",
    "from sklearn import preprocessing\n",
    "import pandas as pd\n",
    "from sklearn import metrics\n",
    "from sklearn.linear_model import LogisticRegression\n",
    "from sklearn.model_selection import train_test_split\n",
    "from sklearn.datasets import make_classification\n",
    "import matplotlib.pyplot as plt\n",
    "from numpy import loadtxt, where\n",
    "from pylab import scatter, show, legend, xlabel, ylabel\n",
    "from matplotlib.colors import ListedColormap\n",
    "from sklearn.model_selection import cross_val_score\n",
    "from sklearn.neural_network import MLPClassifier\n",
    "from sklearn import tree\n",
    "from sklearn.naive_bayes import GaussianNB\n",
    "from sklearn.svm import SVC\n"
   ]
  },
  {
   "cell_type": "code",
   "execution_count": 2,
   "metadata": {
    "collapsed": true
   },
   "outputs": [],
   "source": [
    "#Preprocessed clean version of input file\n",
    "input_file = \"Cleaned_file.csv\""
   ]
  },
  {
   "cell_type": "code",
   "execution_count": 3,
   "metadata": {
    "collapsed": true
   },
   "outputs": [],
   "source": [
    "df = pd.read_csv(input_file)"
   ]
  },
  {
   "cell_type": "code",
   "execution_count": 4,
   "metadata": {
    "collapsed": false
   },
   "outputs": [
    {
     "data": {
      "text/plain": [
       "(11670, 6)"
      ]
     },
     "execution_count": 4,
     "metadata": {},
     "output_type": "execute_result"
    }
   ],
   "source": [
    "# Printing Data Shape\n",
    "df.shape"
   ]
  },
  {
   "cell_type": "code",
   "execution_count": 5,
   "metadata": {
    "collapsed": false
   },
   "outputs": [
    {
     "data": {
      "text/html": [
       "<div>\n",
       "<table border=\"1\" class=\"dataframe\">\n",
       "  <thead>\n",
       "    <tr style=\"text-align: right;\">\n",
       "      <th></th>\n",
       "      <th>District</th>\n",
       "      <th>Date</th>\n",
       "      <th>Primary Type</th>\n",
       "      <th>Arrest</th>\n",
       "      <th>Crime Weightage</th>\n",
       "      <th>Label</th>\n",
       "    </tr>\n",
       "  </thead>\n",
       "  <tbody>\n",
       "    <tr>\n",
       "      <th>0</th>\n",
       "      <td>11</td>\n",
       "      <td>5/3/16 21:00</td>\n",
       "      <td>NARCOTICS</td>\n",
       "      <td>True</td>\n",
       "      <td>3</td>\n",
       "      <td>1</td>\n",
       "    </tr>\n",
       "    <tr>\n",
       "      <th>1</th>\n",
       "      <td>8</td>\n",
       "      <td>5/3/16 21:35</td>\n",
       "      <td>THEFT</td>\n",
       "      <td>False</td>\n",
       "      <td>1</td>\n",
       "      <td>1</td>\n",
       "    </tr>\n",
       "    <tr>\n",
       "      <th>2</th>\n",
       "      <td>9</td>\n",
       "      <td>5/3/16 14:45</td>\n",
       "      <td>ASSAULT</td>\n",
       "      <td>False</td>\n",
       "      <td>3</td>\n",
       "      <td>1</td>\n",
       "    </tr>\n",
       "    <tr>\n",
       "      <th>3</th>\n",
       "      <td>8</td>\n",
       "      <td>5/3/16 18:42</td>\n",
       "      <td>BATTERY</td>\n",
       "      <td>False</td>\n",
       "      <td>2</td>\n",
       "      <td>1</td>\n",
       "    </tr>\n",
       "    <tr>\n",
       "      <th>4</th>\n",
       "      <td>9</td>\n",
       "      <td>5/3/16 19:30</td>\n",
       "      <td>CRIMINAL DAMAGE</td>\n",
       "      <td>False</td>\n",
       "      <td>3</td>\n",
       "      <td>1</td>\n",
       "    </tr>\n",
       "    <tr>\n",
       "      <th>5</th>\n",
       "      <td>11</td>\n",
       "      <td>5/3/16 13:30</td>\n",
       "      <td>OTHER OFFENSE</td>\n",
       "      <td>False</td>\n",
       "      <td>2</td>\n",
       "      <td>0</td>\n",
       "    </tr>\n",
       "    <tr>\n",
       "      <th>6</th>\n",
       "      <td>1</td>\n",
       "      <td>5/3/16 19:30</td>\n",
       "      <td>THEFT</td>\n",
       "      <td>False</td>\n",
       "      <td>1</td>\n",
       "      <td>1</td>\n",
       "    </tr>\n",
       "    <tr>\n",
       "      <th>7</th>\n",
       "      <td>1</td>\n",
       "      <td>5/3/16 9:11</td>\n",
       "      <td>DECEPTIVE PRACTICE</td>\n",
       "      <td>False</td>\n",
       "      <td>1</td>\n",
       "      <td>0</td>\n",
       "    </tr>\n",
       "    <tr>\n",
       "      <th>8</th>\n",
       "      <td>1</td>\n",
       "      <td>5/3/16 6:30</td>\n",
       "      <td>THEFT</td>\n",
       "      <td>False</td>\n",
       "      <td>1</td>\n",
       "      <td>1</td>\n",
       "    </tr>\n",
       "    <tr>\n",
       "      <th>9</th>\n",
       "      <td>16</td>\n",
       "      <td>5/3/16 18:30</td>\n",
       "      <td>THEFT</td>\n",
       "      <td>False</td>\n",
       "      <td>1</td>\n",
       "      <td>0</td>\n",
       "    </tr>\n",
       "  </tbody>\n",
       "</table>\n",
       "</div>"
      ],
      "text/plain": [
       "   District          Date        Primary Type Arrest  Crime Weightage  Label\n",
       "0        11  5/3/16 21:00           NARCOTICS   True                3      1\n",
       "1         8  5/3/16 21:35               THEFT  False                1      1\n",
       "2         9  5/3/16 14:45             ASSAULT  False                3      1\n",
       "3         8  5/3/16 18:42             BATTERY  False                2      1\n",
       "4         9  5/3/16 19:30     CRIMINAL DAMAGE  False                3      1\n",
       "5        11  5/3/16 13:30       OTHER OFFENSE  False                2      0\n",
       "6         1  5/3/16 19:30               THEFT  False                1      1\n",
       "7         1   5/3/16 9:11  DECEPTIVE PRACTICE  False                1      0\n",
       "8         1   5/3/16 6:30               THEFT  False                1      1\n",
       "9        16  5/3/16 18:30               THEFT  False                1      0"
      ]
     },
     "execution_count": 5,
     "metadata": {},
     "output_type": "execute_result"
    }
   ],
   "source": [
    "df.head(10)"
   ]
  },
  {
   "cell_type": "code",
   "execution_count": 6,
   "metadata": {
    "collapsed": false
   },
   "outputs": [],
   "source": [
    "#dataset = np.loadtxt(input_file, delimiter=\",\")"
   ]
  },
  {
   "cell_type": "code",
   "execution_count": 7,
   "metadata": {
    "collapsed": false
   },
   "outputs": [],
   "source": [
    "# Giving numeric values for text data\n",
    "primaryType = preprocessing.LabelEncoder()\n",
    "arrest = preprocessing.LabelEncoder()\n",
    "#date = preprocessing.LabelEncoder()"
   ]
  },
  {
   "cell_type": "code",
   "execution_count": 8,
   "metadata": {
    "collapsed": false
   },
   "outputs": [],
   "source": [
    "df[\"Primary Type\"] = primaryType.fit_transform(df[\"Primary Type\"])\n",
    "df[\"Arrest\"] = arrest.fit_transform(df[\"Arrest\"])\n",
    "#df[\"Date\"] = date.fit_transform(df[\"Date\"])"
   ]
  },
  {
   "cell_type": "code",
   "execution_count": 9,
   "metadata": {
    "collapsed": false
   },
   "outputs": [],
   "source": [
    "df['Date'] = df['Date'].apply(lambda x: x.split('/')[0])"
   ]
  },
  {
   "cell_type": "code",
   "execution_count": 10,
   "metadata": {
    "collapsed": false
   },
   "outputs": [
    {
     "data": {
      "text/html": [
       "<div>\n",
       "<table border=\"1\" class=\"dataframe\">\n",
       "  <thead>\n",
       "    <tr style=\"text-align: right;\">\n",
       "      <th></th>\n",
       "      <th>District</th>\n",
       "      <th>Date</th>\n",
       "      <th>Primary Type</th>\n",
       "      <th>Arrest</th>\n",
       "      <th>Crime Weightage</th>\n",
       "      <th>Label</th>\n",
       "    </tr>\n",
       "  </thead>\n",
       "  <tbody>\n",
       "    <tr>\n",
       "      <th>0</th>\n",
       "      <td>11</td>\n",
       "      <td>5</td>\n",
       "      <td>16</td>\n",
       "      <td>1</td>\n",
       "      <td>3</td>\n",
       "      <td>1</td>\n",
       "    </tr>\n",
       "    <tr>\n",
       "      <th>1</th>\n",
       "      <td>8</td>\n",
       "      <td>5</td>\n",
       "      <td>28</td>\n",
       "      <td>0</td>\n",
       "      <td>1</td>\n",
       "      <td>1</td>\n",
       "    </tr>\n",
       "    <tr>\n",
       "      <th>2</th>\n",
       "      <td>9</td>\n",
       "      <td>5</td>\n",
       "      <td>1</td>\n",
       "      <td>0</td>\n",
       "      <td>3</td>\n",
       "      <td>1</td>\n",
       "    </tr>\n",
       "    <tr>\n",
       "      <th>3</th>\n",
       "      <td>8</td>\n",
       "      <td>5</td>\n",
       "      <td>2</td>\n",
       "      <td>0</td>\n",
       "      <td>2</td>\n",
       "      <td>1</td>\n",
       "    </tr>\n",
       "    <tr>\n",
       "      <th>4</th>\n",
       "      <td>9</td>\n",
       "      <td>5</td>\n",
       "      <td>6</td>\n",
       "      <td>0</td>\n",
       "      <td>3</td>\n",
       "      <td>1</td>\n",
       "    </tr>\n",
       "    <tr>\n",
       "      <th>5</th>\n",
       "      <td>11</td>\n",
       "      <td>5</td>\n",
       "      <td>22</td>\n",
       "      <td>0</td>\n",
       "      <td>2</td>\n",
       "      <td>0</td>\n",
       "    </tr>\n",
       "    <tr>\n",
       "      <th>6</th>\n",
       "      <td>1</td>\n",
       "      <td>5</td>\n",
       "      <td>28</td>\n",
       "      <td>0</td>\n",
       "      <td>1</td>\n",
       "      <td>1</td>\n",
       "    </tr>\n",
       "    <tr>\n",
       "      <th>7</th>\n",
       "      <td>1</td>\n",
       "      <td>5</td>\n",
       "      <td>8</td>\n",
       "      <td>0</td>\n",
       "      <td>1</td>\n",
       "      <td>0</td>\n",
       "    </tr>\n",
       "    <tr>\n",
       "      <th>8</th>\n",
       "      <td>1</td>\n",
       "      <td>5</td>\n",
       "      <td>28</td>\n",
       "      <td>0</td>\n",
       "      <td>1</td>\n",
       "      <td>1</td>\n",
       "    </tr>\n",
       "    <tr>\n",
       "      <th>9</th>\n",
       "      <td>16</td>\n",
       "      <td>5</td>\n",
       "      <td>28</td>\n",
       "      <td>0</td>\n",
       "      <td>1</td>\n",
       "      <td>0</td>\n",
       "    </tr>\n",
       "  </tbody>\n",
       "</table>\n",
       "</div>"
      ],
      "text/plain": [
       "   District Date  Primary Type  Arrest  Crime Weightage  Label\n",
       "0        11    5            16       1                3      1\n",
       "1         8    5            28       0                1      1\n",
       "2         9    5             1       0                3      1\n",
       "3         8    5             2       0                2      1\n",
       "4         9    5             6       0                3      1\n",
       "5        11    5            22       0                2      0\n",
       "6         1    5            28       0                1      1\n",
       "7         1    5             8       0                1      0\n",
       "8         1    5            28       0                1      1\n",
       "9        16    5            28       0                1      0"
      ]
     },
     "execution_count": 10,
     "metadata": {},
     "output_type": "execute_result"
    }
   ],
   "source": [
    "df.head(10)"
   ]
  },
  {
   "cell_type": "code",
   "execution_count": 11,
   "metadata": {
    "collapsed": false
   },
   "outputs": [],
   "source": [
    "#df[\"Date\"] = date.inverse_transform(df[\"Date\"])\n",
    "#encod = preprocessing.OneHotEncoder()\n",
    "#dataMat =  encod.fit_transform(df)\n",
    "#print(np.matrix(dataMat))"
   ]
  },
  {
   "cell_type": "code",
   "execution_count": 12,
   "metadata": {
    "collapsed": false
   },
   "outputs": [],
   "source": [
    "#df.head()\n",
    "keep_col = ['District', 'Date', 'Primary Type', 'Crime Weightage', 'Label']\n",
    "new_df = df[keep_col]"
   ]
  },
  {
   "cell_type": "code",
   "execution_count": 13,
   "metadata": {
    "collapsed": false
   },
   "outputs": [
    {
     "data": {
      "text/plain": [
       "array([[11, '5', 16, 3, 1],\n",
       "       [8, '5', 28, 1, 1],\n",
       "       [9, '5', 1, 3, 1],\n",
       "       ..., \n",
       "       [9, '10', 10, 4, 0],\n",
       "       [2, '10', 10, 4, 0],\n",
       "       [2, '5', 10, 4, 0]], dtype=object)"
      ]
     },
     "execution_count": 13,
     "metadata": {},
     "output_type": "execute_result"
    }
   ],
   "source": [
    "array = new_df.values\n",
    "array"
   ]
  },
  {
   "cell_type": "code",
   "execution_count": 14,
   "metadata": {
    "collapsed": true
   },
   "outputs": [],
   "source": [
    "#columns = [\"District\", \"Date\", \"Primary Type\", \"Arrest\", \"Crime Weightage\"]"
   ]
  },
  {
   "cell_type": "code",
   "execution_count": 15,
   "metadata": {
    "collapsed": false
   },
   "outputs": [],
   "source": [
    "# Features\n",
    "X = list(array[:,0:4])"
   ]
  },
  {
   "cell_type": "code",
   "execution_count": 16,
   "metadata": {
    "collapsed": false
   },
   "outputs": [],
   "source": [
    "# Target\n",
    "Y = list(array[:,4])"
   ]
  },
  {
   "cell_type": "code",
   "execution_count": 17,
   "metadata": {
    "collapsed": false
   },
   "outputs": [
    {
     "name": "stdout",
     "output_type": "stream",
     "text": [
      "Probability of 0s in the Target  0.589\n",
      "Probability of 1s in the Target  0.411\n"
     ]
    }
   ],
   "source": [
    "totalTarget = df[\"Label\"].count()\n",
    "\n",
    "# Count of 0s in the target\n",
    "zeroCount = df[(df[\"Label\"] == 0)].count()[0]\n",
    "\n",
    "# Count of 1s in the target\n",
    "oneCount = df[(df[\"Label\"] == 1)].count()[0]\n",
    "\n",
    "#Probability of 0s in the target\n",
    "probZero = zeroCount / totalTarget\n",
    "\n",
    "#Probability of 1s in the target\n",
    "probOne = oneCount / totalTarget\n",
    "\n",
    "print(\"Probability of 0s in the Target \", '%0.3f'%(probZero))\n",
    "print(\"Probability of 1s in the Target \", '%0.3f'%(probOne))"
   ]
  },
  {
   "cell_type": "markdown",
   "metadata": {
    "collapsed": false
   },
   "source": [
    "#### Since probability for 0s in the target is higher than 1s, we'll use 0.59 as out baseline accuracy."
   ]
  },
  {
   "cell_type": "markdown",
   "metadata": {},
   "source": [
    "#### Splitting Train and Test Data "
   ]
  },
  {
   "cell_type": "code",
   "execution_count": 18,
   "metadata": {
    "collapsed": false
   },
   "outputs": [],
   "source": [
    "X_train, X_test, y_train, y_test = train_test_split(X, Y, train_size=0.70, random_state=0)"
   ]
  },
  {
   "cell_type": "markdown",
   "metadata": {},
   "source": [
    "#### So below we can see that Logistic Regression accuracy is best when argument <i>C >= 0.01</i> i.e. 0.68169"
   ]
  },
  {
   "cell_type": "code",
   "execution_count": 19,
   "metadata": {
    "collapsed": false
   },
   "outputs": [
    {
     "name": "stdout",
     "output_type": "stream",
     "text": [
      "Accuracy with C =  5 : 0.68058(+/- 0.02743)\n",
      "Accuracy with C =  2 : 0.68058(+/- 0.02743)\n",
      "Accuracy with C =  1 : 0.68058(+/- 0.02743)\n",
      "Accuracy with C =  0.1 : 0.68132(+/- 0.02742)\n",
      "Accuracy with C =  0.01 : 0.68169(+/- 0.03421)\n",
      "Accuracy with C =  0.001 : 0.68132(+/- 0.03117)\n",
      "Accuracy with C =  0.002 : 0.68144(+/- 0.03282)\n",
      "Accuracy with C =  0.0001 : 0.68144(+/- 0.03151)\n",
      "Accuracy with C =  1e-05 : 0.63100(+/- 0.02456)\n"
     ]
    }
   ],
   "source": [
    "# Calculating accuracy of LOGISTIC REGRESSION using CROSS_VAL_SCORE\n",
    "C= [5,2,1,0.1,0.01,0.001,0.002,0.0001,0.00001]\n",
    "for c in C: \n",
    "    clf = LogisticRegression(C = c, max_iter = 1000, random_state=0, solver='sag')\n",
    "    scoresLR = cross_val_score(clf,X_train,y_train,cv=10,scoring='accuracy')\n",
    "    print(\"Accuracy with C = \",c,\": %0.5f(+/- %0.5f)\" %(scoresLR.mean(), scoresLR.std()*2))"
   ]
  },
  {
   "cell_type": "markdown",
   "metadata": {
    "collapsed": false
   },
   "source": [
    "#### Best Accuracy with Decision Tree Classifier is 0.99951"
   ]
  },
  {
   "cell_type": "code",
   "execution_count": 20,
   "metadata": {
    "collapsed": false
   },
   "outputs": [
    {
     "name": "stdout",
     "output_type": "stream",
     "text": [
      "Accuracy with Decision Tree: 0.99976 (+/- 0.00098)\n"
     ]
    }
   ],
   "source": [
    "# Calculating accuracy of DECISION TREE CLASSIFIER using CROSS_VAL_SCORE\n",
    "dtree = tree.DecisionTreeClassifier()\n",
    "scoresDT = cross_val_score(dtree,X_train,y_train,cv=10,scoring='accuracy')\n",
    "print(\"Accuracy with Decision Tree: %0.5f (+/- %0.5f)\" % (scoresDT.mean(), scoresDT.std() * 2))"
   ]
  },
  {
   "cell_type": "markdown",
   "metadata": {},
   "source": [
    "#### Best Accuracy with Naive Bayes is 0.69467"
   ]
  },
  {
   "cell_type": "code",
   "execution_count": 21,
   "metadata": {
    "collapsed": false
   },
   "outputs": [
    {
     "name": "stdout",
     "output_type": "stream",
     "text": [
      "Accuracy with Gaussian Naive Bayes: 0.69467 (+/- 0.03100)\n"
     ]
    }
   ],
   "source": [
    "# Calculating accuracy of NAIVE BAYES using CROSS_VAL_SCORE\n",
    "gnb = GaussianNB()\n",
    "scores = cross_val_score(gnb,X_train,y_train,cv=10,scoring='accuracy')\n",
    "print(\"Accuracy with Gaussian Naive Bayes: %0.5f (+/- %0.5f)\" % (scores.mean(), scores.std() * 2))"
   ]
  },
  {
   "cell_type": "markdown",
   "metadata": {},
   "source": [
    "#### Best Accuracy with MLPC Classifier is when <i>learning_rate = 0.003</i> i.e. 0.81758"
   ]
  },
  {
   "cell_type": "code",
   "execution_count": null,
   "metadata": {
    "collapsed": false
   },
   "outputs": [
    {
     "name": "stdout",
     "output_type": "stream",
     "text": [
      "Accuracy with MLPC Classifier with L= 0.001 a= 0.1 hl= (3,) func= logistic : 0.69638 (+/- 0.02501)\n"
     ]
    }
   ],
   "source": [
    "L = [0.001,0.002,0.003,0.004,0.005,0.006,0.0001,0.00001, 0.000001]\n",
    "func = ['logistic', 'tanh', 'relu']\n",
    "hLayer = [1, 2, 3]\n",
    "neurons = [3, 4, 5, 6, 7]\n",
    "alpha = [0.1, 0.001, 0.0001, 0.00001]\n",
    "\n",
    "for a in alpha:\n",
    "    for l in L:\n",
    "        for f in func:\n",
    "            for h in hLayer:\n",
    "                for n in neurons:\n",
    "                    temp = []\n",
    "                    for i in range(h):\n",
    "                        temp.append(n)\n",
    "                    temp = tuple(temp)\n",
    "                    MLPC = MLPClassifier(random_state=0,hidden_layer_sizes=temp, learning_rate='adaptive',max_iter=10000, learning_rate_init=l, alpha=a, activation=f) \n",
    "                    scoresMLPC = cross_val_score(MLPC,X_train,y_train,cv=10,scoring='accuracy')\n",
    "                    print(\"Accuracy with MLPC Classifier with L=\",l,\"a=\", a, \"hl=\", temp, \"func=\", f, \": %0.5f (+/- %0.5f)\" % (scoresMLPC.mean(), scoresMLPC.std() * 2))\n"
   ]
  },
  {
   "cell_type": "markdown",
   "metadata": {},
   "source": [
    "#### Best Accuracy with Support Vector Machines is 0.96523"
   ]
  },
  {
   "cell_type": "code",
   "execution_count": null,
   "metadata": {
    "collapsed": false
   },
   "outputs": [],
   "source": [
    "param = ['kernel', 'C', 'degree']\n",
    "kernel = ['linear', 'poly', 'rbf', 'sigmoid']\n",
    "C = [0.1, 1, 10]\n",
    "degree = [2, 3, 4]\n",
    "\n",
    "for k in kernel:\n",
    "    for c in C:\n",
    "        for d in degree:\n",
    "            svclf = SVC(cache_size=1000, kernel=k,C=c,degree=d) # Increased Cache size for larger datasets\n",
    "            scores = cross_val_score(svclf,X_train,y_train,cv=10,scoring='accuracy')\n",
    "            print(\"Accuracy with SVM parameters:K=\",k,\" C=\", c, \" d=\", d, \": %0.5f (+/- %0.5f)\" % (scores.mean(), scores.std() * 2))"
   ]
  },
  {
   "cell_type": "code",
   "execution_count": null,
   "metadata": {
    "collapsed": true
   },
   "outputs": [],
   "source": []
  },
  {
   "cell_type": "markdown",
   "metadata": {},
   "source": [
    "#### Accuracy of the various models in the order of increasing accuracy:\n",
    "1. Logistic Regression     : 0.61068\n",
    "2. Naive Bayes             : 0.63920\n",
    "3. MLPC Classifer          : 0.85161\n",
    "4. Support Vector Machines : 0.96523\n",
    "5. Decision Tree Classifier: 0.99951\n"
   ]
  },
  {
   "cell_type": "markdown",
   "metadata": {},
   "source": [
    "#### So comparing the accuracy for all the models, we found Support Vector Machines to be the best for our dataset as it gives the best accuracy of  0.96523. But since SVM and MLPC models runs very slow on Large Datasets, we preferred to use  "
   ]
  },
  {
   "cell_type": "code",
   "execution_count": null,
   "metadata": {
    "collapsed": false
   },
   "outputs": [],
   "source": [
    "'''Y_pred    = clf.predict(X_test)\n",
    "Y_score   = clf.decision_function(X_test)\n",
    "accuracy  = metrics.accuracy_score(y_test, Y_pred)\n",
    "precision = metrics.precision_score(y_test, Y_pred)\n",
    "recall    = metrics.recall_score(y_test, Y_pred)\n",
    "AUC       = metrics.roc_auc_score(y_test, Y_score)'''"
   ]
  }
 ],
 "metadata": {
  "anaconda-cloud": {},
  "kernelspec": {
   "display_name": "Python [default]",
   "language": "python",
   "name": "python3"
  },
  "language_info": {
   "codemirror_mode": {
    "name": "ipython",
    "version": 3
   },
   "file_extension": ".py",
   "mimetype": "text/x-python",
   "name": "python",
   "nbconvert_exporter": "python",
   "pygments_lexer": "ipython3",
   "version": "3.5.2"
  }
 },
 "nbformat": 4,
 "nbformat_minor": 1
}
