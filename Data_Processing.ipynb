{
 "cells": [
  {
   "cell_type": "code",
   "execution_count": 40,
   "metadata": {
    "collapsed": true
   },
   "outputs": [],
   "source": [
    "import numpy as np\n",
    "import urllib\n",
    "from sklearn import preprocessing\n",
    "import pandas as pd\n",
    "from sklearn import metrics\n",
    "from sklearn.linear_model import LogisticRegression\n",
    "from sklearn.model_selection import train_test_split\n",
    "from sklearn.datasets import make_classification\n",
    "import matplotlib.pyplot as plt\n",
    "from numpy import loadtxt, where\n",
    "from pylab import scatter, show, legend, xlabel, ylabel\n",
    "from matplotlib.colors import ListedColormap\n",
    "from sklearn.model_selection import cross_val_score\n",
    "from sklearn.neural_network import MLPClassifier\n",
    "from sklearn import tree\n",
    "from sklearn.naive_bayes import GaussianNB\n",
    "from sklearn.svm import SVC"
   ]
  },
  {
   "cell_type": "code",
   "execution_count": 41,
   "metadata": {
    "collapsed": true
   },
   "outputs": [],
   "source": [
    "#Preprocessed clean version of input file\n",
    "input_file = \"Cleaned_file.csv\""
   ]
  },
  {
   "cell_type": "code",
   "execution_count": 42,
   "metadata": {
    "collapsed": true
   },
   "outputs": [],
   "source": [
    "df = pd.read_csv(input_file)"
   ]
  },
  {
   "cell_type": "code",
   "execution_count": 43,
   "metadata": {
    "collapsed": false
   },
   "outputs": [
    {
     "data": {
      "text/plain": [
       "(11670, 6)"
      ]
     },
     "execution_count": 43,
     "metadata": {},
     "output_type": "execute_result"
    }
   ],
   "source": [
    "# Printing Data Shape\n",
    "df.shape"
   ]
  },
  {
   "cell_type": "code",
   "execution_count": 44,
   "metadata": {
    "collapsed": false
   },
   "outputs": [
    {
     "data": {
      "text/html": [
       "<div>\n",
       "<table border=\"1\" class=\"dataframe\">\n",
       "  <thead>\n",
       "    <tr style=\"text-align: right;\">\n",
       "      <th></th>\n",
       "      <th>District</th>\n",
       "      <th>Date</th>\n",
       "      <th>Primary Type</th>\n",
       "      <th>Arrest</th>\n",
       "      <th>Crime Weightage</th>\n",
       "      <th>Label</th>\n",
       "    </tr>\n",
       "  </thead>\n",
       "  <tbody>\n",
       "    <tr>\n",
       "      <th>0</th>\n",
       "      <td>11</td>\n",
       "      <td>5/3/16 21:00</td>\n",
       "      <td>NARCOTICS</td>\n",
       "      <td>True</td>\n",
       "      <td>5</td>\n",
       "      <td>1</td>\n",
       "    </tr>\n",
       "    <tr>\n",
       "      <th>1</th>\n",
       "      <td>8</td>\n",
       "      <td>5/3/16 21:35</td>\n",
       "      <td>THEFT</td>\n",
       "      <td>False</td>\n",
       "      <td>1</td>\n",
       "      <td>1</td>\n",
       "    </tr>\n",
       "    <tr>\n",
       "      <th>2</th>\n",
       "      <td>9</td>\n",
       "      <td>5/3/16 14:45</td>\n",
       "      <td>ASSAULT</td>\n",
       "      <td>False</td>\n",
       "      <td>3</td>\n",
       "      <td>0</td>\n",
       "    </tr>\n",
       "    <tr>\n",
       "      <th>3</th>\n",
       "      <td>8</td>\n",
       "      <td>5/3/16 18:42</td>\n",
       "      <td>BATTERY</td>\n",
       "      <td>False</td>\n",
       "      <td>2</td>\n",
       "      <td>1</td>\n",
       "    </tr>\n",
       "    <tr>\n",
       "      <th>4</th>\n",
       "      <td>9</td>\n",
       "      <td>5/3/16 19:30</td>\n",
       "      <td>CRIMINAL DAMAGE</td>\n",
       "      <td>False</td>\n",
       "      <td>3</td>\n",
       "      <td>1</td>\n",
       "    </tr>\n",
       "  </tbody>\n",
       "</table>\n",
       "</div>"
      ],
      "text/plain": [
       "   District          Date     Primary Type Arrest  Crime Weightage  Label\n",
       "0        11  5/3/16 21:00        NARCOTICS   True                5      1\n",
       "1         8  5/3/16 21:35            THEFT  False                1      1\n",
       "2         9  5/3/16 14:45          ASSAULT  False                3      0\n",
       "3         8  5/3/16 18:42          BATTERY  False                2      1\n",
       "4         9  5/3/16 19:30  CRIMINAL DAMAGE  False                3      1"
      ]
     },
     "execution_count": 44,
     "metadata": {},
     "output_type": "execute_result"
    }
   ],
   "source": [
    "df.head()"
   ]
  },
  {
   "cell_type": "code",
   "execution_count": 45,
   "metadata": {
    "collapsed": false
   },
   "outputs": [],
   "source": [
    "#dataset = np.loadtxt(input_file, delimiter=\",\")"
   ]
  },
  {
   "cell_type": "code",
   "execution_count": 46,
   "metadata": {
    "collapsed": false
   },
   "outputs": [],
   "source": [
    "# Giving numeric values for text data\n",
    "primaryType = preprocessing.LabelEncoder()\n",
    "arrest = preprocessing.LabelEncoder()\n",
    "#date = preprocessing.LabelEncoder()"
   ]
  },
  {
   "cell_type": "code",
   "execution_count": 47,
   "metadata": {
    "collapsed": false
   },
   "outputs": [],
   "source": [
    "df[\"Primary Type\"] = primaryType.fit_transform(df[\"Primary Type\"])\n",
    "df[\"Arrest\"] = arrest.fit_transform(df[\"Arrest\"])\n",
    "#df[\"Date\"] = date.fit_transform(df[\"Date\"])"
   ]
  },
  {
   "cell_type": "code",
   "execution_count": 48,
   "metadata": {
    "collapsed": false
   },
   "outputs": [],
   "source": [
    "df['Date'] = df['Date'].apply(lambda x: x.split('/')[0])"
   ]
  },
  {
   "cell_type": "code",
   "execution_count": 49,
   "metadata": {
    "collapsed": false
   },
   "outputs": [],
   "source": [
    "#df['Date'] = df['Date'].dt.month"
   ]
  },
  {
   "cell_type": "code",
   "execution_count": 50,
   "metadata": {
    "collapsed": false
   },
   "outputs": [
    {
     "data": {
      "text/html": [
       "<div>\n",
       "<table border=\"1\" class=\"dataframe\">\n",
       "  <thead>\n",
       "    <tr style=\"text-align: right;\">\n",
       "      <th></th>\n",
       "      <th>District</th>\n",
       "      <th>Date</th>\n",
       "      <th>Primary Type</th>\n",
       "      <th>Arrest</th>\n",
       "      <th>Crime Weightage</th>\n",
       "      <th>Label</th>\n",
       "    </tr>\n",
       "  </thead>\n",
       "  <tbody>\n",
       "    <tr>\n",
       "      <th>0</th>\n",
       "      <td>11</td>\n",
       "      <td>5</td>\n",
       "      <td>16</td>\n",
       "      <td>1</td>\n",
       "      <td>5</td>\n",
       "      <td>1</td>\n",
       "    </tr>\n",
       "    <tr>\n",
       "      <th>1</th>\n",
       "      <td>8</td>\n",
       "      <td>5</td>\n",
       "      <td>28</td>\n",
       "      <td>0</td>\n",
       "      <td>1</td>\n",
       "      <td>1</td>\n",
       "    </tr>\n",
       "    <tr>\n",
       "      <th>2</th>\n",
       "      <td>9</td>\n",
       "      <td>5</td>\n",
       "      <td>1</td>\n",
       "      <td>0</td>\n",
       "      <td>3</td>\n",
       "      <td>0</td>\n",
       "    </tr>\n",
       "    <tr>\n",
       "      <th>3</th>\n",
       "      <td>8</td>\n",
       "      <td>5</td>\n",
       "      <td>2</td>\n",
       "      <td>0</td>\n",
       "      <td>2</td>\n",
       "      <td>1</td>\n",
       "    </tr>\n",
       "    <tr>\n",
       "      <th>4</th>\n",
       "      <td>9</td>\n",
       "      <td>5</td>\n",
       "      <td>6</td>\n",
       "      <td>0</td>\n",
       "      <td>3</td>\n",
       "      <td>1</td>\n",
       "    </tr>\n",
       "  </tbody>\n",
       "</table>\n",
       "</div>"
      ],
      "text/plain": [
       "   District Date  Primary Type  Arrest  Crime Weightage  Label\n",
       "0        11    5            16       1                5      1\n",
       "1         8    5            28       0                1      1\n",
       "2         9    5             1       0                3      0\n",
       "3         8    5             2       0                2      1\n",
       "4         9    5             6       0                3      1"
      ]
     },
     "execution_count": 50,
     "metadata": {},
     "output_type": "execute_result"
    }
   ],
   "source": [
    "df.head()"
   ]
  },
  {
   "cell_type": "code",
   "execution_count": 51,
   "metadata": {
    "collapsed": true
   },
   "outputs": [],
   "source": [
    "#df[\"Date\"] = date.inverse_transform(df[\"Date\"])"
   ]
  },
  {
   "cell_type": "code",
   "execution_count": 52,
   "metadata": {
    "collapsed": false
   },
   "outputs": [],
   "source": [
    "#df.head()"
   ]
  },
  {
   "cell_type": "code",
   "execution_count": 53,
   "metadata": {
    "collapsed": true
   },
   "outputs": [],
   "source": [
    "array = df.values"
   ]
  },
  {
   "cell_type": "code",
   "execution_count": 54,
   "metadata": {
    "collapsed": true
   },
   "outputs": [],
   "source": [
    "#columns = [\"District\", \"Date\", \"Primary Type\", \"Arrest\", \"Crime Weightage\"]"
   ]
  },
  {
   "cell_type": "code",
   "execution_count": 55,
   "metadata": {
    "collapsed": false
   },
   "outputs": [],
   "source": [
    "# Features\n",
    "X = list(array[:,0:5])"
   ]
  },
  {
   "cell_type": "code",
   "execution_count": 56,
   "metadata": {
    "collapsed": false
   },
   "outputs": [],
   "source": [
    "# Target\n",
    "Y = list(array[:,5])"
   ]
  },
  {
   "cell_type": "code",
   "execution_count": null,
   "metadata": {
    "collapsed": false
   },
   "outputs": [],
   "source": []
  },
  {
   "cell_type": "code",
   "execution_count": 57,
   "metadata": {
    "collapsed": false
   },
   "outputs": [],
   "source": [
    "totalTarget = df[\"Label\"].count()"
   ]
  },
  {
   "cell_type": "code",
   "execution_count": 58,
   "metadata": {
    "collapsed": false
   },
   "outputs": [],
   "source": [
    "# Count of 0s in the target\n",
    "zeroCount = df[(df[\"Label\"] == 0)].count()[0]"
   ]
  },
  {
   "cell_type": "code",
   "execution_count": 59,
   "metadata": {
    "collapsed": false
   },
   "outputs": [],
   "source": [
    "# Count of 1s in the target\n",
    "oneCount = df[(df[\"Label\"] == 1)].count()[0]"
   ]
  },
  {
   "cell_type": "code",
   "execution_count": 60,
   "metadata": {
    "collapsed": false
   },
   "outputs": [],
   "source": [
    "#Probability of 0s in the target\n",
    "probZero = zeroCount / totalTarget"
   ]
  },
  {
   "cell_type": "code",
   "execution_count": 61,
   "metadata": {
    "collapsed": true
   },
   "outputs": [],
   "source": [
    "#Probability of 1s in the target\n",
    "probOne = oneCount / totalTarget"
   ]
  },
  {
   "cell_type": "code",
   "execution_count": 62,
   "metadata": {
    "collapsed": false
   },
   "outputs": [
    {
     "name": "stdout",
     "output_type": "stream",
     "text": [
      "Probability of 0s in the Target  0.588\n"
     ]
    }
   ],
   "source": [
    "print(\"Probability of 0s in the Target \", '%0.3f'%(probZero))"
   ]
  },
  {
   "cell_type": "code",
   "execution_count": 63,
   "metadata": {
    "collapsed": false
   },
   "outputs": [
    {
     "name": "stdout",
     "output_type": "stream",
     "text": [
      "Probability of 1s in the Target  0.412\n"
     ]
    }
   ],
   "source": [
    "# Baseline for positive in the Target \n",
    "print(\"Probability of 1s in the Target \", '%0.3f'%(probOne))"
   ]
  },
  {
   "cell_type": "code",
   "execution_count": 64,
   "metadata": {
    "collapsed": false
   },
   "outputs": [],
   "source": [
    "X_train, X_test, y_train, y_test = train_test_split(X, Y, train_size=0.70, random_state=0)"
   ]
  },
  {
   "cell_type": "code",
   "execution_count": 65,
   "metadata": {
    "collapsed": false
   },
   "outputs": [],
   "source": [
    "# Calculating accuracy of LOGISTIC REGRESSION using CROSS_VAL_SCORE\n",
    "C= [5,2,1,0.1,0.01,0.001,0.002,0.0001,0.00001]\n",
    "for c in C: \n",
    "    clf = LogisticRegression(C = c, max_iter = 1000, random_state=0, solver='sag')\n",
    "    scoresLR = cross_val_score(clf,X_train,y_train,cv=10,scoring='accuracy')\n",
    "    print(\"Accuracy with C = \",c,\": %0.5f(+/- %0.5f)\" %(scoresLR.mean(), scoresLR.std()*2))"
   ]
  },
  {
   "cell_type": "markdown",
   "metadata": {
    "collapsed": false
   },
   "source": [
    "### So above we can see that Logistic Regression accuracy is best when C >= 1.0"
   ]
  },
  {
   "cell_type": "code",
   "execution_count": 67,
   "metadata": {
    "collapsed": false
   },
   "outputs": [
    {
     "name": "stdout",
     "output_type": "stream",
     "text": [
      "Accuracy : 0.99951 (+/- 0.00162)\n"
     ]
    }
   ],
   "source": [
    "# Calculating accuracy of DECISION TREE CLASSIFIER using CROSS_VAL_SCORE\n",
    "dtree = tree.DecisionTreeClassifier()\n",
    "scoresDT = cross_val_score(dtree,X_train,y_train,cv=10,scoring='accuracy')\n",
    "print(\"Accuracy with Decision Tree: %0.5f (+/- %0.5f)\" % (scoresDT.mean(), scoresDT.std() * 2))"
   ]
  },
  {
   "cell_type": "code",
   "execution_count": 68,
   "metadata": {
    "collapsed": false
   },
   "outputs": [
    {
     "name": "stdout",
     "output_type": "stream",
     "text": [
      "Accuracy: 0.63920 (+/- 0.03629)\n"
     ]
    }
   ],
   "source": [
    "# Calculating accuracy of NAIVE BAYES using CROSS_VAL_SCORE\n",
    "gnb = GaussianNB()\n",
    "scores = cross_val_score(gnb,X_train,y_train,cv=10,scoring='accuracy')\n",
    "print(\"Accuracy with Gaussian Naive Bayes: %0.5f (+/- %0.5f)\" % (scores.mean(), scores.std() * 2))"
   ]
  },
  {
   "cell_type": "code",
   "execution_count": 83,
   "metadata": {
    "collapsed": false
   },
   "outputs": [
    {
     "name": "stdout",
     "output_type": "stream",
     "text": [
      "Accuracy with MLPC Classifier with 0.001 : 0.82578 (+/- 0.03658)\n",
      "Accuracy with MLPC Classifier with 0.002 : 0.83987 (+/- 0.03972)\n",
      "Accuracy with MLPC Classifier with 0.003 : 0.85161 (+/- 0.05520)\n",
      "Accuracy with MLPC Classifier with 0.0001 : 0.80828 (+/- 0.02259)\n",
      "Accuracy with MLPC Classifier with 1e-05 : 0.66834 (+/- 0.03039)\n",
      "Accuracy with MLPC Classifier with 1e-06 : 0.58435 (+/- 0.01264)\n"
     ]
    }
   ],
   "source": [
    "L = [0.001,0.002,0.003,0.0001,0.00001, 0.000001]\n",
    "for l in L: \n",
    "    MLPC = MLPClassifier(random_state=0, learning_rate='adaptive',max_iter=10000, learning_rate_init=l)\n",
    "    scoresMLPC = cross_val_score(MLPC,X_train,y_train,cv=10,scoring='accuracy')\n",
    "    print(\"Accuracy with MLPC Classifier with\",l,\": %0.5f (+/- %0.5f)\" % (scoresMLPC.mean(), scoresMLPC.std() * 2))"
   ]
  },
  {
   "cell_type": "code",
   "execution_count": 84,
   "metadata": {
    "collapsed": false
   },
   "outputs": [
    {
     "name": "stdout",
     "output_type": "stream",
     "text": [
      "Accuracy with Support Vector Machines: 0.96523 (+/- 0.01620)\n"
     ]
    }
   ],
   "source": [
    "svclf = SVC(cache_size=1000) # Increased Cache size for larger datasets\n",
    "scores = cross_val_score(svclf,X_train,y_train,cv=10,scoring='accuracy')\n",
    "print(\"Accuracy with Support Vector Machines: %0.5f (+/- %0.5f)\" % (scores.mean(), scores.std() * 2))"
   ]
  },
  {
   "cell_type": "code",
   "execution_count": 71,
   "metadata": {
    "collapsed": false
   },
   "outputs": [
    {
     "data": {
      "text/plain": [
       "'Y_pred    = clf.predict(X_test)\\nY_score   = clf.decision_function(X_test)\\naccuracy  = metrics.accuracy_score(y_test, Y_pred)\\nprecision = metrics.precision_score(y_test, Y_pred)\\nrecall    = metrics.recall_score(y_test, Y_pred)\\nAUC       = metrics.roc_auc_score(y_test, Y_score)'"
      ]
     },
     "execution_count": 71,
     "metadata": {},
     "output_type": "execute_result"
    }
   ],
   "source": [
    "'''Y_pred    = clf.predict(X_test)\n",
    "Y_score   = clf.decision_function(X_test)\n",
    "accuracy  = metrics.accuracy_score(y_test, Y_pred)\n",
    "precision = metrics.precision_score(y_test, Y_pred)\n",
    "recall    = metrics.recall_score(y_test, Y_pred)\n",
    "AUC       = metrics.roc_auc_score(y_test, Y_score)'''"
   ]
  },
  {
   "cell_type": "code",
   "execution_count": 72,
   "metadata": {
    "collapsed": false
   },
   "outputs": [],
   "source": [
    "#print('%0.3f'%accuracy,'%0.3f'%precision, '%0.3f'%recall,'%0.3f'%AUC)"
   ]
  },
  {
   "cell_type": "code",
   "execution_count": 73,
   "metadata": {
    "collapsed": false
   },
   "outputs": [],
   "source": [
    "#scores = cross_val_score(clf,X_train,y_train,cv=10,scoring='accuracy')"
   ]
  },
  {
   "cell_type": "code",
   "execution_count": 74,
   "metadata": {
    "collapsed": false
   },
   "outputs": [],
   "source": [
    "#print(\"Accuracy: %0.2f (+/- %0.2f)\" % (scores.mean(), scores.std() * 2))"
   ]
  },
  {
   "cell_type": "code",
   "execution_count": 78,
   "metadata": {
    "collapsed": true
   },
   "outputs": [],
   "source": [
    "#scores = cross_val_score(clf,X_train,y_train,cv=10,scoring='accuracy')"
   ]
  }
 ],
 "metadata": {
  "anaconda-cloud": {},
  "kernelspec": {
   "display_name": "Python [default]",
   "language": "python",
   "name": "python3"
  },
  "language_info": {
   "codemirror_mode": {
    "name": "ipython",
    "version": 3
   },
   "file_extension": ".py",
   "mimetype": "text/x-python",
   "name": "python",
   "nbconvert_exporter": "python",
   "pygments_lexer": "ipython3",
   "version": "3.5.2"
  }
 },
 "nbformat": 4,
 "nbformat_minor": 1
}
