{
 "cells": [
  {
   "cell_type": "code",
   "execution_count": null,
   "metadata": {
    "collapsed": true
   },
   "outputs": [],
   "source": []
  },
  {
   "cell_type": "markdown",
   "metadata": {},
   "source": [
    "### <U>SAFETY PREDICTION IN VARIOUS DISTRICTS OF CHICAGO IN DIFFERENT TIME OF THE YEAR</U>\n",
    "\n",
    "#### GROUP MEMBERS: \n",
    "1. Sami Ahmad Khan, A20352677\n",
    "2. Zeeshan Aamir Khavas, A20341778\n",
    "\n",
    "#### PROJECT DESCRIPTION:\n",
    "In this phase we have used the processed data set \"Cleaned_file.csv\" from 'Data Exploration part'. In this phase we are making use of the differnet classification models learned in course CS584. The dataset has binary target {0, 1}, which can be efficiently evaluated using clssification models.\n",
    "\n",
    "Following are the classification models used for comparing with the baseline accuracy:\n",
    "1. Gaussian Naive Bayes\n",
    "2. Decision Trees\n",
    "3. MLPC Classifier\n",
    "4. Logistic Regression\n",
    "5. Support Vector Machines\n",
    "\n",
    "Using 'CROSS_VAL_SCORE', the above clssification models are evaluated based on their accuracy. Then the model with the best accuracy score is considered for the dataset classification."
   ]
  },
  {
   "cell_type": "code",
   "execution_count": 1,
   "metadata": {
    "collapsed": true
   },
   "outputs": [],
   "source": [
    "import numpy as np\n",
    "import urllib\n",
    "from sklearn import preprocessing\n",
    "import pandas as pd\n",
    "from sklearn import metrics\n",
    "from sklearn.linear_model import LogisticRegression\n",
    "from sklearn.model_selection import train_test_split\n",
    "from sklearn.datasets import make_classification\n",
    "import matplotlib.pyplot as plt\n",
    "from numpy import loadtxt, where\n",
    "from pylab import scatter, show, legend, xlabel, ylabel\n",
    "from matplotlib.colors import ListedColormap\n",
    "from sklearn.model_selection import cross_val_score\n",
    "from sklearn.neural_network import MLPClassifier\n",
    "from sklearn import tree\n",
    "from sklearn.naive_bayes import GaussianNB\n",
    "from sklearn.svm import SVC\n"
   ]
  },
  {
   "cell_type": "code",
   "execution_count": 2,
   "metadata": {
    "collapsed": true
   },
   "outputs": [],
   "source": [
    "#Preprocessed clean version of input file\n",
    "input_file = \"Cleaned_file.csv\""
   ]
  },
  {
   "cell_type": "code",
   "execution_count": 3,
   "metadata": {
    "collapsed": true
   },
   "outputs": [],
   "source": [
    "df = pd.read_csv(input_file)"
   ]
  },
  {
   "cell_type": "code",
   "execution_count": 4,
   "metadata": {
    "collapsed": false
   },
   "outputs": [
    {
     "data": {
      "text/plain": [
       "(11670, 6)"
      ]
     },
     "execution_count": 4,
     "metadata": {},
     "output_type": "execute_result"
    }
   ],
   "source": [
    "# Printing Data Shape\n",
    "df.shape"
   ]
  },
  {
   "cell_type": "code",
   "execution_count": 5,
   "metadata": {
    "collapsed": false
   },
   "outputs": [
    {
     "data": {
      "text/html": [
       "<div>\n",
       "<table border=\"1\" class=\"dataframe\">\n",
       "  <thead>\n",
       "    <tr style=\"text-align: right;\">\n",
       "      <th></th>\n",
       "      <th>District</th>\n",
       "      <th>Date</th>\n",
       "      <th>Primary Type</th>\n",
       "      <th>Arrest</th>\n",
       "      <th>Crime Weightage</th>\n",
       "      <th>Label</th>\n",
       "    </tr>\n",
       "  </thead>\n",
       "  <tbody>\n",
       "    <tr>\n",
       "      <th>0</th>\n",
       "      <td>11</td>\n",
       "      <td>5/3/16 21:00</td>\n",
       "      <td>NARCOTICS</td>\n",
       "      <td>True</td>\n",
       "      <td>3</td>\n",
       "      <td>1</td>\n",
       "    </tr>\n",
       "    <tr>\n",
       "      <th>1</th>\n",
       "      <td>8</td>\n",
       "      <td>5/3/16 21:35</td>\n",
       "      <td>THEFT</td>\n",
       "      <td>False</td>\n",
       "      <td>1</td>\n",
       "      <td>1</td>\n",
       "    </tr>\n",
       "    <tr>\n",
       "      <th>2</th>\n",
       "      <td>9</td>\n",
       "      <td>5/3/16 14:45</td>\n",
       "      <td>ASSAULT</td>\n",
       "      <td>False</td>\n",
       "      <td>3</td>\n",
       "      <td>1</td>\n",
       "    </tr>\n",
       "    <tr>\n",
       "      <th>3</th>\n",
       "      <td>8</td>\n",
       "      <td>5/3/16 18:42</td>\n",
       "      <td>BATTERY</td>\n",
       "      <td>False</td>\n",
       "      <td>2</td>\n",
       "      <td>1</td>\n",
       "    </tr>\n",
       "    <tr>\n",
       "      <th>4</th>\n",
       "      <td>9</td>\n",
       "      <td>5/3/16 19:30</td>\n",
       "      <td>CRIMINAL DAMAGE</td>\n",
       "      <td>False</td>\n",
       "      <td>3</td>\n",
       "      <td>1</td>\n",
       "    </tr>\n",
       "    <tr>\n",
       "      <th>5</th>\n",
       "      <td>11</td>\n",
       "      <td>5/3/16 13:30</td>\n",
       "      <td>OTHER OFFENSE</td>\n",
       "      <td>False</td>\n",
       "      <td>2</td>\n",
       "      <td>0</td>\n",
       "    </tr>\n",
       "    <tr>\n",
       "      <th>6</th>\n",
       "      <td>1</td>\n",
       "      <td>5/3/16 19:30</td>\n",
       "      <td>THEFT</td>\n",
       "      <td>False</td>\n",
       "      <td>1</td>\n",
       "      <td>1</td>\n",
       "    </tr>\n",
       "    <tr>\n",
       "      <th>7</th>\n",
       "      <td>1</td>\n",
       "      <td>5/3/16 9:11</td>\n",
       "      <td>DECEPTIVE PRACTICE</td>\n",
       "      <td>False</td>\n",
       "      <td>1</td>\n",
       "      <td>0</td>\n",
       "    </tr>\n",
       "    <tr>\n",
       "      <th>8</th>\n",
       "      <td>1</td>\n",
       "      <td>5/3/16 6:30</td>\n",
       "      <td>THEFT</td>\n",
       "      <td>False</td>\n",
       "      <td>1</td>\n",
       "      <td>1</td>\n",
       "    </tr>\n",
       "    <tr>\n",
       "      <th>9</th>\n",
       "      <td>16</td>\n",
       "      <td>5/3/16 18:30</td>\n",
       "      <td>THEFT</td>\n",
       "      <td>False</td>\n",
       "      <td>1</td>\n",
       "      <td>0</td>\n",
       "    </tr>\n",
       "  </tbody>\n",
       "</table>\n",
       "</div>"
      ],
      "text/plain": [
       "   District          Date        Primary Type Arrest  Crime Weightage  Label\n",
       "0        11  5/3/16 21:00           NARCOTICS   True                3      1\n",
       "1         8  5/3/16 21:35               THEFT  False                1      1\n",
       "2         9  5/3/16 14:45             ASSAULT  False                3      1\n",
       "3         8  5/3/16 18:42             BATTERY  False                2      1\n",
       "4         9  5/3/16 19:30     CRIMINAL DAMAGE  False                3      1\n",
       "5        11  5/3/16 13:30       OTHER OFFENSE  False                2      0\n",
       "6         1  5/3/16 19:30               THEFT  False                1      1\n",
       "7         1   5/3/16 9:11  DECEPTIVE PRACTICE  False                1      0\n",
       "8         1   5/3/16 6:30               THEFT  False                1      1\n",
       "9        16  5/3/16 18:30               THEFT  False                1      0"
      ]
     },
     "execution_count": 5,
     "metadata": {},
     "output_type": "execute_result"
    }
   ],
   "source": [
    "df.head(10)"
   ]
  },
  {
   "cell_type": "code",
   "execution_count": 6,
   "metadata": {
    "collapsed": false
   },
   "outputs": [],
   "source": [
    "# Giving numeric values for text data\n",
    "primaryType = preprocessing.LabelEncoder()\n",
    "arrest = preprocessing.LabelEncoder()\n",
    "#date = preprocessing.LabelEncoder()"
   ]
  },
  {
   "cell_type": "code",
   "execution_count": 7,
   "metadata": {
    "collapsed": false
   },
   "outputs": [],
   "source": [
    "df[\"Primary Type\"] = primaryType.fit_transform(df[\"Primary Type\"])\n",
    "df[\"Arrest\"] = arrest.fit_transform(df[\"Arrest\"])\n",
    "#df[\"Date\"] = date.fit_transform(df[\"Date\"])"
   ]
  },
  {
   "cell_type": "code",
   "execution_count": 8,
   "metadata": {
    "collapsed": false
   },
   "outputs": [],
   "source": [
    "df['Date'] = df['Date'].apply(lambda x: x.split('/')[0])"
   ]
  },
  {
   "cell_type": "code",
   "execution_count": 15,
   "metadata": {
    "collapsed": false
   },
   "outputs": [
    {
     "data": {
      "text/html": [
       "<div>\n",
       "<table border=\"1\" class=\"dataframe\">\n",
       "  <thead>\n",
       "    <tr style=\"text-align: right;\">\n",
       "      <th></th>\n",
       "      <th>District</th>\n",
       "      <th>Date</th>\n",
       "      <th>Primary Type</th>\n",
       "      <th>Arrest</th>\n",
       "      <th>Crime Weightage</th>\n",
       "      <th>Label</th>\n",
       "    </tr>\n",
       "  </thead>\n",
       "  <tbody>\n",
       "    <tr>\n",
       "      <th>0</th>\n",
       "      <td>11</td>\n",
       "      <td>5</td>\n",
       "      <td>16</td>\n",
       "      <td>1</td>\n",
       "      <td>3</td>\n",
       "      <td>1</td>\n",
       "    </tr>\n",
       "    <tr>\n",
       "      <th>1</th>\n",
       "      <td>8</td>\n",
       "      <td>5</td>\n",
       "      <td>28</td>\n",
       "      <td>0</td>\n",
       "      <td>1</td>\n",
       "      <td>1</td>\n",
       "    </tr>\n",
       "    <tr>\n",
       "      <th>2</th>\n",
       "      <td>9</td>\n",
       "      <td>5</td>\n",
       "      <td>1</td>\n",
       "      <td>0</td>\n",
       "      <td>3</td>\n",
       "      <td>1</td>\n",
       "    </tr>\n",
       "    <tr>\n",
       "      <th>3</th>\n",
       "      <td>8</td>\n",
       "      <td>5</td>\n",
       "      <td>2</td>\n",
       "      <td>0</td>\n",
       "      <td>2</td>\n",
       "      <td>1</td>\n",
       "    </tr>\n",
       "    <tr>\n",
       "      <th>4</th>\n",
       "      <td>9</td>\n",
       "      <td>5</td>\n",
       "      <td>6</td>\n",
       "      <td>0</td>\n",
       "      <td>3</td>\n",
       "      <td>1</td>\n",
       "    </tr>\n",
       "  </tbody>\n",
       "</table>\n",
       "</div>"
      ],
      "text/plain": [
       "   District Date  Primary Type  Arrest  Crime Weightage  Label\n",
       "0        11    5            16       1                3      1\n",
       "1         8    5            28       0                1      1\n",
       "2         9    5             1       0                3      1\n",
       "3         8    5             2       0                2      1\n",
       "4         9    5             6       0                3      1"
      ]
     },
     "execution_count": 15,
     "metadata": {},
     "output_type": "execute_result"
    }
   ],
   "source": [
    "df.head()"
   ]
  },
  {
   "cell_type": "code",
   "execution_count": 24,
   "metadata": {
    "collapsed": false
   },
   "outputs": [
    {
     "data": {
      "image/png": "[encoded data removed]",
      "text/plain": [
       "<matplotlib.figure.Figure at 0x11a4de978>"
      ]
     },
     "metadata": {},
     "output_type": "display_data"
    }
   ],
   "source": [
    "fig, ax = plt.subplots()\n",
    "plot2_df = new_df.groupby(['Date']).agg({'Crime Weightage':'mean'}).plot(kind = 'bar', ax=ax)\n",
    "\n",
    "fig_size = plt.rcParams[\"figure.figsize\"]\n",
    "fig_size[0] = 12\n",
    "fig_size[1] = 8\n",
    "plt.xlabel='Month'\n",
    "plt.rcParams[\"figure.figsize\"] = fig_size\n",
    "plt.show()"
   ]
  },
  {
   "cell_type": "code",
   "execution_count": 10,
   "metadata": {
    "collapsed": false
   },
   "outputs": [],
   "source": [
    "#df.head()\n",
    "keep_col = ['District', 'Date', 'Primary Type', 'Crime Weightage', 'Label']\n",
    "new_df = df[keep_col]"
   ]
  },
  {
   "cell_type": "code",
   "execution_count": 11,
   "metadata": {
    "collapsed": false
   },
   "outputs": [
    {
     "data": {
      "text/plain": [
       "array([[11, '5', 16, 3, 1],\n",
       "       [8, '5', 28, 1, 1],\n",
       "       [9, '5', 1, 3, 1],\n",
       "       ..., \n",
       "       [9, '10', 10, 4, 0],\n",
       "       [2, '10', 10, 4, 0],\n",
       "       [2, '5', 10, 4, 0]], dtype=object)"
      ]
     },
     "execution_count": 11,
     "metadata": {},
     "output_type": "execute_result"
    }
   ],
   "source": [
    "array = new_df.values\n",
    "array"
   ]
  },
  {
   "cell_type": "code",
   "execution_count": 12,
   "metadata": {
    "collapsed": false
   },
   "outputs": [],
   "source": [
    "# Features\n",
    "X = list(array[:,0:4])"
   ]
  },
  {
   "cell_type": "code",
   "execution_count": 13,
   "metadata": {
    "collapsed": false
   },
   "outputs": [],
   "source": [
    "# Target\n",
    "Y = list(array[:,4])"
   ]
  },
  {
   "cell_type": "code",
   "execution_count": 14,
   "metadata": {
    "collapsed": false
   },
   "outputs": [
    {
     "name": "stdout",
     "output_type": "stream",
     "text": [
      "6873\n",
      "4797\n",
      "Probability of 0s in the Target:  0.589\n",
      "Probability of 1s in the Target:  0.411\n"
     ]
    }
   ],
   "source": [
    "totalTarget = df[\"Label\"].count()\n",
    "\n",
    "# Count of 0s in the target\n",
    "zeroCount = df[(df[\"Label\"] == 0)].count()[0]\n",
    "print(zeroCount)\n",
    "# Count of 1s in the target\n",
    "oneCount = df[(df[\"Label\"] == 1)].count()[0]\n",
    "print(oneCount)\n",
    "#Probability of 0s in the target\n",
    "probZero = zeroCount / totalTarget\n",
    "\n",
    "#Probability of 1s in the target\n",
    "probOne = oneCount / totalTarget\n",
    "\n",
    "print(\"Probability of 0s in the Target: \", '%0.3f'%(probZero))\n",
    "print(\"Probability of 1s in the Target: \", '%0.3f'%(probOne))"
   ]
  },
  {
   "cell_type": "markdown",
   "metadata": {
    "collapsed": false
   },
   "source": [
    "#### Since probability for 0s in the target is higher than 1s, we'll use 0.59 as our Baseline Accuracy.\n",
    "BASELINE_ACCURACY = 0.59"
   ]
  },
  {
   "cell_type": "markdown",
   "metadata": {},
   "source": [
    "### We have used ACCURACY as our base for Performace Measure"
   ]
  },
  {
   "cell_type": "markdown",
   "metadata": {},
   "source": [
    "#### Splitting Train and Test Data "
   ]
  },
  {
   "cell_type": "code",
   "execution_count": 16,
   "metadata": {
    "collapsed": false
   },
   "outputs": [],
   "source": [
    "X_train, X_test, y_train, y_test = train_test_split(X, Y, train_size=0.70, random_state=0)"
   ]
  },
  {
   "cell_type": "markdown",
   "metadata": {},
   "source": [
    "#### LOGISTIC REGRESSION:\n",
    "<b>Parameters:</b><br>\n",
    "C = {5, 2, 1, 0.1, 0.01, 0.001, 0.002, 0.0001, 0.00001}<br>\n",
    "max_iter = 1000<br>\n",
    "random_state = 0<br>\n",
    "solver = sag [used for large datasets]\n",
    "\n",
    "<b>Crossval Parameters:</b><br>\n",
    "cv = 10<br>\n",
    "scoring = 'accuracy'<br>"
   ]
  },
  {
   "cell_type": "code",
   "execution_count": 16,
   "metadata": {
    "collapsed": false
   },
   "outputs": [
    {
     "name": "stdout",
     "output_type": "stream",
     "text": [
      "Accuracy with C =  5 : 0.68058(+/- 0.02743)\n",
      "Accuracy with C =  2 : 0.68058(+/- 0.02743)\n",
      "Accuracy with C =  1 : 0.68058(+/- 0.02743)\n",
      "Accuracy with C =  0.1 : 0.68132(+/- 0.02742)\n",
      "Accuracy with C =  0.01 : 0.68169(+/- 0.03421)\n",
      "Accuracy with C =  0.001 : 0.68132(+/- 0.03117)\n",
      "Accuracy with C =  0.002 : 0.68144(+/- 0.03282)\n",
      "Accuracy with C =  0.0001 : 0.68144(+/- 0.03151)\n",
      "Accuracy with C =  1e-05 : 0.63100(+/- 0.02456)\n"
     ]
    }
   ],
   "source": [
    "# Calculating accuracy of LOGISTIC REGRESSION using CROSS_VAL_SCORE\n",
    "C= [5,2,1,0.1,0.01,0.001,0.002,0.0001,0.00001]\n",
    "for c in C: \n",
    "    clf = LogisticRegression(C = c, max_iter = 1000, random_state=0, solver='sag')\n",
    "    scoresLR = cross_val_score(clf,X_train,y_train,cv=10,scoring='accuracy')\n",
    "    print(\"Accuracy with C = \",c,\": %0.5f(+/- %0.5f)\" %(scoresLR.mean(), scoresLR.std()*2))"
   ]
  },
  {
   "cell_type": "markdown",
   "metadata": {},
   "source": [
    "The Accuracy is highest at C = 0.002 with value of <b>0.68144</b>."
   ]
  },
  {
   "cell_type": "markdown",
   "metadata": {
    "collapsed": false
   },
   "source": [
    "#### DECISION TREE CLASSIFIER:\n",
    "<b>Parameters:</b><br>\n",
    "Default<br>\n",
    "\n",
    "<b>Crossval Parameters:</b><br>\n",
    "cv = 10<br>\n",
    "scoring = 'accuracy'<br>"
   ]
  },
  {
   "cell_type": "code",
   "execution_count": 17,
   "metadata": {
    "collapsed": false
   },
   "outputs": [
    {
     "name": "stdout",
     "output_type": "stream",
     "text": [
      "Accuracy with Decision Tree: 0.99963 (+/- 0.00221)\n"
     ]
    }
   ],
   "source": [
    "# Calculating accuracy of DECISION TREE CLASSIFIER using CROSS_VAL_SCORE\n",
    "dtree = tree.DecisionTreeClassifier()\n",
    "scoresDT = cross_val_score(dtree,X_train,y_train,cv=10,scoring='accuracy')\n",
    "print(\"Accuracy with Decision Tree: %0.5f (+/- %0.5f)\" % (scoresDT.mean(), scoresDT.std() * 2))"
   ]
  },
  {
   "cell_type": "markdown",
   "metadata": {},
   "source": [
    "<b>NOTE:</b> The Accuracy for Decision Tree Classifier is <b>0.99976</b>, which is almost 100%. Such high accuracy is due to the fact that the dataset is very large and the target has binary values. The target variable in our dataset has roughly 60% and 40% negative classes respectively, thus it is a balanced dataset. When we train a decision tree to classify this data, we get an overall accuracy of 99.97% (~100%). Hence we will ignore this classification model."
   ]
  },
  {
   "cell_type": "markdown",
   "metadata": {},
   "source": [
    "#### NAIVE BAYES\n",
    "<b>Parameters:</b><br>\n",
    "Default<br>\n",
    "\n",
    "<b>Crossval Parameters:</b><br>\n",
    "cv = 10<br>\n",
    "scoring = 'accuracy'<br>"
   ]
  },
  {
   "cell_type": "code",
   "execution_count": 18,
   "metadata": {
    "collapsed": false
   },
   "outputs": [
    {
     "name": "stdout",
     "output_type": "stream",
     "text": [
      "Accuracy with Gaussian Naive Bayes: 0.69467 (+/- 0.03100)\n"
     ]
    }
   ],
   "source": [
    "# Calculating accuracy of NAIVE BAYES using CROSS_VAL_SCORE\n",
    "gnb = GaussianNB()\n",
    "scores = cross_val_score(gnb,X_train,y_train,cv=10,scoring='accuracy')\n",
    "print(\"Accuracy with Gaussian Naive Bayes: %0.5f (+/- %0.5f)\" % (scores.mean(), scores.std() * 2))"
   ]
  },
  {
   "cell_type": "markdown",
   "metadata": {},
   "source": [
    "The accuracy with Naive Bayes is <b>0.69467</b>"
   ]
  },
  {
   "cell_type": "markdown",
   "metadata": {},
   "source": [
    "#### MLPC CLASSIFIER\n",
    "<b>Parameters:</b><br>\n",
    "activation_function = {'logistic', 'tanh', 'relu'}<br>\n",
    "learning_rate (L) = {5, 2, 1, 0.1, 0.01, 0.001, 0.002, 0.0001, 0.00001}<br>\n",
    "hidden_layers = {1, 2, 3}<br>\n",
    "neurons = {3, 4, 5, 6, 7}<br>\n",
    "alpha = {0.1, 0.001, 0.0001, 0.00001}<br>\n",
    "\n",
    "\n",
    "<b>Crossval Parameters:</b><br>\n",
    "cv = 10<br>\n",
    "scoring = 'accuracy'<br>"
   ]
  },
  {
   "cell_type": "code",
   "execution_count": null,
   "metadata": {
    "collapsed": false
   },
   "outputs": [
    {
     "name": "stdout",
     "output_type": "stream",
     "text": [
      "Accuracy with MLPC Classifier with L= 0.001 a= 0.1 hl= (3,) func= logistic : 0.69638 (+/- 0.02501)\n",
      "Accuracy with MLPC Classifier with L= 0.001 a= 0.1 hl= (4,) func= logistic : 0.73054 (+/- 0.02555)\n",
      "Accuracy with MLPC Classifier with L= 0.001 a= 0.1 hl= (5,) func= logistic : 0.69883 (+/- 0.02212)\n",
      "Accuracy with MLPC Classifier with L= 0.001 a= 0.1 hl= (6,) func= logistic : 0.70507 (+/- 0.01660)\n",
      "Accuracy with MLPC Classifier with L= 0.001 a= 0.1 hl= (7,) func= logistic : 0.72760 (+/- 0.03576)\n",
      "Accuracy with MLPC Classifier with L= 0.001 a= 0.1 hl= (3, 3) func= logistic : 0.70140 (+/- 0.02015)\n",
      "Accuracy with MLPC Classifier with L= 0.001 a= 0.1 hl= (4, 4) func= logistic : 0.69968 (+/- 0.01987)\n",
      "Accuracy with MLPC Classifier with L= 0.001 a= 0.1 hl= (5, 5) func= logistic : 0.69895 (+/- 0.02452)\n",
      "Accuracy with MLPC Classifier with L= 0.001 a= 0.1 hl= (6, 6) func= logistic : 0.69221 (+/- 0.03072)\n",
      "Accuracy with MLPC Classifier with L= 0.001 a= 0.1 hl= (7, 7) func= logistic : 0.69160 (+/- 0.02157)\n",
      "Accuracy with MLPC Classifier with L= 0.001 a= 0.1 hl= (3, 3, 3) func= logistic : 0.71842 (+/- 0.02880)\n",
      "Accuracy with MLPC Classifier with L= 0.001 a= 0.1 hl= (4, 4, 4) func= logistic : 0.69540 (+/- 0.02104)\n",
      "Accuracy with MLPC Classifier with L= 0.001 a= 0.1 hl= (5, 5, 5) func= logistic : 0.72062 (+/- 0.03784)\n",
      "Accuracy with MLPC Classifier with L= 0.001 a= 0.1 hl= (6, 6, 6) func= logistic : 0.73323 (+/- 0.02297)\n",
      "Accuracy with MLPC Classifier with L= 0.001 a= 0.1 hl= (7, 7, 7) func= logistic : 0.70458 (+/- 0.02186)\n",
      "Accuracy with MLPC Classifier with L= 0.001 a= 0.1 hl= (3,) func= tanh : 0.71327 (+/- 0.02734)\n",
      "Accuracy with MLPC Classifier with L= 0.001 a= 0.1 hl= (4,) func= tanh : 0.71339 (+/- 0.02673)\n",
      "Accuracy with MLPC Classifier with L= 0.001 a= 0.1 hl= (5,) func= tanh : 0.72833 (+/- 0.03075)\n",
      "Accuracy with MLPC Classifier with L= 0.001 a= 0.1 hl= (6,) func= tanh : 0.71339 (+/- 0.02122)\n",
      "Accuracy with MLPC Classifier with L= 0.001 a= 0.1 hl= (7,) func= tanh : 0.73641 (+/- 0.02663)\n",
      "Accuracy with MLPC Classifier with L= 0.001 a= 0.1 hl= (3, 3) func= tanh : 0.72074 (+/- 0.02401)\n",
      "Accuracy with MLPC Classifier with L= 0.001 a= 0.1 hl= (4, 4) func= tanh : 0.73556 (+/- 0.02136)\n",
      "Accuracy with MLPC Classifier with L= 0.001 a= 0.1 hl= (5, 5) func= tanh : 0.73764 (+/- 0.03048)\n",
      "Accuracy with MLPC Classifier with L= 0.001 a= 0.1 hl= (6, 6) func= tanh : 0.75453 (+/- 0.02708)\n",
      "Accuracy with MLPC Classifier with L= 0.001 a= 0.1 hl= (7, 7) func= tanh : 0.74143 (+/- 0.02527)\n",
      "Accuracy with MLPC Classifier with L= 0.001 a= 0.1 hl= (3, 3, 3) func= tanh : 0.74706 (+/- 0.01889)\n",
      "Accuracy with MLPC Classifier with L= 0.001 a= 0.1 hl= (4, 4, 4) func= tanh : 0.75074 (+/- 0.03845)\n",
      "Accuracy with MLPC Classifier with L= 0.001 a= 0.1 hl= (5, 5, 5) func= tanh : 0.74252 (+/- 0.04191)\n",
      "Accuracy with MLPC Classifier with L= 0.001 a= 0.1 hl= (6, 6, 6) func= tanh : 0.75392 (+/- 0.02851)\n",
      "Accuracy with MLPC Classifier with L= 0.001 a= 0.1 hl= (7, 7, 7) func= tanh : 0.74510 (+/- 0.02446)\n",
      "Accuracy with MLPC Classifier with L= 0.001 a= 0.1 hl= (3,) func= relu : 0.66932 (+/- 0.02287)\n",
      "Accuracy with MLPC Classifier with L= 0.001 a= 0.1 hl= (4,) func= relu : 0.71241 (+/- 0.03245)\n",
      "Accuracy with MLPC Classifier with L= 0.001 a= 0.1 hl= (5,) func= relu : 0.69442 (+/- 0.02287)\n",
      "Accuracy with MLPC Classifier with L= 0.001 a= 0.1 hl= (6,) func= relu : 0.70471 (+/- 0.03448)\n",
      "Accuracy with MLPC Classifier with L= 0.001 a= 0.1 hl= (7,) func= relu : 0.70887 (+/- 0.03153)\n",
      "Accuracy with MLPC Classifier with L= 0.001 a= 0.1 hl= (3, 3) func= relu : 0.65757 (+/- 0.02417)\n",
      "Accuracy with MLPC Classifier with L= 0.001 a= 0.1 hl= (4, 4) func= relu : 0.73200 (+/- 0.05106)\n",
      "Accuracy with MLPC Classifier with L= 0.001 a= 0.1 hl= (5, 5) func= relu : 0.70348 (+/- 0.03710)\n",
      "Accuracy with MLPC Classifier with L= 0.001 a= 0.1 hl= (6, 6) func= relu : 0.73409 (+/- 0.03600)\n",
      "Accuracy with MLPC Classifier with L= 0.001 a= 0.1 hl= (7, 7) func= relu : 0.73738 (+/- 0.10543)\n",
      "Accuracy with MLPC Classifier with L= 0.001 a= 0.1 hl= (3, 3, 3) func= relu : 0.69637 (+/- 0.02933)\n",
      "Accuracy with MLPC Classifier with L= 0.001 a= 0.1 hl= (4, 4, 4) func= relu : 0.74057 (+/- 0.02830)\n",
      "Accuracy with MLPC Classifier with L= 0.001 a= 0.1 hl= (5, 5, 5) func= relu : 0.75491 (+/- 0.02542)\n",
      "Accuracy with MLPC Classifier with L= 0.001 a= 0.1 hl= (6, 6, 6) func= relu : 0.74437 (+/- 0.04328)\n",
      "Accuracy with MLPC Classifier with L= 0.001 a= 0.1 hl= (7, 7, 7) func= relu : 0.73090 (+/- 0.02721)\n",
      "Accuracy with MLPC Classifier with L= 0.002 a= 0.1 hl= (3,) func= logistic : 0.69148 (+/- 0.01965)\n",
      "Accuracy with MLPC Classifier with L= 0.002 a= 0.1 hl= (4,) func= logistic : 0.73249 (+/- 0.02706)\n",
      "Accuracy with MLPC Classifier with L= 0.002 a= 0.1 hl= (5,) func= logistic : 0.69785 (+/- 0.02392)\n",
      "Accuracy with MLPC Classifier with L= 0.002 a= 0.1 hl= (6,) func= logistic : 0.72135 (+/- 0.02000)\n",
      "Accuracy with MLPC Classifier with L= 0.002 a= 0.1 hl= (7,) func= logistic : 0.73654 (+/- 0.04710)\n",
      "Accuracy with MLPC Classifier with L= 0.002 a= 0.1 hl= (3, 3) func= logistic : 0.70691 (+/- 0.02090)\n",
      "Accuracy with MLPC Classifier with L= 0.002 a= 0.1 hl= (4, 4) func= logistic : 0.70176 (+/- 0.02584)\n",
      "Accuracy with MLPC Classifier with L= 0.002 a= 0.1 hl= (5, 5) func= logistic : 0.69576 (+/- 0.03059)\n",
      "Accuracy with MLPC Classifier with L= 0.002 a= 0.1 hl= (6, 6) func= logistic : 0.69613 (+/- 0.02352)\n",
      "Accuracy with MLPC Classifier with L= 0.002 a= 0.1 hl= (7, 7) func= logistic : 0.69650 (+/- 0.02441)\n",
      "Accuracy with MLPC Classifier with L= 0.002 a= 0.1 hl= (3, 3, 3) func= logistic : 0.72784 (+/- 0.01888)\n",
      "Accuracy with MLPC Classifier with L= 0.002 a= 0.1 hl= (4, 4, 4) func= logistic : 0.71524 (+/- 0.03080)\n",
      "Accuracy with MLPC Classifier with L= 0.002 a= 0.1 hl= (5, 5, 5) func= logistic : 0.73972 (+/- 0.03062)\n",
      "Accuracy with MLPC Classifier with L= 0.002 a= 0.1 hl= (6, 6, 6) func= logistic : 0.73384 (+/- 0.02548)\n",
      "Accuracy with MLPC Classifier with L= 0.002 a= 0.1 hl= (7, 7, 7) func= logistic : 0.70679 (+/- 0.02624)\n",
      "Accuracy with MLPC Classifier with L= 0.002 a= 0.1 hl= (3,) func= tanh : 0.71450 (+/- 0.03615)\n",
      "Accuracy with MLPC Classifier with L= 0.002 a= 0.1 hl= (4,) func= tanh : 0.70850 (+/- 0.02477)\n",
      "Accuracy with MLPC Classifier with L= 0.002 a= 0.1 hl= (5,) func= tanh : 0.73703 (+/- 0.02319)\n",
      "Accuracy with MLPC Classifier with L= 0.002 a= 0.1 hl= (6,) func= tanh : 0.71584 (+/- 0.02450)\n",
      "Accuracy with MLPC Classifier with L= 0.002 a= 0.1 hl= (7,) func= tanh : 0.73666 (+/- 0.03057)\n",
      "Accuracy with MLPC Classifier with L= 0.002 a= 0.1 hl= (3, 3) func= tanh : 0.71805 (+/- 0.02095)\n",
      "Accuracy with MLPC Classifier with L= 0.002 a= 0.1 hl= (4, 4) func= tanh : 0.73825 (+/- 0.01740)\n",
      "Accuracy with MLPC Classifier with L= 0.002 a= 0.1 hl= (5, 5) func= tanh : 0.73922 (+/- 0.02245)\n",
      "Accuracy with MLPC Classifier with L= 0.002 a= 0.1 hl= (6, 6) func= tanh : 0.76151 (+/- 0.02416)\n",
      "Accuracy with MLPC Classifier with L= 0.002 a= 0.1 hl= (7, 7) func= tanh : 0.74241 (+/- 0.02640)\n",
      "Accuracy with MLPC Classifier with L= 0.002 a= 0.1 hl= (3, 3, 3) func= tanh : 0.74462 (+/- 0.02160)\n",
      "Accuracy with MLPC Classifier with L= 0.002 a= 0.1 hl= (4, 4, 4) func= tanh : 0.75943 (+/- 0.02299)\n",
      "Accuracy with MLPC Classifier with L= 0.002 a= 0.1 hl= (5, 5, 5) func= tanh : 0.74387 (+/- 0.04549)\n",
      "Accuracy with MLPC Classifier with L= 0.002 a= 0.1 hl= (6, 6, 6) func= tanh : 0.76433 (+/- 0.05196)\n",
      "Accuracy with MLPC Classifier with L= 0.002 a= 0.1 hl= (7, 7, 7) func= tanh : 0.74168 (+/- 0.02257)\n",
      "Accuracy with MLPC Classifier with L= 0.002 a= 0.1 hl= (3,) func= relu : 0.66822 (+/- 0.01995)\n",
      "Accuracy with MLPC Classifier with L= 0.002 a= 0.1 hl= (4,) func= relu : 0.70801 (+/- 0.02684)\n",
      "Accuracy with MLPC Classifier with L= 0.002 a= 0.1 hl= (5,) func= relu : 0.68903 (+/- 0.02546)\n",
      "Accuracy with MLPC Classifier with L= 0.002 a= 0.1 hl= (6,) func= relu : 0.70054 (+/- 0.01603)\n",
      "Accuracy with MLPC Classifier with L= 0.002 a= 0.1 hl= (7,) func= relu : 0.70850 (+/- 0.02645)\n",
      "Accuracy with MLPC Classifier with L= 0.002 a= 0.1 hl= (3, 3) func= relu : 0.66577 (+/- 0.02153)\n",
      "Accuracy with MLPC Classifier with L= 0.002 a= 0.1 hl= (4, 4) func= relu : 0.71292 (+/- 0.05644)\n",
      "Accuracy with MLPC Classifier with L= 0.002 a= 0.1 hl= (5, 5) func= relu : 0.71487 (+/- 0.02199)\n",
      "Accuracy with MLPC Classifier with L= 0.002 a= 0.1 hl= (6, 6) func= relu : 0.71927 (+/- 0.02628)\n",
      "Accuracy with MLPC Classifier with L= 0.002 a= 0.1 hl= (7, 7) func= relu : 0.71278 (+/- 0.17444)\n",
      "Accuracy with MLPC Classifier with L= 0.002 a= 0.1 hl= (3, 3, 3) func= relu : 0.70274 (+/- 0.02189)\n",
      "Accuracy with MLPC Classifier with L= 0.002 a= 0.1 hl= (4, 4, 4) func= relu : 0.74706 (+/- 0.03857)\n",
      "Accuracy with MLPC Classifier with L= 0.002 a= 0.1 hl= (5, 5, 5) func= relu : 0.75281 (+/- 0.05943)\n",
      "Accuracy with MLPC Classifier with L= 0.002 a= 0.1 hl= (6, 6, 6) func= relu : 0.74424 (+/- 0.02989)\n",
      "Accuracy with MLPC Classifier with L= 0.002 a= 0.1 hl= (7, 7, 7) func= relu : 0.75379 (+/- 0.04462)\n",
      "Accuracy with MLPC Classifier with L= 0.003 a= 0.1 hl= (3,) func= logistic : 0.69944 (+/- 0.01874)\n",
      "Accuracy with MLPC Classifier with L= 0.003 a= 0.1 hl= (4,) func= logistic : 0.73053 (+/- 0.02126)\n",
      "Accuracy with MLPC Classifier with L= 0.003 a= 0.1 hl= (5,) func= logistic : 0.70140 (+/- 0.02276)\n",
      "Accuracy with MLPC Classifier with L= 0.003 a= 0.1 hl= (6,) func= logistic : 0.72184 (+/- 0.02043)\n",
      "Accuracy with MLPC Classifier with L= 0.003 a= 0.1 hl= (7,) func= logistic : 0.73739 (+/- 0.04633)\n",
      "Accuracy with MLPC Classifier with L= 0.003 a= 0.1 hl= (3, 3) func= logistic : 0.71144 (+/- 0.02278)\n",
      "Accuracy with MLPC Classifier with L= 0.003 a= 0.1 hl= (4, 4) func= logistic : 0.71474 (+/- 0.02831)\n",
      "Accuracy with MLPC Classifier with L= 0.003 a= 0.1 hl= (5, 5) func= logistic : 0.71891 (+/- 0.04714)\n",
      "Accuracy with MLPC Classifier with L= 0.003 a= 0.1 hl= (6, 6) func= logistic : 0.70593 (+/- 0.05150)\n",
      "Accuracy with MLPC Classifier with L= 0.003 a= 0.1 hl= (7, 7) func= logistic : 0.70238 (+/- 0.02444)\n",
      "Accuracy with MLPC Classifier with L= 0.003 a= 0.1 hl= (3, 3, 3) func= logistic : 0.73054 (+/- 0.02404)\n",
      "Accuracy with MLPC Classifier with L= 0.003 a= 0.1 hl= (4, 4, 4) func= logistic : 0.73201 (+/- 0.02262)\n",
      "Accuracy with MLPC Classifier with L= 0.003 a= 0.1 hl= (5, 5, 5) func= logistic : 0.74352 (+/- 0.05123)\n",
      "Accuracy with MLPC Classifier with L= 0.003 a= 0.1 hl= (6, 6, 6) func= logistic : 0.73836 (+/- 0.02179)\n",
      "Accuracy with MLPC Classifier with L= 0.003 a= 0.1 hl= (7, 7, 7) func= logistic : 0.72294 (+/- 0.04160)\n",
      "Accuracy with MLPC Classifier with L= 0.003 a= 0.1 hl= (3,) func= tanh : 0.71364 (+/- 0.02385)\n",
      "Accuracy with MLPC Classifier with L= 0.003 a= 0.1 hl= (4,) func= tanh : 0.70654 (+/- 0.02590)\n",
      "Accuracy with MLPC Classifier with L= 0.003 a= 0.1 hl= (5,) func= tanh : 0.74253 (+/- 0.02570)\n",
      "Accuracy with MLPC Classifier with L= 0.003 a= 0.1 hl= (6,) func= tanh : 0.72527 (+/- 0.05215)\n",
      "Accuracy with MLPC Classifier with L= 0.003 a= 0.1 hl= (7,) func= tanh : 0.74805 (+/- 0.04668)\n",
      "Accuracy with MLPC Classifier with L= 0.003 a= 0.1 hl= (3, 3) func= tanh : 0.71719 (+/- 0.02534)\n",
      "Accuracy with MLPC Classifier with L= 0.003 a= 0.1 hl= (4, 4) func= tanh : 0.74131 (+/- 0.01825)\n",
      "Accuracy with MLPC Classifier with L= 0.003 a= 0.1 hl= (5, 5) func= tanh : 0.74070 (+/- 0.02547)\n",
      "Accuracy with MLPC Classifier with L= 0.003 a= 0.1 hl= (6, 6) func= tanh : 0.76285 (+/- 0.03440)\n",
      "Accuracy with MLPC Classifier with L= 0.003 a= 0.1 hl= (7, 7) func= tanh : 0.74461 (+/- 0.02457)\n",
      "Accuracy with MLPC Classifier with L= 0.003 a= 0.1 hl= (3, 3, 3) func= tanh : 0.73873 (+/- 0.02140)\n",
      "Accuracy with MLPC Classifier with L= 0.003 a= 0.1 hl= (4, 4, 4) func= tanh : 0.76004 (+/- 0.02485)\n",
      "Accuracy with MLPC Classifier with L= 0.003 a= 0.1 hl= (5, 5, 5) func= tanh : 0.75515 (+/- 0.07422)\n",
      "Accuracy with MLPC Classifier with L= 0.003 a= 0.1 hl= (6, 6, 6) func= tanh : 0.76286 (+/- 0.04476)\n",
      "Accuracy with MLPC Classifier with L= 0.003 a= 0.1 hl= (7, 7, 7) func= tanh : 0.75035 (+/- 0.04404)\n",
      "Accuracy with MLPC Classifier with L= 0.003 a= 0.1 hl= (3,) func= relu : 0.66981 (+/- 0.02770)\n",
      "Accuracy with MLPC Classifier with L= 0.003 a= 0.1 hl= (4,) func= relu : 0.70385 (+/- 0.02902)\n",
      "Accuracy with MLPC Classifier with L= 0.003 a= 0.1 hl= (5,) func= relu : 0.69393 (+/- 0.02562)\n",
      "Accuracy with MLPC Classifier with L= 0.003 a= 0.1 hl= (6,) func= relu : 0.69993 (+/- 0.03110)\n",
      "Accuracy with MLPC Classifier with L= 0.003 a= 0.1 hl= (7,) func= relu : 0.71132 (+/- 0.02822)\n",
      "Accuracy with MLPC Classifier with L= 0.003 a= 0.1 hl= (3, 3) func= relu : 0.66002 (+/- 0.03006)\n",
      "Accuracy with MLPC Classifier with L= 0.003 a= 0.1 hl= (4, 4) func= relu : 0.71279 (+/- 0.05165)\n",
      "Accuracy with MLPC Classifier with L= 0.003 a= 0.1 hl= (5, 5) func= relu : 0.71609 (+/- 0.04782)\n",
      "Accuracy with MLPC Classifier with L= 0.003 a= 0.1 hl= (6, 6) func= relu : 0.71915 (+/- 0.02307)\n",
      "Accuracy with MLPC Classifier with L= 0.003 a= 0.1 hl= (7, 7) func= relu : 0.72415 (+/- 0.14451)\n",
      "Accuracy with MLPC Classifier with L= 0.003 a= 0.1 hl= (3, 3, 3) func= relu : 0.71045 (+/- 0.05477)\n",
      "Accuracy with MLPC Classifier with L= 0.003 a= 0.1 hl= (4, 4, 4) func= relu : 0.74253 (+/- 0.03734)\n",
      "Accuracy with MLPC Classifier with L= 0.003 a= 0.1 hl= (5, 5, 5) func= relu : 0.74056 (+/- 0.07965)\n",
      "Accuracy with MLPC Classifier with L= 0.003 a= 0.1 hl= (6, 6, 6) func= relu : 0.74535 (+/- 0.04581)\n",
      "Accuracy with MLPC Classifier with L= 0.003 a= 0.1 hl= (7, 7, 7) func= relu : 0.75699 (+/- 0.04107)\n",
      "Accuracy with MLPC Classifier with L= 0.004 a= 0.1 hl= (3,) func= logistic : 0.69723 (+/- 0.02364)\n",
      "Accuracy with MLPC Classifier with L= 0.004 a= 0.1 hl= (4,) func= logistic : 0.72870 (+/- 0.02910)\n",
      "Accuracy with MLPC Classifier with L= 0.004 a= 0.1 hl= (5,) func= logistic : 0.70568 (+/- 0.03212)\n",
      "Accuracy with MLPC Classifier with L= 0.004 a= 0.1 hl= (6,) func= logistic : 0.72563 (+/- 0.01798)\n",
      "Accuracy with MLPC Classifier with L= 0.004 a= 0.1 hl= (7,) func= logistic : 0.73298 (+/- 0.04662)\n",
      "Accuracy with MLPC Classifier with L= 0.004 a= 0.1 hl= (3, 3) func= logistic : 0.71278 (+/- 0.02481)\n",
      "Accuracy with MLPC Classifier with L= 0.004 a= 0.1 hl= (4, 4) func= logistic : 0.73751 (+/- 0.02873)\n",
      "Accuracy with MLPC Classifier with L= 0.004 a= 0.1 hl= (5, 5) func= logistic : 0.72551 (+/- 0.04447)\n",
      "Accuracy with MLPC Classifier with L= 0.004 a= 0.1 hl= (6, 6) func= logistic : 0.73348 (+/- 0.07351)\n",
      "Accuracy with MLPC Classifier with L= 0.004 a= 0.1 hl= (7, 7) func= logistic : 0.73557 (+/- 0.07245)\n",
      "Accuracy with MLPC Classifier with L= 0.004 a= 0.1 hl= (3, 3, 3) func= logistic : 0.73005 (+/- 0.02422)\n",
      "Accuracy with MLPC Classifier with L= 0.004 a= 0.1 hl= (4, 4, 4) func= logistic : 0.72514 (+/- 0.03689)\n",
      "Accuracy with MLPC Classifier with L= 0.004 a= 0.1 hl= (5, 5, 5) func= logistic : 0.75160 (+/- 0.03040)\n",
      "Accuracy with MLPC Classifier with L= 0.004 a= 0.1 hl= (6, 6, 6) func= logistic : 0.74717 (+/- 0.04169)\n",
      "Accuracy with MLPC Classifier with L= 0.004 a= 0.1 hl= (7, 7, 7) func= logistic : 0.76506 (+/- 0.01534)\n",
      "Accuracy with MLPC Classifier with L= 0.004 a= 0.1 hl= (3,) func= tanh : 0.71719 (+/- 0.02683)\n",
      "Accuracy with MLPC Classifier with L= 0.004 a= 0.1 hl= (4,) func= tanh : 0.70740 (+/- 0.02362)\n",
      "Accuracy with MLPC Classifier with L= 0.004 a= 0.1 hl= (5,) func= tanh : 0.74376 (+/- 0.02018)\n",
      "Accuracy with MLPC Classifier with L= 0.004 a= 0.1 hl= (6,) func= tanh : 0.73739 (+/- 0.04536)\n",
      "Accuracy with MLPC Classifier with L= 0.004 a= 0.1 hl= (7,) func= tanh : 0.75882 (+/- 0.07395)\n",
      "Accuracy with MLPC Classifier with L= 0.004 a= 0.1 hl= (3, 3) func= tanh : 0.71731 (+/- 0.02139)\n",
      "Accuracy with MLPC Classifier with L= 0.004 a= 0.1 hl= (4, 4) func= tanh : 0.73763 (+/- 0.01833)\n",
      "Accuracy with MLPC Classifier with L= 0.004 a= 0.1 hl= (5, 5) func= tanh : 0.76054 (+/- 0.04434)\n",
      "Accuracy with MLPC Classifier with L= 0.004 a= 0.1 hl= (6, 6) func= tanh : 0.76739 (+/- 0.03895)\n",
      "Accuracy with MLPC Classifier with L= 0.004 a= 0.1 hl= (7, 7) func= tanh : 0.74204 (+/- 0.01637)\n",
      "Accuracy with MLPC Classifier with L= 0.004 a= 0.1 hl= (3, 3, 3) func= tanh : 0.74400 (+/- 0.02756)\n",
      "Accuracy with MLPC Classifier with L= 0.004 a= 0.1 hl= (4, 4, 4) func= tanh : 0.75624 (+/- 0.02652)\n",
      "Accuracy with MLPC Classifier with L= 0.004 a= 0.1 hl= (5, 5, 5) func= tanh : 0.76358 (+/- 0.05330)\n",
      "Accuracy with MLPC Classifier with L= 0.004 a= 0.1 hl= (6, 6, 6) func= tanh : 0.76789 (+/- 0.04562)\n",
      "Accuracy with MLPC Classifier with L= 0.004 a= 0.1 hl= (7, 7, 7) func= tanh : 0.77816 (+/- 0.06770)\n",
      "Accuracy with MLPC Classifier with L= 0.004 a= 0.1 hl= (3,) func= relu : 0.67459 (+/- 0.02928)\n",
      "Accuracy with MLPC Classifier with L= 0.004 a= 0.1 hl= (4,) func= relu : 0.69479 (+/- 0.03179)\n",
      "Accuracy with MLPC Classifier with L= 0.004 a= 0.1 hl= (5,) func= relu : 0.68781 (+/- 0.02963)\n",
      "Accuracy with MLPC Classifier with L= 0.004 a= 0.1 hl= (6,) func= relu : 0.70715 (+/- 0.01724)\n",
      "Accuracy with MLPC Classifier with L= 0.004 a= 0.1 hl= (7,) func= relu : 0.71939 (+/- 0.03142)\n",
      "Accuracy with MLPC Classifier with L= 0.004 a= 0.1 hl= (3, 3) func= relu : 0.66381 (+/- 0.03013)\n",
      "Accuracy with MLPC Classifier with L= 0.004 a= 0.1 hl= (4, 4) func= relu : 0.73163 (+/- 0.04822)\n",
      "Accuracy with MLPC Classifier with L= 0.004 a= 0.1 hl= (5, 5) func= relu : 0.72161 (+/- 0.04293)\n",
      "Accuracy with MLPC Classifier with L= 0.004 a= 0.1 hl= (6, 6) func= relu : 0.72111 (+/- 0.02654)\n",
      "Accuracy with MLPC Classifier with L= 0.004 a= 0.1 hl= (7, 7) func= relu : 0.73764 (+/- 0.10620)\n",
      "Accuracy with MLPC Classifier with L= 0.004 a= 0.1 hl= (3, 3, 3) func= relu : 0.70447 (+/- 0.04264)\n",
      "Accuracy with MLPC Classifier with L= 0.004 a= 0.1 hl= (4, 4, 4) func= relu : 0.59563 (+/- 0.08249)\n",
      "Accuracy with MLPC Classifier with L= 0.004 a= 0.1 hl= (5, 5, 5) func= relu : 0.75699 (+/- 0.03887)\n",
      "Accuracy with MLPC Classifier with L= 0.004 a= 0.1 hl= (6, 6, 6) func= relu : 0.75062 (+/- 0.07606)\n",
      "Accuracy with MLPC Classifier with L= 0.004 a= 0.1 hl= (7, 7, 7) func= relu : 0.75759 (+/- 0.04229)\n",
      "Accuracy with MLPC Classifier with L= 0.005 a= 0.1 hl= (3,) func= logistic : 0.69943 (+/- 0.03152)\n",
      "Accuracy with MLPC Classifier with L= 0.005 a= 0.1 hl= (4,) func= logistic : 0.72772 (+/- 0.03542)\n",
      "Accuracy with MLPC Classifier with L= 0.005 a= 0.1 hl= (5,) func= logistic : 0.70079 (+/- 0.03229)\n",
      "Accuracy with MLPC Classifier with L= 0.005 a= 0.1 hl= (6,) func= logistic : 0.73126 (+/- 0.03474)\n",
      "Accuracy with MLPC Classifier with L= 0.005 a= 0.1 hl= (7,) func= logistic : 0.73152 (+/- 0.05085)\n",
      "Accuracy with MLPC Classifier with L= 0.005 a= 0.1 hl= (3, 3) func= logistic : 0.71119 (+/- 0.02203)\n",
      "Accuracy with MLPC Classifier with L= 0.005 a= 0.1 hl= (4, 4) func= logistic : 0.73935 (+/- 0.01980)\n",
      "Accuracy with MLPC Classifier with L= 0.005 a= 0.1 hl= (5, 5) func= logistic : 0.73434 (+/- 0.03831)\n",
      "Accuracy with MLPC Classifier with L= 0.005 a= 0.1 hl= (6, 6) func= logistic : 0.71255 (+/- 0.05771)\n",
      "Accuracy with MLPC Classifier with L= 0.005 a= 0.1 hl= (7, 7) func= logistic : 0.73199 (+/- 0.06189)\n",
      "Accuracy with MLPC Classifier with L= 0.005 a= 0.1 hl= (3, 3, 3) func= logistic : 0.73250 (+/- 0.02370)\n",
      "Accuracy with MLPC Classifier with L= 0.005 a= 0.1 hl= (4, 4, 4) func= logistic : 0.73250 (+/- 0.03503)\n",
      "Accuracy with MLPC Classifier with L= 0.005 a= 0.1 hl= (5, 5, 5) func= logistic : 0.75735 (+/- 0.01628)\n",
      "Accuracy with MLPC Classifier with L= 0.005 a= 0.1 hl= (6, 6, 6) func= logistic : 0.73225 (+/- 0.02244)\n",
      "Accuracy with MLPC Classifier with L= 0.005 a= 0.1 hl= (7, 7, 7) func= logistic : 0.76335 (+/- 0.03092)\n",
      "Accuracy with MLPC Classifier with L= 0.005 a= 0.1 hl= (3,) func= tanh : 0.72013 (+/- 0.03753)\n",
      "Accuracy with MLPC Classifier with L= 0.005 a= 0.1 hl= (4,) func= tanh : 0.70813 (+/- 0.02259)\n",
      "Accuracy with MLPC Classifier with L= 0.005 a= 0.1 hl= (5,) func= tanh : 0.73801 (+/- 0.02217)\n",
      "Accuracy with MLPC Classifier with L= 0.005 a= 0.1 hl= (6,) func= tanh : 0.74107 (+/- 0.05432)\n",
      "Accuracy with MLPC Classifier with L= 0.005 a= 0.1 hl= (7,) func= tanh : 0.75258 (+/- 0.06432)\n",
      "Accuracy with MLPC Classifier with L= 0.005 a= 0.1 hl= (3, 3) func= tanh : 0.71731 (+/- 0.02065)\n",
      "Accuracy with MLPC Classifier with L= 0.005 a= 0.1 hl= (4, 4) func= tanh : 0.75098 (+/- 0.02829)\n",
      "Accuracy with MLPC Classifier with L= 0.005 a= 0.1 hl= (5, 5) func= tanh : 0.73947 (+/- 0.02480)\n",
      "Accuracy with MLPC Classifier with L= 0.005 a= 0.1 hl= (6, 6) func= tanh : 0.75980 (+/- 0.04116)\n",
      "Accuracy with MLPC Classifier with L= 0.005 a= 0.1 hl= (7, 7) func= tanh : 0.74131 (+/- 0.02190)\n",
      "Accuracy with MLPC Classifier with L= 0.005 a= 0.1 hl= (3, 3, 3) func= tanh : 0.73714 (+/- 0.03407)\n",
      "Accuracy with MLPC Classifier with L= 0.005 a= 0.1 hl= (4, 4, 4) func= tanh : 0.75342 (+/- 0.02283)\n",
      "Accuracy with MLPC Classifier with L= 0.005 a= 0.1 hl= (5, 5, 5) func= tanh : 0.76443 (+/- 0.08376)\n",
      "Accuracy with MLPC Classifier with L= 0.005 a= 0.1 hl= (6, 6, 6) func= tanh : 0.77475 (+/- 0.05168)\n",
      "Accuracy with MLPC Classifier with L= 0.005 a= 0.1 hl= (7, 7, 7) func= tanh : 0.77865 (+/- 0.05711)\n",
      "Accuracy with MLPC Classifier with L= 0.005 a= 0.1 hl= (3,) func= relu : 0.66001 (+/- 0.02766)\n",
      "Accuracy with MLPC Classifier with L= 0.005 a= 0.1 hl= (4,) func= relu : 0.69455 (+/- 0.03626)\n",
      "Accuracy with MLPC Classifier with L= 0.005 a= 0.1 hl= (5,) func= relu : 0.69026 (+/- 0.03752)\n",
      "Accuracy with MLPC Classifier with L= 0.005 a= 0.1 hl= (6,) func= relu : 0.71094 (+/- 0.02856)\n",
      "Accuracy with MLPC Classifier with L= 0.005 a= 0.1 hl= (7,) func= relu : 0.72209 (+/- 0.02340)\n",
      "Accuracy with MLPC Classifier with L= 0.005 a= 0.1 hl= (3, 3) func= relu : 0.66160 (+/- 0.01997)\n",
      "Accuracy with MLPC Classifier with L= 0.005 a= 0.1 hl= (4, 4) func= relu : 0.74302 (+/- 0.03641)\n",
      "Accuracy with MLPC Classifier with L= 0.005 a= 0.1 hl= (5, 5) func= relu : 0.71647 (+/- 0.04528)\n",
      "Accuracy with MLPC Classifier with L= 0.005 a= 0.1 hl= (6, 6) func= relu : 0.71780 (+/- 0.02711)\n",
      "Accuracy with MLPC Classifier with L= 0.005 a= 0.1 hl= (7, 7) func= relu : 0.76604 (+/- 0.03224)\n",
      "Accuracy with MLPC Classifier with L= 0.005 a= 0.1 hl= (3, 3, 3) func= relu : 0.73201 (+/- 0.04561)\n",
      "Accuracy with MLPC Classifier with L= 0.005 a= 0.1 hl= (4, 4, 4) func= relu : 0.58191 (+/- 0.00054)\n",
      "Accuracy with MLPC Classifier with L= 0.005 a= 0.1 hl= (5, 5, 5) func= relu : 0.74914 (+/- 0.02703)\n",
      "Accuracy with MLPC Classifier with L= 0.005 a= 0.1 hl= (6, 6, 6) func= relu : 0.75367 (+/- 0.07522)\n",
      "Accuracy with MLPC Classifier with L= 0.005 a= 0.1 hl= (7, 7, 7) func= relu : 0.74853 (+/- 0.03522)\n",
      "Accuracy with MLPC Classifier with L= 0.006 a= 0.1 hl= (3,) func= logistic : 0.70458 (+/- 0.02580)\n",
      "Accuracy with MLPC Classifier with L= 0.006 a= 0.1 hl= (4,) func= logistic : 0.72968 (+/- 0.03037)\n",
      "Accuracy with MLPC Classifier with L= 0.006 a= 0.1 hl= (5,) func= logistic : 0.70213 (+/- 0.02882)\n",
      "Accuracy with MLPC Classifier with L= 0.006 a= 0.1 hl= (6,) func= logistic : 0.73347 (+/- 0.03325)\n",
      "Accuracy with MLPC Classifier with L= 0.006 a= 0.1 hl= (7,) func= logistic : 0.73420 (+/- 0.02872)\n",
      "Accuracy with MLPC Classifier with L= 0.006 a= 0.1 hl= (3, 3) func= logistic : 0.71021 (+/- 0.02552)\n",
      "Accuracy with MLPC Classifier with L= 0.006 a= 0.1 hl= (4, 4) func= logistic : 0.74033 (+/- 0.01874)\n",
      "Accuracy with MLPC Classifier with L= 0.006 a= 0.1 hl= (5, 5) func= logistic : 0.73825 (+/- 0.03051)\n",
      "Accuracy with MLPC Classifier with L= 0.006 a= 0.1 hl= (6, 6) func= logistic : 0.72967 (+/- 0.03957)\n",
      "Accuracy with MLPC Classifier with L= 0.006 a= 0.1 hl= (7, 7) func= logistic : 0.73296 (+/- 0.05883)\n",
      "Accuracy with MLPC Classifier with L= 0.006 a= 0.1 hl= (3, 3, 3) func= logistic : 0.73384 (+/- 0.02325)\n",
      "Accuracy with MLPC Classifier with L= 0.006 a= 0.1 hl= (4, 4, 4) func= logistic : 0.73519 (+/- 0.02443)\n",
      "Accuracy with MLPC Classifier with L= 0.006 a= 0.1 hl= (5, 5, 5) func= logistic : 0.75073 (+/- 0.04393)\n",
      "Accuracy with MLPC Classifier with L= 0.006 a= 0.1 hl= (6, 6, 6) func= logistic : 0.75869 (+/- 0.02427)\n",
      "Accuracy with MLPC Classifier with L= 0.006 a= 0.1 hl= (7, 7, 7) func= logistic : 0.75208 (+/- 0.02448)\n",
      "Accuracy with MLPC Classifier with L= 0.006 a= 0.1 hl= (3,) func= tanh : 0.71547 (+/- 0.02914)\n",
      "Accuracy with MLPC Classifier with L= 0.006 a= 0.1 hl= (4,) func= tanh : 0.70715 (+/- 0.03026)\n",
      "Accuracy with MLPC Classifier with L= 0.006 a= 0.1 hl= (5,) func= tanh : 0.74388 (+/- 0.02342)\n",
      "Accuracy with MLPC Classifier with L= 0.006 a= 0.1 hl= (6,) func= tanh : 0.74155 (+/- 0.06100)\n",
      "Accuracy with MLPC Classifier with L= 0.006 a= 0.1 hl= (7,) func= tanh : 0.75086 (+/- 0.05329)\n",
      "Accuracy with MLPC Classifier with L= 0.006 a= 0.1 hl= (3, 3) func= tanh : 0.71854 (+/- 0.01896)\n",
      "Accuracy with MLPC Classifier with L= 0.006 a= 0.1 hl= (4, 4) func= tanh : 0.74449 (+/- 0.02296)\n",
      "Accuracy with MLPC Classifier with L= 0.006 a= 0.1 hl= (5, 5) func= tanh : 0.73959 (+/- 0.02469)\n",
      "Accuracy with MLPC Classifier with L= 0.006 a= 0.1 hl= (6, 6) func= tanh : 0.76506 (+/- 0.05753)\n",
      "Accuracy with MLPC Classifier with L= 0.006 a= 0.1 hl= (7, 7) func= tanh : 0.74192 (+/- 0.02046)\n",
      "Accuracy with MLPC Classifier with L= 0.006 a= 0.1 hl= (3, 3, 3) func= tanh : 0.74449 (+/- 0.03356)\n",
      "Accuracy with MLPC Classifier with L= 0.006 a= 0.1 hl= (4, 4, 4) func= tanh : 0.75698 (+/- 0.02650)\n",
      "Accuracy with MLPC Classifier with L= 0.006 a= 0.1 hl= (5, 5, 5) func= tanh : 0.75696 (+/- 0.05333)\n",
      "Accuracy with MLPC Classifier with L= 0.006 a= 0.1 hl= (6, 6, 6) func= tanh : 0.78026 (+/- 0.05598)\n",
      "Accuracy with MLPC Classifier with L= 0.006 a= 0.1 hl= (7, 7, 7) func= tanh : 0.77716 (+/- 0.07081)\n",
      "Accuracy with MLPC Classifier with L= 0.006 a= 0.1 hl= (3,) func= relu : 0.66222 (+/- 0.03474)\n",
      "Accuracy with MLPC Classifier with L= 0.006 a= 0.1 hl= (4,) func= relu : 0.70114 (+/- 0.03949)\n",
      "Accuracy with MLPC Classifier with L= 0.006 a= 0.1 hl= (5,) func= relu : 0.69589 (+/- 0.03751)\n",
      "Accuracy with MLPC Classifier with L= 0.006 a= 0.1 hl= (6,) func= relu : 0.70838 (+/- 0.02482)\n",
      "Accuracy with MLPC Classifier with L= 0.006 a= 0.1 hl= (7,) func= relu : 0.71523 (+/- 0.03433)\n",
      "Accuracy with MLPC Classifier with L= 0.006 a= 0.1 hl= (3, 3) func= relu : 0.68646 (+/- 0.03171)\n",
      "Accuracy with MLPC Classifier with L= 0.006 a= 0.1 hl= (4, 4) func= relu : 0.72907 (+/- 0.03550)\n",
      "Accuracy with MLPC Classifier with L= 0.006 a= 0.1 hl= (5, 5) func= relu : 0.74413 (+/- 0.06130)\n",
      "Accuracy with MLPC Classifier with L= 0.006 a= 0.1 hl= (6, 6) func= relu : 0.70997 (+/- 0.02489)\n",
      "Accuracy with MLPC Classifier with L= 0.006 a= 0.1 hl= (7, 7) func= relu : 0.75551 (+/- 0.05011)\n",
      "Accuracy with MLPC Classifier with L= 0.006 a= 0.1 hl= (3, 3, 3) func= relu : 0.73654 (+/- 0.03876)\n",
      "Accuracy with MLPC Classifier with L= 0.006 a= 0.1 hl= (4, 4, 4) func= relu : 0.58191 (+/- 0.00054)\n",
      "Accuracy with MLPC Classifier with L= 0.006 a= 0.1 hl= (5, 5, 5) func= relu : 0.76984 (+/- 0.03815)\n",
      "Accuracy with MLPC Classifier with L= 0.006 a= 0.1 hl= (6, 6, 6) func= relu : 0.77207 (+/- 0.07057)\n",
      "Accuracy with MLPC Classifier with L= 0.006 a= 0.1 hl= (7, 7, 7) func= relu : 0.74621 (+/- 0.04529)\n",
      "Accuracy with MLPC Classifier with L= 0.0001 a= 0.1 hl= (3,) func= logistic : 0.66675 (+/- 0.02565)\n",
      "Accuracy with MLPC Classifier with L= 0.0001 a= 0.1 hl= (4,) func= logistic : 0.69515 (+/- 0.02807)\n",
      "Accuracy with MLPC Classifier with L= 0.0001 a= 0.1 hl= (5,) func= logistic : 0.68389 (+/- 0.02800)\n",
      "Accuracy with MLPC Classifier with L= 0.0001 a= 0.1 hl= (6,) func= logistic : 0.68278 (+/- 0.02425)\n",
      "Accuracy with MLPC Classifier with L= 0.0001 a= 0.1 hl= (7,) func= logistic : 0.68119 (+/- 0.02701)\n",
      "Accuracy with MLPC Classifier with L= 0.0001 a= 0.1 hl= (3, 3) func= logistic : 0.58191 (+/- 0.00054)\n",
      "Accuracy with MLPC Classifier with L= 0.0001 a= 0.1 hl= (4, 4) func= logistic : 0.69332 (+/- 0.02174)\n",
      "Accuracy with MLPC Classifier with L= 0.0001 a= 0.1 hl= (5, 5) func= logistic : 0.69356 (+/- 0.02386)\n",
      "Accuracy with MLPC Classifier with L= 0.0001 a= 0.1 hl= (6, 6) func= logistic : 0.68376 (+/- 0.02412)\n",
      "Accuracy with MLPC Classifier with L= 0.0001 a= 0.1 hl= (7, 7) func= logistic : 0.68254 (+/- 0.02623)\n",
      "Accuracy with MLPC Classifier with L= 0.0001 a= 0.1 hl= (3, 3, 3) func= logistic : 0.58191 (+/- 0.00054)\n",
      "Accuracy with MLPC Classifier with L= 0.0001 a= 0.1 hl= (4, 4, 4) func= logistic : 0.58191 (+/- 0.00054)\n",
      "Accuracy with MLPC Classifier with L= 0.0001 a= 0.1 hl= (5, 5, 5) func= logistic : 0.58191 (+/- 0.00054)\n",
      "Accuracy with MLPC Classifier with L= 0.0001 a= 0.1 hl= (6, 6, 6) func= logistic : 0.69111 (+/- 0.01918)\n",
      "Accuracy with MLPC Classifier with L= 0.0001 a= 0.1 hl= (7, 7, 7) func= logistic : 0.62123 (+/- 0.09652)\n",
      "Accuracy with MLPC Classifier with L= 0.0001 a= 0.1 hl= (3,) func= tanh : 0.69675 (+/- 0.02574)\n",
      "Accuracy with MLPC Classifier with L= 0.0001 a= 0.1 hl= (4,) func= tanh : 0.70446 (+/- 0.03130)\n",
      "Accuracy with MLPC Classifier with L= 0.0001 a= 0.1 hl= (5,) func= tanh : 0.70042 (+/- 0.02891)\n",
      "Accuracy with MLPC Classifier with L= 0.0001 a= 0.1 hl= (6,) func= tanh : 0.71266 (+/- 0.02541)\n",
      "Accuracy with MLPC Classifier with L= 0.0001 a= 0.1 hl= (7,) func= tanh : 0.73090 (+/- 0.02012)\n",
      "Accuracy with MLPC Classifier with L= 0.0001 a= 0.1 hl= (3, 3) func= tanh : 0.70115 (+/- 0.02072)\n",
      "Accuracy with MLPC Classifier with L= 0.0001 a= 0.1 hl= (4, 4) func= tanh : 0.71315 (+/- 0.02620)\n",
      "Accuracy with MLPC Classifier with L= 0.0001 a= 0.1 hl= (5, 5) func= tanh : 0.72759 (+/- 0.03658)\n",
      "Accuracy with MLPC Classifier with L= 0.0001 a= 0.1 hl= (6, 6) func= tanh : 0.73690 (+/- 0.03191)\n",
      "Accuracy with MLPC Classifier with L= 0.0001 a= 0.1 hl= (7, 7) func= tanh : 0.73408 (+/- 0.02300)\n",
      "Accuracy with MLPC Classifier with L= 0.0001 a= 0.1 hl= (3, 3, 3) func= tanh : 0.74498 (+/- 0.01721)\n",
      "Accuracy with MLPC Classifier with L= 0.0001 a= 0.1 hl= (4, 4, 4) func= tanh : 0.72760 (+/- 0.03058)\n",
      "Accuracy with MLPC Classifier with L= 0.0001 a= 0.1 hl= (5, 5, 5) func= tanh : 0.72502 (+/- 0.02631)\n",
      "Accuracy with MLPC Classifier with L= 0.0001 a= 0.1 hl= (6, 6, 6) func= tanh : 0.72478 (+/- 0.02322)\n",
      "Accuracy with MLPC Classifier with L= 0.0001 a= 0.1 hl= (7, 7, 7) func= tanh : 0.74327 (+/- 0.02071)\n",
      "Accuracy with MLPC Classifier with L= 0.0001 a= 0.1 hl= (3,) func= relu : 0.66198 (+/- 0.02841)\n",
      "Accuracy with MLPC Classifier with L= 0.0001 a= 0.1 hl= (4,) func= relu : 0.69969 (+/- 0.03007)\n",
      "Accuracy with MLPC Classifier with L= 0.0001 a= 0.1 hl= (5,) func= relu : 0.66956 (+/- 0.02661)\n",
      "Accuracy with MLPC Classifier with L= 0.0001 a= 0.1 hl= (6,) func= relu : 0.71511 (+/- 0.02192)\n",
      "Accuracy with MLPC Classifier with L= 0.0001 a= 0.1 hl= (7,) func= relu : 0.69135 (+/- 0.02973)\n",
      "Accuracy with MLPC Classifier with L= 0.0001 a= 0.1 hl= (3, 3) func= relu : 0.63210 (+/- 0.02658)\n",
      "Accuracy with MLPC Classifier with L= 0.0001 a= 0.1 hl= (4, 4) func= relu : 0.71780 (+/- 0.02878)\n",
      "Accuracy with MLPC Classifier with L= 0.0001 a= 0.1 hl= (5, 5) func= relu : 0.68168 (+/- 0.01770)\n",
      "Accuracy with MLPC Classifier with L= 0.0001 a= 0.1 hl= (6, 6) func= relu : 0.71951 (+/- 0.02199)\n",
      "Accuracy with MLPC Classifier with L= 0.0001 a= 0.1 hl= (7, 7) func= relu : 0.62757 (+/- 0.14651)\n",
      "Accuracy with MLPC Classifier with L= 0.0001 a= 0.1 hl= (3, 3, 3) func= relu : 0.66076 (+/- 0.02590)\n"
     ]
    }
   ],
   "source": [
    "L = [0.001,0.002,0.003,0.004,0.005,0.006,0.0001,0.00001, 0.000001]\n",
    "func = ['logistic', 'tanh', 'relu']\n",
    "hLayer = [1, 2, 3]\n",
    "neurons = [3, 4, 5, 6, 7]\n",
    "alpha = [0.1, 0.001, 0.0001, 0.00001]\n",
    "\n",
    "for a in alpha:\n",
    "    for l in L:\n",
    "        for f in func:\n",
    "            for h in hLayer:\n",
    "                for n in neurons:\n",
    "                    temp = []\n",
    "                    for i in range(h):\n",
    "                        temp.append(n)\n",
    "                    temp = tuple(temp)\n",
    "                    MLPC = MLPClassifier(random_state=0,hidden_layer_sizes=temp, learning_rate='adaptive',max_iter=10000, learning_rate_init=l, alpha=a, activation=f) \n",
    "                    scoresMLPC = cross_val_score(MLPC,X_train,y_train,cv=10,scoring='accuracy')\n",
    "                    print(\"Accuracy with MLPC Classifier with L=\",l,\"a=\", a, \"hl=\", temp, \"func=\", f, \": %0.5f (+/- %0.5f)\" % (scoresMLPC.mean(), scoresMLPC.std() * 2))\n"
   ]
  },
  {
   "cell_type": "markdown",
   "metadata": {},
   "source": [
    "<b>Accuracy with MLPC Classifier with learning_rate = 0.006, alpha = 0.1, hidden_layer= (5, 5, 5) activation_function= relu is 0.76984 (+/- 0.03815)</b>"
   ]
  },
  {
   "cell_type": "markdown",
   "metadata": {},
   "source": [
    "#### SUPPORT VECTOR MACHINE \n",
    "<b>Parameters:</b><br>\n",
    "C = {0.1, 1, 10}<br>\n",
    "degree = {2, 3, 4}<br>\n",
    "kernel = {'linear', 'poly', 'rbf', 'sigmoid'}<br>\n",
    "\n",
    "<b>Crossval Parameters:</b><br>\n",
    "cv = 10<br>\n",
    "scoring = 'accuracy'<br>"
   ]
  },
  {
   "cell_type": "code",
   "execution_count": null,
   "metadata": {
    "collapsed": false
   },
   "outputs": [
    {
     "name": "stdout",
     "output_type": "stream",
     "text": [
      "Accuracy with SVM parameters:K= linear  C= 0.1  d= 2 : 0.65855 (+/- 0.03128)\n",
      "Accuracy with SVM parameters:K= linear  C= 0.1  d= 3 : 0.65855 (+/- 0.03128)\n",
      "Accuracy with SVM parameters:K= linear  C= 0.1  d= 4 : 0.65855 (+/- 0.03128)\n",
      "Accuracy with SVM parameters:K= linear  C= 1  d= 2 : 0.65855 (+/- 0.03128)\n",
      "Accuracy with SVM parameters:K= linear  C= 1  d= 3 : 0.65855 (+/- 0.03128)\n",
      "Accuracy with SVM parameters:K= linear  C= 1  d= 4 : 0.65855 (+/- 0.03128)\n"
     ]
    }
   ],
   "source": [
    "param = ['kernel', 'C', 'degree']\n",
    "kernel = ['linear', 'poly', 'rbf', 'sigmoid']\n",
    "C = [0.1, 1, 10]\n",
    "degree = [2, 3, 4]\n",
    "\n",
    "for k in kernel:\n",
    "    for c in C:\n",
    "        for d in degree:\n",
    "            svclf = SVC(cache_size=1000, kernel=k,C=c,degree=d) # Increased Cache size for larger datasets\n",
    "            scores = cross_val_score(svclf,X_train,y_train,cv=10,scoring='accuracy')\n",
    "            print(\"Accuracy with SVM parameters:K=\",k,\" C=\", c, \" d=\", d, \": %0.5f (+/- %0.5f)\" % (scores.mean(), scores.std() * 2))"
   ]
  },
  {
   "cell_type": "markdown",
   "metadata": {},
   "source": [
    "#### Accuracy of the various models in the order of increasing accuracy:\n",
    "1. Logistic Regression     : 0.68144\n",
    "2. Naive Bayes             : 0.69467\n",
    "3. MLPC Classifer          : 0.76984\n",
    "4. Support Vector Machines : 0.65855\n",
    "5. Decision Tree Classifier: 0.99976 (ignored)\n"
   ]
  },
  {
   "cell_type": "markdown",
   "metadata": {},
   "source": [
    "#### Comparing the accuracy for all the models, we found MLPC CLASSIFIER to be the best for our dataset as it gives the best accuracy of  0.76984. "
   ]
  },
  {
   "cell_type": "markdown",
   "metadata": {},
   "source": [
    "### Running MLPClassifier on Test Data"
   ]
  },
  {
   "cell_type": "code",
   "execution_count": 17,
   "metadata": {
    "collapsed": false
   },
   "outputs": [],
   "source": [
    "MLPC = MLPClassifier(learning_rate_init = 0.006, alpha = 0.1, hidden_layer_sizes = (5, 5, 5), activation = 'relu')"
   ]
  },
  {
   "cell_type": "code",
   "execution_count": 18,
   "metadata": {
    "collapsed": false
   },
   "outputs": [
    {
     "data": {
      "text/plain": [
       "MLPClassifier(activation='relu', alpha=0.1, batch_size='auto', beta_1=0.9,\n",
       "       beta_2=0.999, early_stopping=False, epsilon=1e-08,\n",
       "       hidden_layer_sizes=(5, 5, 5), learning_rate='constant',\n",
       "       learning_rate_init=0.006, max_iter=200, momentum=0.9,\n",
       "       nesterovs_momentum=True, power_t=0.5, random_state=None,\n",
       "       shuffle=True, solver='adam', tol=0.0001, validation_fraction=0.1,\n",
       "       verbose=False, warm_start=False)"
      ]
     },
     "execution_count": 18,
     "metadata": {},
     "output_type": "execute_result"
    }
   ],
   "source": [
    "MLPC.fit(X_train, y_train)"
   ]
  },
  {
   "cell_type": "code",
   "execution_count": 19,
   "metadata": {
    "collapsed": false
   },
   "outputs": [
    {
     "name": "stdout",
     "output_type": "stream",
     "text": [
      "MLPClassifier score on Test Data is: 0.760\n"
     ]
    }
   ],
   "source": [
    "print(\"MLPClassifier score on Test Data is: %.3f\" % MLPC.score(X_test, y_test))"
   ]
  },
  {
   "cell_type": "code",
   "execution_count": 46,
   "metadata": {
    "collapsed": false
   },
   "outputs": [
    {
     "data": {
      "text/plain": [
       "array([19, '5', 6, 3], dtype=object)"
      ]
     },
     "execution_count": 46,
     "metadata": {},
     "output_type": "execute_result"
    }
   ],
   "source": [
    "X_test[0]"
   ]
  },
  {
   "cell_type": "code",
   "execution_count": 43,
   "metadata": {
    "collapsed": false
   },
   "outputs": [],
   "source": []
  },
  {
   "cell_type": "code",
   "execution_count": 48,
   "metadata": {
    "collapsed": false
   },
   "outputs": [
    {
     "name": "stdout",
     "output_type": "stream",
     "text": [
      "[1]\n"
     ]
    },
    {
     "name": "stderr",
     "output_type": "stream",
     "text": [
      "/Users/samiahmadkhan/anaconda/lib/python3.5/site-packages/sklearn/utils/validation.py:395: DeprecationWarning: Passing 1d arrays as data is deprecated in 0.17 and will raise ValueError in 0.19. Reshape your data either using X.reshape(-1, 1) if your data has a single feature or X.reshape(1, -1) if it contains a single sample.\n",
      "  DeprecationWarning)\n"
     ]
    }
   ],
   "source": [
    "Y_pred = MLPC.predict(np.array([19, '5', 6, 3], dtype=object))\n",
    "print(Y_pred)"
   ]
  },
  {
   "cell_type": "code",
   "execution_count": 34,
   "metadata": {
    "collapsed": false
   },
   "outputs": [
    {
     "name": "stderr",
     "output_type": "stream",
     "text": [
      "/Users/samiahmadkhan/anaconda/lib/python3.5/site-packages/sklearn/utils/validation.py:395: DeprecationWarning: Passing 1d arrays as data is deprecated in 0.17 and will raise ValueError in 0.19. Reshape your data either using X.reshape(-1, 1) if your data has a single feature or X.reshape(1, -1) if it contains a single sample.\n",
      "  DeprecationWarning)\n"
     ]
    },
    {
     "ename": "ValueError",
     "evalue": "Found input variables with inconsistent numbers of samples: [8168, 1]",
     "output_type": "error",
     "traceback": [
      "\u001b[0;31m---------------------------------------------------------------------------\u001b[0m",
      "\u001b[0;31mValueError\u001b[0m                                Traceback (most recent call last)",
      "\u001b[0;32m<ipython-input-34-e5908d112a4a>\u001b[0m in \u001b[0;36m<module>\u001b[0;34m()\u001b[0m\n\u001b[1;32m      1\u001b[0m \u001b[0mY_pred\u001b[0m \u001b[0;34m=\u001b[0m \u001b[0mMLPC\u001b[0m\u001b[0;34m.\u001b[0m\u001b[0mpredict\u001b[0m\u001b[0;34m(\u001b[0m\u001b[0mX_test\u001b[0m\u001b[0;34m[\u001b[0m\u001b[0;36m0\u001b[0m\u001b[0;34m]\u001b[0m\u001b[0;34m)\u001b[0m\u001b[0;34m\u001b[0m\u001b[0m\n\u001b[1;32m      2\u001b[0m \u001b[0mparam\u001b[0m \u001b[0;34m=\u001b[0m \u001b[0mMLPC\u001b[0m\u001b[0;34m.\u001b[0m\u001b[0mget_params\u001b[0m\u001b[0;34m(\u001b[0m\u001b[0mdeep\u001b[0m\u001b[0;34m=\u001b[0m\u001b[0;32mTrue\u001b[0m\u001b[0;34m)\u001b[0m\u001b[0;34m\u001b[0m\u001b[0m\n\u001b[0;32m----> 3\u001b[0;31m \u001b[0maccuracy\u001b[0m \u001b[0;34m=\u001b[0m \u001b[0mmetrics\u001b[0m\u001b[0;34m.\u001b[0m\u001b[0maccuracy_score\u001b[0m\u001b[0;34m(\u001b[0m\u001b[0my_train\u001b[0m\u001b[0;34m,\u001b[0m \u001b[0mY_pred\u001b[0m\u001b[0;34m)\u001b[0m\u001b[0;34m\u001b[0m\u001b[0m\n\u001b[0m\u001b[1;32m      4\u001b[0m \u001b[0;34m\u001b[0m\u001b[0m\n\u001b[1;32m      5\u001b[0m \u001b[0mprint\u001b[0m\u001b[0;34m(\u001b[0m\u001b[0;34m\"Accuracy of MLPClassifier using metrics: %.3f\"\u001b[0m \u001b[0;34m%\u001b[0m \u001b[0maccuracy\u001b[0m\u001b[0;34m)\u001b[0m\u001b[0;34m\u001b[0m\u001b[0m\n",
      "\u001b[0;32m/Users/samiahmadkhan/anaconda/lib/python3.5/site-packages/sklearn/metrics/classification.py\u001b[0m in \u001b[0;36maccuracy_score\u001b[0;34m(y_true, y_pred, normalize, sample_weight)\u001b[0m\n\u001b[1;32m    170\u001b[0m \u001b[0;34m\u001b[0m\u001b[0m\n\u001b[1;32m    171\u001b[0m     \u001b[0;31m# Compute accuracy for each possible representation\u001b[0m\u001b[0;34m\u001b[0m\u001b[0;34m\u001b[0m\u001b[0m\n\u001b[0;32m--> 172\u001b[0;31m     \u001b[0my_type\u001b[0m\u001b[0;34m,\u001b[0m \u001b[0my_true\u001b[0m\u001b[0;34m,\u001b[0m \u001b[0my_pred\u001b[0m \u001b[0;34m=\u001b[0m \u001b[0m_check_targets\u001b[0m\u001b[0;34m(\u001b[0m\u001b[0my_true\u001b[0m\u001b[0;34m,\u001b[0m \u001b[0my_pred\u001b[0m\u001b[0;34m)\u001b[0m\u001b[0;34m\u001b[0m\u001b[0m\n\u001b[0m\u001b[1;32m    173\u001b[0m     \u001b[0;32mif\u001b[0m \u001b[0my_type\u001b[0m\u001b[0;34m.\u001b[0m\u001b[0mstartswith\u001b[0m\u001b[0;34m(\u001b[0m\u001b[0;34m'multilabel'\u001b[0m\u001b[0;34m)\u001b[0m\u001b[0;34m:\u001b[0m\u001b[0;34m\u001b[0m\u001b[0m\n\u001b[1;32m    174\u001b[0m         \u001b[0mdiffering_labels\u001b[0m \u001b[0;34m=\u001b[0m \u001b[0mcount_nonzero\u001b[0m\u001b[0;34m(\u001b[0m\u001b[0my_true\u001b[0m \u001b[0;34m-\u001b[0m \u001b[0my_pred\u001b[0m\u001b[0;34m,\u001b[0m \u001b[0maxis\u001b[0m\u001b[0;34m=\u001b[0m\u001b[0;36m1\u001b[0m\u001b[0;34m)\u001b[0m\u001b[0;34m\u001b[0m\u001b[0m\n",
      "\u001b[0;32m/Users/samiahmadkhan/anaconda/lib/python3.5/site-packages/sklearn/metrics/classification.py\u001b[0m in \u001b[0;36m_check_targets\u001b[0;34m(y_true, y_pred)\u001b[0m\n\u001b[1;32m     70\u001b[0m     \u001b[0my_pred\u001b[0m \u001b[0;34m:\u001b[0m \u001b[0marray\u001b[0m \u001b[0;32mor\u001b[0m \u001b[0mindicator\u001b[0m \u001b[0mmatrix\u001b[0m\u001b[0;34m\u001b[0m\u001b[0m\n\u001b[1;32m     71\u001b[0m     \"\"\"\n\u001b[0;32m---> 72\u001b[0;31m     \u001b[0mcheck_consistent_length\u001b[0m\u001b[0;34m(\u001b[0m\u001b[0my_true\u001b[0m\u001b[0;34m,\u001b[0m \u001b[0my_pred\u001b[0m\u001b[0;34m)\u001b[0m\u001b[0;34m\u001b[0m\u001b[0m\n\u001b[0m\u001b[1;32m     73\u001b[0m     \u001b[0mtype_true\u001b[0m \u001b[0;34m=\u001b[0m \u001b[0mtype_of_target\u001b[0m\u001b[0;34m(\u001b[0m\u001b[0my_true\u001b[0m\u001b[0;34m)\u001b[0m\u001b[0;34m\u001b[0m\u001b[0m\n\u001b[1;32m     74\u001b[0m     \u001b[0mtype_pred\u001b[0m \u001b[0;34m=\u001b[0m \u001b[0mtype_of_target\u001b[0m\u001b[0;34m(\u001b[0m\u001b[0my_pred\u001b[0m\u001b[0;34m)\u001b[0m\u001b[0;34m\u001b[0m\u001b[0m\n",
      "\u001b[0;32m/Users/samiahmadkhan/anaconda/lib/python3.5/site-packages/sklearn/utils/validation.py\u001b[0m in \u001b[0;36mcheck_consistent_length\u001b[0;34m(*arrays)\u001b[0m\n\u001b[1;32m    179\u001b[0m     \u001b[0;32mif\u001b[0m \u001b[0mlen\u001b[0m\u001b[0;34m(\u001b[0m\u001b[0muniques\u001b[0m\u001b[0;34m)\u001b[0m \u001b[0;34m>\u001b[0m \u001b[0;36m1\u001b[0m\u001b[0;34m:\u001b[0m\u001b[0;34m\u001b[0m\u001b[0m\n\u001b[1;32m    180\u001b[0m         raise ValueError(\"Found input variables with inconsistent numbers of\"\n\u001b[0;32m--> 181\u001b[0;31m                          \" samples: %r\" % [int(l) for l in lengths])\n\u001b[0m\u001b[1;32m    182\u001b[0m \u001b[0;34m\u001b[0m\u001b[0m\n\u001b[1;32m    183\u001b[0m \u001b[0;34m\u001b[0m\u001b[0m\n",
      "\u001b[0;31mValueError\u001b[0m: Found input variables with inconsistent numbers of samples: [8168, 1]"
     ]
    }
   ],
   "source": [
    "Y_pred = MLPC.predict(X_test[0])\n",
    "param = MLPC.get_params(deep=True)\n",
    "accuracy = metrics.accuracy_score(y_train, Y_pred)\n",
    "\n",
    "print(\"Accuracy of MLPClassifier using metrics: %.3f\" % accuracy)\n",
    "print(param)"
   ]
  },
  {
   "cell_type": "markdown",
   "metadata": {},
   "source": [
    "### FINAL COMMENTS:\n",
    "\n",
    "Accuracy Score for MLPC on Test Data = <b>0.698</b>"
   ]
  },
  {
   "cell_type": "code",
   "execution_count": null,
   "metadata": {
    "collapsed": true
   },
   "outputs": [],
   "source": []
  },
  {
   "cell_type": "code",
   "execution_count": null,
   "metadata": {
    "collapsed": true
   },
   "outputs": [],
   "source": []
  }
 ],
 "metadata": {
  "anaconda-cloud": {},
  "kernelspec": {
   "display_name": "Python [default]",
   "language": "python",
   "name": "python3"
  },
  "language_info": {
   "codemirror_mode": {
    "name": "ipython",
    "version": 3
   },
   "file_extension": ".py",
   "mimetype": "text/x-python",
   "name": "python",
   "nbconvert_exporter": "python",
   "pygments_lexer": "ipython3",
   "version": "3.5.2"
  }
 },
 "nbformat": 4,
 "nbformat_minor": 1
}
